{
 "cells": [
  {
   "cell_type": "code",
   "execution_count": 4,
   "id": "87f11e8b",
   "metadata": {},
   "outputs": [],
   "source": [
    "import ssl\n",
    "\n",
    "import pandas as pd\n",
    "from sklearn.neighbors import KNeighborsClassifier\n",
    "\n",
    "ssl._create_default_https_context = ssl._create_unverified_context"
   ]
  },
  {
   "cell_type": "code",
   "execution_count": 3,
   "id": "ef645809",
   "metadata": {},
   "outputs": [],
   "source": [
    "X = pd.read_csv(\n",
    "    'https://raw.githubusercontent.com/INRIA/scikit-learn-mooc/main/'\n",
    "    'datasets/adult-census-numeric.csv')\n",
    "y = X.pop('class')"
   ]
  },
  {
   "cell_type": "code",
   "execution_count": 5,
   "id": "54fa9026",
   "metadata": {},
   "outputs": [],
   "source": [
    "mod = KNeighborsClassifier(n_neighbors=50).fit(X, y)"
   ]
  },
  {
   "cell_type": "code",
   "execution_count": 7,
   "id": "759cc9a3",
   "metadata": {},
   "outputs": [],
   "source": [
    "fitted = mod.predict(X)"
   ]
  },
  {
   "cell_type": "code",
   "execution_count": 8,
   "id": "bb336642",
   "metadata": {},
   "outputs": [
    {
     "data": {
      "text/plain": [
       "0.8290635477183733"
      ]
     },
     "execution_count": 8,
     "metadata": {},
     "output_type": "execute_result"
    }
   ],
   "source": [
    "acc = (fitted == y).sum() / len(y)\n",
    "acc"
   ]
  },
  {
   "cell_type": "code",
   "execution_count": 12,
   "id": "aef11b7a",
   "metadata": {},
   "outputs": [],
   "source": [
    "X_test = pd.read_csv(\n",
    "    'https://raw.githubusercontent.com/INRIA/scikit-learn-mooc/main/'\n",
    "    'datasets/adult-census-numeric-test.csv')\n",
    "y_test = X_test.pop('class')\n",
    "preds = mod.predict(X_test)"
   ]
  },
  {
   "cell_type": "code",
   "execution_count": 13,
   "id": "b4106b39",
   "metadata": {},
   "outputs": [
    {
     "data": {
      "text/plain": [
       "0.8194288054048521"
      ]
     },
     "execution_count": 13,
     "metadata": {},
     "output_type": "execute_result"
    }
   ],
   "source": [
    "training_acc = mod.score(X_test, y_test)\n",
    "training_acc"
   ]
  },
  {
   "cell_type": "code",
   "execution_count": null,
   "id": "7a3a2dff",
   "metadata": {},
   "outputs": [],
   "source": []
  }
 ],
 "metadata": {
  "kernelspec": {
   "display_name": "Python 3 (ipykernel)",
   "language": "python",
   "name": "python3"
  },
  "language_info": {
   "codemirror_mode": {
    "name": "ipython",
    "version": 3
   },
   "file_extension": ".py",
   "mimetype": "text/x-python",
   "name": "python",
   "nbconvert_exporter": "python",
   "pygments_lexer": "ipython3",
   "version": "3.11.3"
  }
 },
 "nbformat": 4,
 "nbformat_minor": 5
}
