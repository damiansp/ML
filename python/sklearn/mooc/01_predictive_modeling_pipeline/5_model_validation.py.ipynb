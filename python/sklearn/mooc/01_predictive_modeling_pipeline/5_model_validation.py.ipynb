{
 "cells": [
  {
   "cell_type": "code",
   "execution_count": 6,
   "id": "3c1e437a",
   "metadata": {},
   "outputs": [],
   "source": [
    "from sklearn.datasets import load_digits\n",
    "from sklearn.model_selection import (\n",
    "    cross_val_score, KFold, train_test_split)"
   ]
  },
  {
   "cell_type": "code",
   "execution_count": 2,
   "id": "949f7f37",
   "metadata": {},
   "outputs": [],
   "source": [
    "digits = load_digits()\n",
    "data = digits.images[30:70].reshape((4, 10, -1))"
   ]
  },
  {
   "cell_type": "code",
   "execution_count": 4,
   "id": "4779262c",
   "metadata": {},
   "outputs": [
    {
     "data": {
      "text/plain": [
       "array([[[ 0.,  0., 10., ...,  3.,  0.,  0.],\n",
       "        [ 0.,  0.,  2., ..., 14., 13.,  2.],\n",
       "        [ 0.,  2., 13., ...,  0.,  0.,  0.],\n",
       "        ...,\n",
       "        [ 0.,  0., 13., ..., 16., 13.,  0.],\n",
       "        [ 0.,  0.,  7., ...,  0.,  0.,  0.],\n",
       "        [ 0.,  1.,  9., ..., 10.,  1.,  0.]],\n",
       "\n",
       "       [[ 0.,  0., 11., ...,  4.,  0.,  0.],\n",
       "        [ 0.,  0.,  0., ...,  2.,  0.,  0.],\n",
       "        [ 0.,  0.,  0., ...,  8.,  0.,  0.],\n",
       "        ...,\n",
       "        [ 0.,  0.,  0., ...,  6.,  0.,  0.],\n",
       "        [ 0.,  0.,  2., ...,  6.,  0.,  0.],\n",
       "        [ 0.,  0.,  1., ...,  8.,  0.,  0.]],\n",
       "\n",
       "       [[ 0.,  0.,  0., ..., 13.,  3.,  0.],\n",
       "        [ 0.,  0.,  0., ..., 14.,  7.,  0.],\n",
       "        [ 0.,  0.,  3., ...,  0.,  0.,  0.],\n",
       "        ...,\n",
       "        [ 0.,  0.,  0., ..., 13.,  3.,  0.],\n",
       "        [ 0.,  0.,  0., ..., 15.,  5.,  0.],\n",
       "        [ 0.,  1., 10., ..., 10.,  0.,  0.]],\n",
       "\n",
       "       [[ 0.,  0., 10., ..., 11.,  2.,  0.],\n",
       "        [ 0.,  0.,  6., ...,  0.,  0.,  0.],\n",
       "        [ 0.,  0., 14., ..., 10.,  1.,  0.],\n",
       "        ...,\n",
       "        [ 0.,  0.,  5., ..., 12.,  7.,  0.],\n",
       "        [ 0.,  0.,  0., ...,  5.,  0.,  0.],\n",
       "        [ 0.,  0.,  6., ...,  0.,  0.,  0.]]])"
      ]
     },
     "execution_count": 4,
     "metadata": {},
     "output_type": "execute_result"
    }
   ],
   "source": [
    "data"
   ]
  },
  {
   "cell_type": "code",
   "execution_count": null,
   "id": "a32e25ba",
   "metadata": {},
   "outputs": [],
   "source": [
    "X_train, X_test, y_train, y_test = test_train_split(\n",
    "    data, target, test_size=0.2, shuffle=False)"
   ]
  },
  {
   "cell_type": "code",
   "execution_count": null,
   "id": "a17fde60",
   "metadata": {},
   "outputs": [],
   "source": [
    "cv = KFold(n_splits=5, shuffle=False)\n",
    "test_scores = cross_val_score(mod, data, target, cv=cv)"
   ]
  }
 ],
 "metadata": {
  "kernelspec": {
   "display_name": "Python 3 (ipykernel)",
   "language": "python",
   "name": "python3"
  },
  "language_info": {
   "codemirror_mode": {
    "name": "ipython",
    "version": 3
   },
   "file_extension": ".py",
   "mimetype": "text/x-python",
   "name": "python",
   "nbconvert_exporter": "python",
   "pygments_lexer": "ipython3",
   "version": "3.11.3"
  }
 },
 "nbformat": 4,
 "nbformat_minor": 5
}
