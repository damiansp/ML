{
 "cells": [
  {
   "cell_type": "markdown",
   "metadata": {},
   "source": [
    "# Assessing Fit (Polynomial Regression)\n",
    "\n",
    "### Imports"
   ]
  },
  {
   "cell_type": "code",
   "execution_count": 52,
   "metadata": {
    "collapsed": true
   },
   "outputs": [],
   "source": [
    "import matplotlib.pyplot as plt\n",
    "import numpy as np\n",
    "import pandas as pd\n",
    "from sklearn.linear_model import LinearRegression\n",
    "from sklearn.preprocessing import PolynomialFeatures\n",
    "\n",
    "%matplotlib inline"
   ]
  },
  {
   "cell_type": "markdown",
   "metadata": {},
   "source": [
    "## Polynomial Numpy Array Function\n",
    "For a vector of data, create an array with columns: vector, vector^2, vector^3, ..., vector^degree"
   ]
  },
  {
   "cell_type": "code",
   "execution_count": 38,
   "metadata": {
    "collapsed": false
   },
   "outputs": [],
   "source": [
    "def polynomial_df(feature, degree):\n",
    "    ''' \n",
    "    For a vector of data, 'feature' create an array with columns: feature, feature^2, feature^3, ..., feature^degree\n",
    "    '''\n",
    "    # assume that degree >= 1\n",
    "    # initialize the array:\n",
    "    poly_data = pd.DataFrame({ 'd1': feature })\n",
    "    \n",
    "    for d in range(2, degree + 1):\n",
    "        col_name = 'd' + str(d)\n",
    "        new_data = pd.DataFrame({ col_name: poly_data['d1'] ** d })\n",
    "        poly_data = pd.concat([poly_data, new_data], axis = 1)\n",
    "\n",
    "    return poly_data"
   ]
  },
  {
   "cell_type": "code",
   "execution_count": 39,
   "metadata": {
    "collapsed": false
   },
   "outputs": [
    {
     "data": {
      "text/html": [
       "<div>\n",
       "<table border=\"1\" class=\"dataframe\">\n",
       "  <thead>\n",
       "    <tr style=\"text-align: right;\">\n",
       "      <th></th>\n",
       "      <th>d1</th>\n",
       "      <th>d2</th>\n",
       "      <th>d3</th>\n",
       "      <th>d4</th>\n",
       "    </tr>\n",
       "  </thead>\n",
       "  <tbody>\n",
       "    <tr>\n",
       "      <th>0</th>\n",
       "      <td>0</td>\n",
       "      <td>0</td>\n",
       "      <td>0</td>\n",
       "      <td>0</td>\n",
       "    </tr>\n",
       "    <tr>\n",
       "      <th>1</th>\n",
       "      <td>1</td>\n",
       "      <td>1</td>\n",
       "      <td>1</td>\n",
       "      <td>1</td>\n",
       "    </tr>\n",
       "    <tr>\n",
       "      <th>2</th>\n",
       "      <td>2</td>\n",
       "      <td>4</td>\n",
       "      <td>8</td>\n",
       "      <td>16</td>\n",
       "    </tr>\n",
       "    <tr>\n",
       "      <th>3</th>\n",
       "      <td>3</td>\n",
       "      <td>9</td>\n",
       "      <td>27</td>\n",
       "      <td>81</td>\n",
       "    </tr>\n",
       "  </tbody>\n",
       "</table>\n",
       "</div>"
      ],
      "text/plain": [
       "   d1  d2  d3  d4\n",
       "0   0   0   0   0\n",
       "1   1   1   1   1\n",
       "2   2   4   8  16\n",
       "3   3   9  27  81"
      ]
     },
     "execution_count": 39,
     "metadata": {},
     "output_type": "execute_result"
    }
   ],
   "source": [
    "# TEST:\n",
    "feature = [0, 1, 2, 3]\n",
    "degree = 4\n",
    "polynomial_df(feature, degree)"
   ]
  },
  {
   "cell_type": "markdown",
   "metadata": {},
   "source": [
    "## sklearn built-in function\n",
    "\n",
    "sklearn.preprocessing.PolynomialFeatures does essentially the same thing:"
   ]
  },
  {
   "cell_type": "code",
   "execution_count": 49,
   "metadata": {
    "collapsed": false
   },
   "outputs": [
    {
     "data": {
      "text/plain": [
       "array([[  1.,   0.,   0.,   0.,   0.],\n",
       "       [  1.,   1.,   1.,   1.,   1.],\n",
       "       [  1.,   2.,   4.,   8.,  16.],\n",
       "       [  1.,   3.,   9.,  27.,  81.]])"
      ]
     },
     "execution_count": 49,
     "metadata": {},
     "output_type": "execute_result"
    }
   ],
   "source": [
    "degree = 4\n",
    "feature = np.array(feature).reshape(4, 1)\n",
    "poly = PolynomialFeatures(degree)\n",
    "poly.fit_transform(feature)"
   ]
  },
  {
   "cell_type": "markdown",
   "metadata": {},
   "source": [
    "# Visualizing Polynomial Regression\n",
    "### Load data"
   ]
  },
  {
   "cell_type": "code",
   "execution_count": 60,
   "metadata": {
    "collapsed": false
   },
   "outputs": [],
   "source": [
    "sales = pd.read_csv('../../../data/kc_house_data.csv')\n",
    "X = sales['sqft_living'].reshape(-1, 1)\n",
    "y = sales['price']"
   ]
  },
  {
   "cell_type": "code",
   "execution_count": 61,
   "metadata": {
    "collapsed": false
   },
   "outputs": [
    {
     "data": {
      "text/plain": [
       "LinearRegression(copy_X=True, fit_intercept=True, n_jobs=1, normalize=False)"
      ]
     },
     "execution_count": 61,
     "metadata": {},
     "output_type": "execute_result"
    }
   ],
   "source": [
    "# Model price by sqft_living\n",
    "mod_d1 = LinearRegression()\n",
    "mod_d1.fit(X, y)"
   ]
  },
  {
   "cell_type": "code",
   "execution_count": 63,
   "metadata": {
    "collapsed": false
   },
   "outputs": [
    {
     "name": "stdout",
     "output_type": "stream",
     "text": [
      "Intercept: -43580.74, sqft_living: 280.62\n"
     ]
    }
   ],
   "source": [
    "# Examine coeffs\n",
    "print('Intercept: %.2f, sqft_living: %.2f' %(mod_d1.intercept_, mod_d1.coef_[0]))"
   ]
  },
  {
   "cell_type": "code",
   "execution_count": 85,
   "metadata": {
    "collapsed": false
   },
   "outputs": [
    {
     "data": {
      "image/png": "[encoded data removed]",
      "text/plain": [
       "<matplotlib.figure.Figure at 0x11c1f4290>"
      ]
     },
     "metadata": {},
     "output_type": "display_data"
    }
   ],
   "source": [
    "# Plot fit\n",
    "xv = np.array(range(14000)).reshape(-1, 1)\n",
    "plt.scatter(X, y, marker = '.', color = 'blue', alpha = 0.05);\n",
    "plt.plot(xv, mod_d1.predict(xv), 'r-')\n",
    "plt.xlabel('Square Feet');\n",
    "plt.ylabel('Price');"
   ]
  },
  {
   "cell_type": "code",
   "execution_count": 86,
   "metadata": {
    "collapsed": false
   },
   "outputs": [
    {
     "data": {
      "text/plain": [
       "array([[  1.00000000e+00,   1.18000000e+03,   1.39240000e+06],\n",
       "       [  1.00000000e+00,   2.57000000e+03,   6.60490000e+06],\n",
       "       [  1.00000000e+00,   7.70000000e+02,   5.92900000e+05],\n",
       "       [  1.00000000e+00,   1.96000000e+03,   3.84160000e+06],\n",
       "       [  1.00000000e+00,   1.68000000e+03,   2.82240000e+06],\n",
       "       [  1.00000000e+00,   5.42000000e+03,   2.93764000e+07],\n",
       "       [  1.00000000e+00,   1.71500000e+03,   2.94122500e+06],\n",
       "       [  1.00000000e+00,   1.06000000e+03,   1.12360000e+06],\n",
       "       [  1.00000000e+00,   1.78000000e+03,   3.16840000e+06],\n",
       "       [  1.00000000e+00,   1.89000000e+03,   3.57210000e+06]])"
      ]
     },
     "execution_count": 86,
     "metadata": {},
     "output_type": "execute_result"
    }
   ],
   "source": [
    "# Get squared data and refit model with both features:\n",
    "poly = PolynomialFeatures(2)\n",
    "X2 = poly.fit_transform(X)\n",
    "X2[:10, ]"
   ]
  },
  {
   "cell_type": "code",
   "execution_count": 87,
   "metadata": {
    "collapsed": false
   },
   "outputs": [
    {
     "name": "stdout",
     "output_type": "stream",
     "text": [
      "Intercept: 199222.28, sfl: 67.99, slf^2: 0.04\n"
     ]
    }
   ],
   "source": [
    "mod_d2 = LinearRegression()\n",
    "mod_d2.fit(X2, y)\n",
    "\n",
    "# Examine coeffs\n",
    "print('Intercept: %.2f, sfl: %.2f, slf^2: %.2f'%(mod_d2.intercept_, mod_d2.coef_[1], mod_d2.coef_[2]))"
   ]
  },
  {
   "cell_type": "code",
   "execution_count": 91,
   "metadata": {
    "collapsed": false
   },
   "outputs": [
    {
     "data": {
      "image/png": "[encoded data removed]",
      "text/plain": [
       "<matplotlib.figure.Figure at 0x11b102850>"
      ]
     },
     "metadata": {},
     "output_type": "display_data"
    }
   ],
   "source": [
    "# Plot fit\n",
    "xv2 = poly.fit_transform(xv)\n",
    "plt.scatter(X, y, marker = '.', color = 'blue', alpha = 0.05);\n",
    "plt.plot(xv, mod_d2.predict(xv2), 'r-');\n",
    "plt.xlabel('Square Feet');\n",
    "plt.ylabel('Price');"
   ]
  },
  {
   "cell_type": "code",
   "execution_count": null,
   "metadata": {
    "collapsed": true
   },
   "outputs": [],
   "source": []
  }
 ],
 "metadata": {
  "kernelspec": {
   "display_name": "Python 2",
   "language": "python",
   "name": "python2"
  },
  "language_info": {
   "codemirror_mode": {
    "name": "ipython",
    "version": 2
   },
   "file_extension": ".py",
   "mimetype": "text/x-python",
   "name": "python",
   "nbconvert_exporter": "python",
   "pygments_lexer": "ipython2",
   "version": "2.7.11"
  }
 },
 "nbformat": 4,
 "nbformat_minor": 0
}
