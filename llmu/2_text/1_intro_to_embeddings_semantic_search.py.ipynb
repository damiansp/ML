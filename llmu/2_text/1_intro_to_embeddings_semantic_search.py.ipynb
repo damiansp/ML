{
 "cells": [
  {
   "cell_type": "code",
   "execution_count": 1,
   "id": "11e3ed14",
   "metadata": {},
   "outputs": [],
   "source": [
    "import json\n",
    "import ssl\n",
    "\n",
    "import altair as alt\n",
    "import cohere\n",
    "import matplotlib.pyplot as plt\n",
    "import numpy as np\n",
    "import pandas as pd\n",
    "from sklearn.cluster import KMeans\n",
    "from sklearn.decomposition import PCA\n",
    "from sklearn.metrics.pairwise import cosine_similarity\n",
    "\n",
    "ssl._create_default_https_context = ssl._create_unverified_context"
   ]
  },
  {
   "cell_type": "code",
   "execution_count": 2,
   "id": "0f932814",
   "metadata": {},
   "outputs": [],
   "source": [
    "with open('../keys.json', 'r') as f:\n",
    "    api_key = json.load(f)['trial_api_key']"
   ]
  },
  {
   "cell_type": "code",
   "execution_count": 3,
   "id": "12e95dd8",
   "metadata": {},
   "outputs": [],
   "source": [
    "co = cohere.Client(api_key)"
   ]
  },
  {
   "cell_type": "code",
   "execution_count": 4,
   "id": "a05bcdc0",
   "metadata": {},
   "outputs": [
    {
     "name": "stdout",
     "output_type": "stream",
     "text": [
      "(4834, 2)\n"
     ]
    },
    {
     "data": {
      "text/html": [
       "<div>\n",
       "<style scoped>\n",
       "    .dataframe tbody tr th:only-of-type {\n",
       "        vertical-align: middle;\n",
       "    }\n",
       "\n",
       "    .dataframe tbody tr th {\n",
       "        vertical-align: top;\n",
       "    }\n",
       "\n",
       "    .dataframe thead th {\n",
       "        text-align: right;\n",
       "    }\n",
       "</style>\n",
       "<table border=\"1\" class=\"dataframe\">\n",
       "  <thead>\n",
       "    <tr style=\"text-align: right;\">\n",
       "      <th></th>\n",
       "      <th>intent</th>\n",
       "      <th>query</th>\n",
       "    </tr>\n",
       "  </thead>\n",
       "  <tbody>\n",
       "    <tr>\n",
       "      <th>0</th>\n",
       "      <td>atis_flight</td>\n",
       "      <td>i want to fly from boston at 838 am and arriv...</td>\n",
       "    </tr>\n",
       "    <tr>\n",
       "      <th>1</th>\n",
       "      <td>atis_flight</td>\n",
       "      <td>what flights are available from pittsburgh to...</td>\n",
       "    </tr>\n",
       "    <tr>\n",
       "      <th>2</th>\n",
       "      <td>atis_flight_time</td>\n",
       "      <td>what is the arrival time in san francisco for...</td>\n",
       "    </tr>\n",
       "    <tr>\n",
       "      <th>3</th>\n",
       "      <td>atis_airfare</td>\n",
       "      <td>cheapest airfare from tacoma to orlando</td>\n",
       "    </tr>\n",
       "    <tr>\n",
       "      <th>4</th>\n",
       "      <td>atis_airfare</td>\n",
       "      <td>round trip fares from pittsburgh to philadelp...</td>\n",
       "    </tr>\n",
       "  </tbody>\n",
       "</table>\n",
       "</div>"
      ],
      "text/plain": [
       "             intent                                              query\n",
       "0       atis_flight   i want to fly from boston at 838 am and arriv...\n",
       "1       atis_flight   what flights are available from pittsburgh to...\n",
       "2  atis_flight_time   what is the arrival time in san francisco for...\n",
       "3      atis_airfare            cheapest airfare from tacoma to orlando\n",
       "4      atis_airfare   round trip fares from pittsburgh to philadelp..."
      ]
     },
     "execution_count": 4,
     "metadata": {},
     "output_type": "execute_result"
    }
   ],
   "source": [
    "df_orig = pd.read_csv(\n",
    "    'https://raw.githubusercontent.com/cohere-ai/notebooks/main/'\n",
    "    'notebooks/data/atis_intents_train.csv', \n",
    "    names=['intent','query'])\n",
    "print(df_orig.shape)\n",
    "df_orig.head()"
   ]
  },
  {
   "cell_type": "code",
   "execution_count": 5,
   "id": "11907ee9",
   "metadata": {},
   "outputs": [
    {
     "data": {
      "text/plain": [
       "array(['atis_airfare', 'atis_ground_service', 'atis_airline'],\n",
       "      dtype=object)"
      ]
     },
     "execution_count": 5,
     "metadata": {},
     "output_type": "execute_result"
    }
   ],
   "source": [
    "sample_classes = ['atis_airfare', 'atis_airline', 'atis_ground_service']\n",
    "df = df_orig[df_orig.intent.isin(sample_classes)].copy()\n",
    "df.intent.unique()"
   ]
  },
  {
   "cell_type": "code",
   "execution_count": 6,
   "id": "777372ca",
   "metadata": {},
   "outputs": [
    {
     "name": "stdout",
     "output_type": "stream",
     "text": [
      "(84, 1)\n"
     ]
    },
    {
     "data": {
      "text/html": [
       "<div>\n",
       "<style scoped>\n",
       "    .dataframe tbody tr th:only-of-type {\n",
       "        vertical-align: middle;\n",
       "    }\n",
       "\n",
       "    .dataframe tbody tr th {\n",
       "        vertical-align: top;\n",
       "    }\n",
       "\n",
       "    .dataframe thead th {\n",
       "        text-align: right;\n",
       "    }\n",
       "</style>\n",
       "<table border=\"1\" class=\"dataframe\">\n",
       "  <thead>\n",
       "    <tr style=\"text-align: right;\">\n",
       "      <th></th>\n",
       "      <th>query</th>\n",
       "    </tr>\n",
       "  </thead>\n",
       "  <tbody>\n",
       "    <tr>\n",
       "      <th>0</th>\n",
       "      <td>what kind of ground transportation is there i...</td>\n",
       "    </tr>\n",
       "    <tr>\n",
       "      <th>1</th>\n",
       "      <td>dl 296 denver to philadelphia what is the fare</td>\n",
       "    </tr>\n",
       "    <tr>\n",
       "      <th>2</th>\n",
       "      <td>tell me about ground transportation in st. pe...</td>\n",
       "    </tr>\n",
       "    <tr>\n",
       "      <th>3</th>\n",
       "      <td>i'd like to have some information on a ticket...</td>\n",
       "    </tr>\n",
       "    <tr>\n",
       "      <th>4</th>\n",
       "      <td>could you tell me about ground transportation...</td>\n",
       "    </tr>\n",
       "  </tbody>\n",
       "</table>\n",
       "</div>"
      ],
      "text/plain": [
       "                                               query\n",
       "0   what kind of ground transportation is there i...\n",
       "1     dl 296 denver to philadelphia what is the fare\n",
       "2   tell me about ground transportation in st. pe...\n",
       "3   i'd like to have some information on a ticket...\n",
       "4   could you tell me about ground transportation..."
      ]
     },
     "execution_count": 6,
     "metadata": {},
     "output_type": "execute_result"
    }
   ],
   "source": [
    "df = df.sample(frac=0.1, random_state=1445)\n",
    "df.reset_index(drop=True, inplace=True)\n",
    "df_orig = df_orig.drop(df.index)  # ? why?\n",
    "intents = df.pop('intent')\n",
    "print(df.shape)\n",
    "df.head()"
   ]
  },
  {
   "cell_type": "code",
   "execution_count": 7,
   "id": "ce142f9a",
   "metadata": {},
   "outputs": [
    {
     "data": {
      "text/plain": [
       "array(['atis_ground_service', 'atis_airfare', 'atis_airline'],\n",
       "      dtype=object)"
      ]
     },
     "execution_count": 7,
     "metadata": {},
     "output_type": "execute_result"
    }
   ],
   "source": [
    "intents.unique()"
   ]
  },
  {
   "cell_type": "code",
   "execution_count": 8,
   "id": "af162e98",
   "metadata": {},
   "outputs": [],
   "source": [
    "def get_embeddings(\n",
    "        texts: list,\n",
    "        model='embed-english-v3.0',\n",
    "        input_type='search_document'):\n",
    "    output = co.embed(model=model, input_type=input_type, texts=texts)\n",
    "    return output.embeddings"
   ]
  },
  {
   "cell_type": "code",
   "execution_count": 9,
   "id": "24507d28",
   "metadata": {},
   "outputs": [
    {
     "data": {
      "text/html": [
       "<div>\n",
       "<style scoped>\n",
       "    .dataframe tbody tr th:only-of-type {\n",
       "        vertical-align: middle;\n",
       "    }\n",
       "\n",
       "    .dataframe tbody tr th {\n",
       "        vertical-align: top;\n",
       "    }\n",
       "\n",
       "    .dataframe thead th {\n",
       "        text-align: right;\n",
       "    }\n",
       "</style>\n",
       "<table border=\"1\" class=\"dataframe\">\n",
       "  <thead>\n",
       "    <tr style=\"text-align: right;\">\n",
       "      <th></th>\n",
       "      <th>query</th>\n",
       "      <th>query_emb</th>\n",
       "    </tr>\n",
       "  </thead>\n",
       "  <tbody>\n",
       "    <tr>\n",
       "      <th>0</th>\n",
       "      <td>what kind of ground transportation is there i...</td>\n",
       "      <td>[-0.025222778, 0.029449463, -0.043395996, -0.0...</td>\n",
       "    </tr>\n",
       "    <tr>\n",
       "      <th>1</th>\n",
       "      <td>dl 296 denver to philadelphia what is the fare</td>\n",
       "      <td>[-0.011528015, 0.0024261475, -0.042419434, 0.0...</td>\n",
       "    </tr>\n",
       "    <tr>\n",
       "      <th>2</th>\n",
       "      <td>tell me about ground transportation in st. pe...</td>\n",
       "      <td>[0.014480591, 0.00843811, -0.028045654, -0.011...</td>\n",
       "    </tr>\n",
       "    <tr>\n",
       "      <th>3</th>\n",
       "      <td>i'd like to have some information on a ticket...</td>\n",
       "      <td>[0.02368164, 0.01939392, -0.01826477, 0.006278...</td>\n",
       "    </tr>\n",
       "    <tr>\n",
       "      <th>4</th>\n",
       "      <td>could you tell me about ground transportation...</td>\n",
       "      <td>[0.042022705, 0.015075684, -0.040130615, -0.03...</td>\n",
       "    </tr>\n",
       "  </tbody>\n",
       "</table>\n",
       "</div>"
      ],
      "text/plain": [
       "                                               query  \\\n",
       "0   what kind of ground transportation is there i...   \n",
       "1     dl 296 denver to philadelphia what is the fare   \n",
       "2   tell me about ground transportation in st. pe...   \n",
       "3   i'd like to have some information on a ticket...   \n",
       "4   could you tell me about ground transportation...   \n",
       "\n",
       "                                           query_emb  \n",
       "0  [-0.025222778, 0.029449463, -0.043395996, -0.0...  \n",
       "1  [-0.011528015, 0.0024261475, -0.042419434, 0.0...  \n",
       "2  [0.014480591, 0.00843811, -0.028045654, -0.011...  \n",
       "3  [0.02368164, 0.01939392, -0.01826477, 0.006278...  \n",
       "4  [0.042022705, 0.015075684, -0.040130615, -0.03...  "
      ]
     },
     "execution_count": 9,
     "metadata": {},
     "output_type": "execute_result"
    }
   ],
   "source": [
    "df['query_emb'] = get_embeddings(df['query'].tolist())\n",
    "df.head()"
   ]
  },
  {
   "cell_type": "code",
   "execution_count": 10,
   "id": "b7fc3ee2",
   "metadata": {},
   "outputs": [],
   "source": [
    "def get_pcs(arr, n):\n",
    "    pca = PCA(n_components=n)\n",
    "    proj = pca.fit_transform(arr)\n",
    "    return proj"
   ]
  },
  {
   "cell_type": "code",
   "execution_count": 11,
   "id": "0c5ddd9e",
   "metadata": {},
   "outputs": [],
   "source": [
    "emb = np.array(df.query_emb.tolist())\n",
    "emb_pc = get_pcs(emb, 10)"
   ]
  },
  {
   "cell_type": "code",
   "execution_count": 20,
   "id": "13a2e534",
   "metadata": {},
   "outputs": [],
   "source": [
    "#emb_pc"
   ]
  },
  {
   "cell_type": "code",
   "execution_count": 13,
   "id": "6255b8f4",
   "metadata": {},
   "outputs": [
    {
     "data": {
      "text/plain": [
       "0     atis_ground_service\n",
       "1            atis_airfare\n",
       "2     atis_ground_service\n",
       "3            atis_airfare\n",
       "4     atis_ground_service\n",
       "             ...         \n",
       "79    atis_ground_service\n",
       "80           atis_airfare\n",
       "81           atis_airline\n",
       "82    atis_ground_service\n",
       "83           atis_airfare\n",
       "Name: intent, Length: 84, dtype: object"
      ]
     },
     "execution_count": 13,
     "metadata": {},
     "output_type": "execute_result"
    }
   ],
   "source": [
    "intents"
   ]
  },
  {
   "cell_type": "code",
   "execution_count": 14,
   "id": "95385daa",
   "metadata": {},
   "outputs": [
    {
     "data": {
      "image/png": "[encoded data removed]",
      "text/plain": [
       "<Figure size 640x480 with 1 Axes>"
      ]
     },
     "metadata": {},
     "output_type": "display_data"
    }
   ],
   "source": [
    "for intent in intents.unique():\n",
    "    plt.scatter(\n",
    "        emb_pc[intents[intents == intent].index, 0], \n",
    "        emb_pc[intents[intents == intent].index, 1], \n",
    "        alpha=0.25,\n",
    "        label=intent)\n",
    "plt.legend();"
   ]
  },
  {
   "cell_type": "code",
   "execution_count": 15,
   "id": "283e1613",
   "metadata": {},
   "outputs": [
    {
     "data": {
      "image/png": "[encoded data removed]",
      "text/plain": [
       "<Figure size 640x480 with 1 Axes>"
      ]
     },
     "metadata": {},
     "output_type": "display_data"
    }
   ],
   "source": [
    "for intent in intents.unique():\n",
    "    plt.scatter(\n",
    "        emb_pc[intents[intents == intent].index, 0], \n",
    "        emb_pc[intents[intents == intent].index, 2], \n",
    "        alpha=0.25,\n",
    "        label=intent)\n",
    "plt.legend();"
   ]
  },
  {
   "cell_type": "code",
   "execution_count": 16,
   "id": "7c6279a9",
   "metadata": {},
   "outputs": [
    {
     "name": "stdout",
     "output_type": "stream",
     "text": [
      "0      what kind of ground transportation is there i...\n",
      "1        dl 296 denver to philadelphia what is the fare\n",
      "2      tell me about ground transportation in st. pe...\n",
      "3      i'd like to have some information on a ticket...\n",
      "4      could you tell me about ground transportation...\n",
      "5             show ground transportation for pittsburgh\n",
      "6      what is the cheapest fare for flights from bo...\n",
      "7      show me round trip fares between san francisc...\n",
      "8      how long does the ground transportation take ...\n",
      "9      please show me airlines with flights from den...\n",
      "10     what ground transportation is available in sa...\n",
      "11                 show me the car rentals in baltimore\n",
      "12     how much does it cost to fly on delta from da...\n",
      "13     what is the cost of united airlines flight 41...\n",
      "14     is there ground transportation from the dalla...\n",
      "15                                            is us air\n",
      "16     round trip fares from baltimore to philadelph...\n",
      "17     how much time does it take to go between the ...\n",
      "18     what are the fares for flights from charlotte...\n",
      "19     is there any ground transportation to the cit...\n",
      "Name: query, dtype: object\n"
     ]
    },
    {
     "data": {
      "image/png": "[encoded data removed]",
      "text/plain": [
       "<Figure size 640x480 with 1 Axes>"
      ]
     },
     "metadata": {},
     "output_type": "display_data"
    }
   ],
   "source": [
    "N = 20\n",
    "labels = df['query'][:N]\n",
    "plt.imshow(emb_pc[:N, :10])\n",
    "print(labels)"
   ]
  },
  {
   "cell_type": "markdown",
   "id": "3acd61f0",
   "metadata": {},
   "source": [
    "### Semantic Search"
   ]
  },
  {
   "cell_type": "code",
   "execution_count": 17,
   "id": "bee61ab1",
   "metadata": {},
   "outputs": [],
   "source": [
    "new_q = 'How can I find a taxi or bus when the plane lands?'\n",
    "new_q_emb = get_embeddings([new_q], input_type='search_query')[0]"
   ]
  },
  {
   "cell_type": "code",
   "execution_count": 18,
   "id": "cc06e621",
   "metadata": {},
   "outputs": [],
   "source": [
    "def get_similarity(target, candidates):\n",
    "    '''Calculate cosine similarity between the search query and\n",
    "    existing queries\n",
    "    '''\n",
    "    candidates = np.array(candidates)\n",
    "    target = np.expand_dims(np.array(target),axis=0)\n",
    "    sim = cosine_similarity(target, candidates)\n",
    "    sim = np.squeeze(sim).tolist()\n",
    "    sort_index = np.argsort(sim)[::-1]\n",
    "    sort_score = [sim[i] for i in sort_index]\n",
    "    similarity_scores = zip(sort_index,sort_score)\n",
    "    return similarity_scores"
   ]
  },
  {
   "cell_type": "code",
   "execution_count": 19,
   "id": "0e5d3abc",
   "metadata": {},
   "outputs": [
    {
     "name": "stdout",
     "output_type": "stream",
     "text": [
      "Query:  How can I find a taxi or bus when the plane lands?\n",
      "Most similar:\n",
      "Sim: 0.38;  what kind of ground transportation is there in denver\n",
      "Sim: 0.38;  dl 296 denver to philadelphia what is the fare\n",
      "Sim: 0.37;  tell me about ground transportation in st. petersburg airport\n",
      "Sim: 0.36;  i'd like to have some information on a ticket from denver to atlanta with a stop in pittsburgh\n",
      "Sim: 0.36;  could you tell me about ground transportation arrangements from the dallas airport to downtown dallas\n",
      "Sim: 0.36;  show ground transportation for pittsburgh\n",
      "Sim: 0.36;  what is the cheapest fare for flights from boston to dallas\n",
      "Sim: 0.36;  show me round trip fares between san francisco and washington dc\n",
      "Sim: 0.36;  how long does the ground transportation take from the salt lake city airport\n",
      "Sim: 0.35;  please show me airlines with flights from denver to boston with stop in philadelphia\n",
      "Sim: 0.35;  what ground transportation is available in san francisco\n"
     ]
    }
   ],
   "source": [
    "sim = get_similarity(new_q_emb, emb)\n",
    "\n",
    "print('Query: ', new_q)\n",
    "print('Most similar:')\n",
    "for i, (idx, sim) in enumerate(sim):\n",
    "    print(f'Sim: {sim:.2f};', df.iloc[i]['query'])\n",
    "    if i > 9:\n",
    "        break"
   ]
  },
  {
   "cell_type": "markdown",
   "id": "f51593db",
   "metadata": {},
   "source": [
    "### Clustering with Embeddings"
   ]
  },
  {
   "cell_type": "code",
   "execution_count": 22,
   "id": "173c9ad6",
   "metadata": {},
   "outputs": [],
   "source": [
    "df['cluster_emb'] = get_embeddings(\n",
    "    df['query'].tolist(), input_type='clustering')\n",
    "emb = np.array(df.cluster_emb.tolist())"
   ]
  },
  {
   "cell_type": "code",
   "execution_count": 33,
   "id": "3bf244e5",
   "metadata": {},
   "outputs": [],
   "source": [
    "K = 3\n",
    "km_mod = KMeans(n_clusters=K, random_state=1, n_init='auto')\n",
    "classes = np.array(km_mod.fit_predict(emb).tolist())"
   ]
  },
  {
   "cell_type": "code",
   "execution_count": 28,
   "id": "88a63223",
   "metadata": {},
   "outputs": [],
   "source": [
    "#classes"
   ]
  },
  {
   "cell_type": "code",
   "execution_count": 36,
   "id": "4eaa1e95",
   "metadata": {},
   "outputs": [
    {
     "data": {
      "image/png": "[encoded data removed]",
      "text/plain": [
       "<Figure size 640x480 with 1 Axes>"
      ]
     },
     "metadata": {},
     "output_type": "display_data"
    }
   ],
   "source": [
    "for k in range(K):\n",
    "    plt.scatter(\n",
    "        emb_pc[classes == k, 0], \n",
    "        emb_pc[classes == k, 2], \n",
    "        alpha=0.25,\n",
    "        label=k)\n",
    "plt.legend();"
   ]
  },
  {
   "cell_type": "code",
   "execution_count": 39,
   "id": "3da3633e",
   "metadata": {},
   "outputs": [
    {
     "data": {
      "text/plain": [
       "0      what kind of ground transportation is there i...\n",
       "2      tell me about ground transportation in st. pe...\n",
       "5             show ground transportation for pittsburgh\n",
       "10     what ground transportation is available in sa...\n",
       "20     what is the ground transportation available i...\n",
       "Name: query, dtype: object"
      ]
     },
     "execution_count": 39,
     "metadata": {},
     "output_type": "execute_result"
    }
   ],
   "source": [
    "df.loc[classes == 0, 'query'][:5]"
   ]
  },
  {
   "cell_type": "code",
   "execution_count": 40,
   "id": "281bb0af",
   "metadata": {},
   "outputs": [
    {
     "data": {
      "text/plain": [
       "1       dl 296 denver to philadelphia what is the fare\n",
       "3     i'd like to have some information on a ticket...\n",
       "6     what is the cheapest fare for flights from bo...\n",
       "7     show me round trip fares between san francisc...\n",
       "9     please show me airlines with flights from den...\n",
       "Name: query, dtype: object"
      ]
     },
     "execution_count": 40,
     "metadata": {},
     "output_type": "execute_result"
    }
   ],
   "source": [
    "df.loc[classes == 1, 'query'][:5]"
   ]
  },
  {
   "cell_type": "code",
   "execution_count": 41,
   "id": "51319243",
   "metadata": {},
   "outputs": [
    {
     "data": {
      "text/plain": [
       "4      could you tell me about ground transportation...\n",
       "8      how long does the ground transportation take ...\n",
       "14     is there ground transportation from the dalla...\n",
       "17     how much time does it take to go between the ...\n",
       "19     is there any ground transportation to the cit...\n",
       "Name: query, dtype: object"
      ]
     },
     "execution_count": 41,
     "metadata": {},
     "output_type": "execute_result"
    }
   ],
   "source": [
    "df.loc[classes == 2, 'query'][:5]"
   ]
  },
  {
   "cell_type": "code",
   "execution_count": null,
   "id": "6ac8ff30",
   "metadata": {},
   "outputs": [],
   "source": []
  }
 ],
 "metadata": {
  "kernelspec": {
   "display_name": "Python 3 (ipykernel)",
   "language": "python",
   "name": "python3"
  },
  "language_info": {
   "codemirror_mode": {
    "name": "ipython",
    "version": 3
   },
   "file_extension": ".py",
   "mimetype": "text/x-python",
   "name": "python",
   "nbconvert_exporter": "python",
   "pygments_lexer": "ipython3",
   "version": "3.11.3"
  }
 },
 "nbformat": 4,
 "nbformat_minor": 5
}
