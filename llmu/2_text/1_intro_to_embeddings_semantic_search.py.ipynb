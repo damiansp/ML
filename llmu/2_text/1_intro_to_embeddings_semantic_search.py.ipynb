{
 "cells": [
  {
   "cell_type": "code",
   "execution_count": 1,
   "id": "11e3ed14",
   "metadata": {},
   "outputs": [],
   "source": [
    "import json\n",
    "import ssl\n",
    "\n",
    "import altair as alt\n",
    "import cohere\n",
    "import matplotlib.pyplot as plt\n",
    "import numpy as np\n",
    "import pandas as pd\n",
    "from sklearn.cluster import KMeans\n",
    "from sklearn.decomposition import PCA\n",
    "from sklearn.metrics.pairwise import cosine_similarity\n",
    "\n",
    "ssl._create_default_https_context = ssl._create_unverified_context"
   ]
  },
  {
   "cell_type": "code",
   "execution_count": 2,
   "id": "0f932814",
   "metadata": {},
   "outputs": [],
   "source": [
    "with open('../keys.json', 'r') as f:\n",
    "    api_key = json.load(f)['trial_api_key']"
   ]
  },
  {
   "cell_type": "code",
   "execution_count": 3,
   "id": "12e95dd8",
   "metadata": {},
   "outputs": [],
   "source": [
    "co = cohere.Client(api_key)"
   ]
  },
  {
   "cell_type": "code",
   "execution_count": 4,
   "id": "a05bcdc0",
   "metadata": {},
   "outputs": [
    {
     "name": "stdout",
     "output_type": "stream",
     "text": [
      "(4834, 2)\n"
     ]
    },
    {
     "data": {
      "text/html": [
       "<div>\n",
       "<style scoped>\n",
       "    .dataframe tbody tr th:only-of-type {\n",
       "        vertical-align: middle;\n",
       "    }\n",
       "\n",
       "    .dataframe tbody tr th {\n",
       "        vertical-align: top;\n",
       "    }\n",
       "\n",
       "    .dataframe thead th {\n",
       "        text-align: right;\n",
       "    }\n",
       "</style>\n",
       "<table border=\"1\" class=\"dataframe\">\n",
       "  <thead>\n",
       "    <tr style=\"text-align: right;\">\n",
       "      <th></th>\n",
       "      <th>intent</th>\n",
       "      <th>query</th>\n",
       "    </tr>\n",
       "  </thead>\n",
       "  <tbody>\n",
       "    <tr>\n",
       "      <th>0</th>\n",
       "      <td>atis_flight</td>\n",
       "      <td>i want to fly from boston at 838 am and arriv...</td>\n",
       "    </tr>\n",
       "    <tr>\n",
       "      <th>1</th>\n",
       "      <td>atis_flight</td>\n",
       "      <td>what flights are available from pittsburgh to...</td>\n",
       "    </tr>\n",
       "    <tr>\n",
       "      <th>2</th>\n",
       "      <td>atis_flight_time</td>\n",
       "      <td>what is the arrival time in san francisco for...</td>\n",
       "    </tr>\n",
       "    <tr>\n",
       "      <th>3</th>\n",
       "      <td>atis_airfare</td>\n",
       "      <td>cheapest airfare from tacoma to orlando</td>\n",
       "    </tr>\n",
       "    <tr>\n",
       "      <th>4</th>\n",
       "      <td>atis_airfare</td>\n",
       "      <td>round trip fares from pittsburgh to philadelp...</td>\n",
       "    </tr>\n",
       "  </tbody>\n",
       "</table>\n",
       "</div>"
      ],
      "text/plain": [
       "             intent                                              query\n",
       "0       atis_flight   i want to fly from boston at 838 am and arriv...\n",
       "1       atis_flight   what flights are available from pittsburgh to...\n",
       "2  atis_flight_time   what is the arrival time in san francisco for...\n",
       "3      atis_airfare            cheapest airfare from tacoma to orlando\n",
       "4      atis_airfare   round trip fares from pittsburgh to philadelp..."
      ]
     },
     "execution_count": 4,
     "metadata": {},
     "output_type": "execute_result"
    }
   ],
   "source": [
    "df_orig = pd.read_csv(\n",
    "    'https://raw.githubusercontent.com/cohere-ai/notebooks/main/'\n",
    "    'notebooks/data/atis_intents_train.csv', \n",
    "    names=['intent','query'])\n",
    "print(df_orig.shape)\n",
    "df_orig.head()"
   ]
  },
  {
   "cell_type": "code",
   "execution_count": 5,
   "id": "11907ee9",
   "metadata": {},
   "outputs": [
    {
     "data": {
      "text/plain": [
       "array(['atis_airfare', 'atis_ground_service', 'atis_airline'],\n",
       "      dtype=object)"
      ]
     },
     "execution_count": 5,
     "metadata": {},
     "output_type": "execute_result"
    }
   ],
   "source": [
    "sample_classes = ['atis_airfare', 'atis_airline', 'atis_ground_service']\n",
    "df = df_orig[df_orig.intent.isin(sample_classes)].copy()\n",
    "df.intent.unique()"
   ]
  },
  {
   "cell_type": "code",
   "execution_count": 6,
   "id": "777372ca",
   "metadata": {},
   "outputs": [
    {
     "name": "stdout",
     "output_type": "stream",
     "text": [
      "(84, 1)\n"
     ]
    },
    {
     "data": {
      "text/html": [
       "<div>\n",
       "<style scoped>\n",
       "    .dataframe tbody tr th:only-of-type {\n",
       "        vertical-align: middle;\n",
       "    }\n",
       "\n",
       "    .dataframe tbody tr th {\n",
       "        vertical-align: top;\n",
       "    }\n",
       "\n",
       "    .dataframe thead th {\n",
       "        text-align: right;\n",
       "    }\n",
       "</style>\n",
       "<table border=\"1\" class=\"dataframe\">\n",
       "  <thead>\n",
       "    <tr style=\"text-align: right;\">\n",
       "      <th></th>\n",
       "      <th>query</th>\n",
       "    </tr>\n",
       "  </thead>\n",
       "  <tbody>\n",
       "    <tr>\n",
       "      <th>0</th>\n",
       "      <td>what kind of ground transportation is there i...</td>\n",
       "    </tr>\n",
       "    <tr>\n",
       "      <th>1</th>\n",
       "      <td>dl 296 denver to philadelphia what is the fare</td>\n",
       "    </tr>\n",
       "    <tr>\n",
       "      <th>2</th>\n",
       "      <td>tell me about ground transportation in st. pe...</td>\n",
       "    </tr>\n",
       "    <tr>\n",
       "      <th>3</th>\n",
       "      <td>i'd like to have some information on a ticket...</td>\n",
       "    </tr>\n",
       "    <tr>\n",
       "      <th>4</th>\n",
       "      <td>could you tell me about ground transportation...</td>\n",
       "    </tr>\n",
       "  </tbody>\n",
       "</table>\n",
       "</div>"
      ],
      "text/plain": [
       "                                               query\n",
       "0   what kind of ground transportation is there i...\n",
       "1     dl 296 denver to philadelphia what is the fare\n",
       "2   tell me about ground transportation in st. pe...\n",
       "3   i'd like to have some information on a ticket...\n",
       "4   could you tell me about ground transportation..."
      ]
     },
     "execution_count": 6,
     "metadata": {},
     "output_type": "execute_result"
    }
   ],
   "source": [
    "df = df.sample(frac=0.1, random_state=1445)\n",
    "df.reset_index(drop=True, inplace=True)\n",
    "df_orig = df_orig.drop(df.index)  # ? why?\n",
    "intents = df.pop('intent')\n",
    "print(df.shape)\n",
    "df.head()"
   ]
  },
  {
   "cell_type": "code",
   "execution_count": 7,
   "id": "ce142f9a",
   "metadata": {},
   "outputs": [
    {
     "data": {
      "text/plain": [
       "array(['atis_ground_service', 'atis_airfare', 'atis_airline'],\n",
       "      dtype=object)"
      ]
     },
     "execution_count": 7,
     "metadata": {},
     "output_type": "execute_result"
    }
   ],
   "source": [
    "intents.unique()"
   ]
  },
  {
   "cell_type": "code",
   "execution_count": 8,
   "id": "af162e98",
   "metadata": {},
   "outputs": [],
   "source": [
    "def get_embeddings(\n",
    "        texts: list,\n",
    "        model='embed-english-v3.0',\n",
    "        input_type='search_document'):\n",
    "    output = co.embed(model=model, input_type=input_type, texts=texts)\n",
    "    return output.embeddings"
   ]
  },
  {
   "cell_type": "code",
   "execution_count": 9,
   "id": "24507d28",
   "metadata": {},
   "outputs": [
    {
     "data": {
      "text/html": [
       "<div>\n",
       "<style scoped>\n",
       "    .dataframe tbody tr th:only-of-type {\n",
       "        vertical-align: middle;\n",
       "    }\n",
       "\n",
       "    .dataframe tbody tr th {\n",
       "        vertical-align: top;\n",
       "    }\n",
       "\n",
       "    .dataframe thead th {\n",
       "        text-align: right;\n",
       "    }\n",
       "</style>\n",
       "<table border=\"1\" class=\"dataframe\">\n",
       "  <thead>\n",
       "    <tr style=\"text-align: right;\">\n",
       "      <th></th>\n",
       "      <th>query</th>\n",
       "      <th>query_emb</th>\n",
       "    </tr>\n",
       "  </thead>\n",
       "  <tbody>\n",
       "    <tr>\n",
       "      <th>0</th>\n",
       "      <td>what kind of ground transportation is there i...</td>\n",
       "      <td>[-0.025222778, 0.029449463, -0.043395996, -0.0...</td>\n",
       "    </tr>\n",
       "    <tr>\n",
       "      <th>1</th>\n",
       "      <td>dl 296 denver to philadelphia what is the fare</td>\n",
       "      <td>[-0.011528015, 0.0024261475, -0.042419434, 0.0...</td>\n",
       "    </tr>\n",
       "    <tr>\n",
       "      <th>2</th>\n",
       "      <td>tell me about ground transportation in st. pe...</td>\n",
       "      <td>[0.014480591, 0.00843811, -0.028045654, -0.011...</td>\n",
       "    </tr>\n",
       "    <tr>\n",
       "      <th>3</th>\n",
       "      <td>i'd like to have some information on a ticket...</td>\n",
       "      <td>[0.02368164, 0.01939392, -0.01826477, 0.006278...</td>\n",
       "    </tr>\n",
       "    <tr>\n",
       "      <th>4</th>\n",
       "      <td>could you tell me about ground transportation...</td>\n",
       "      <td>[0.042022705, 0.015075684, -0.040130615, -0.03...</td>\n",
       "    </tr>\n",
       "  </tbody>\n",
       "</table>\n",
       "</div>"
      ],
      "text/plain": [
       "                                               query  \\\n",
       "0   what kind of ground transportation is there i...   \n",
       "1     dl 296 denver to philadelphia what is the fare   \n",
       "2   tell me about ground transportation in st. pe...   \n",
       "3   i'd like to have some information on a ticket...   \n",
       "4   could you tell me about ground transportation...   \n",
       "\n",
       "                                           query_emb  \n",
       "0  [-0.025222778, 0.029449463, -0.043395996, -0.0...  \n",
       "1  [-0.011528015, 0.0024261475, -0.042419434, 0.0...  \n",
       "2  [0.014480591, 0.00843811, -0.028045654, -0.011...  \n",
       "3  [0.02368164, 0.01939392, -0.01826477, 0.006278...  \n",
       "4  [0.042022705, 0.015075684, -0.040130615, -0.03...  "
      ]
     },
     "execution_count": 9,
     "metadata": {},
     "output_type": "execute_result"
    }
   ],
   "source": [
    "df['query_emb'] = get_embeddings(df['query'].tolist())\n",
    "df.head()"
   ]
  },
  {
   "cell_type": "code",
   "execution_count": 10,
   "id": "b7fc3ee2",
   "metadata": {},
   "outputs": [],
   "source": [
    "def get_pcs(arr, n):\n",
    "    pca = PCA(n_components=n)\n",
    "    proj = pca.fit_transform(arr)\n",
    "    return proj"
   ]
  },
  {
   "cell_type": "code",
   "execution_count": 11,
   "id": "0c5ddd9e",
   "metadata": {},
   "outputs": [],
   "source": [
    "emb = np.array(df.query_emb.tolist())\n",
    "emb_pc = get_pcs(emb, 10)"
   ]
  },
  {
   "cell_type": "code",
   "execution_count": 12,
   "id": "13a2e534",
   "metadata": {},
   "outputs": [
    {
     "data": {
      "text/plain": [
       "array([[ 4.07830066e-01, -5.49797931e-02,  1.12286198e-01,\n",
       "        -2.24800477e-01, -1.35883795e-01,  2.24087581e-01,\n",
       "        -6.69514446e-02, -9.90773510e-02, -3.53402339e-03,\n",
       "        -1.37211594e-02],\n",
       "       [-2.50459836e-01, -9.95715604e-02,  7.19494071e-03,\n",
       "        -1.64153291e-01, -1.69182209e-01,  6.16183448e-02,\n",
       "         4.14358691e-02,  1.00286123e-01, -3.34068239e-02,\n",
       "         6.90699607e-03],\n",
       "       [ 2.37455173e-01, -1.01224909e-01,  3.02135142e-02,\n",
       "         5.28402025e-02,  1.22290638e-01, -1.36691636e-01,\n",
       "         5.74490789e-02, -2.48173413e-02,  6.37068507e-02,\n",
       "         3.62657837e-02],\n",
       "       [-2.34179349e-01, -1.06683812e-01,  1.39035071e-01,\n",
       "        -1.53456750e-01,  2.43343435e-01,  2.50977715e-01,\n",
       "         6.13526990e-02,  1.69195444e-01, -1.57505508e-01,\n",
       "         2.01314070e-01],\n",
       "       [ 1.19983833e-01, -3.33380730e-01, -1.11893312e-02,\n",
       "         3.36719519e-01,  1.28876403e-02,  3.83976877e-02,\n",
       "         1.16967280e-01,  5.74487027e-02, -1.28301757e-01,\n",
       "         2.81454925e-02],\n",
       "       [ 3.28085614e-01,  2.28146926e-01, -1.10648984e-01,\n",
       "        -1.23478597e-01,  1.03570209e-01,  4.78844544e-02,\n",
       "         1.72131201e-01,  7.63083345e-02,  3.82517558e-03,\n",
       "         8.41761440e-02],\n",
       "       [-3.17154744e-01, -5.91158233e-02, -3.29465382e-03,\n",
       "         2.69758966e-01, -1.52664406e-01,  3.30860515e-02,\n",
       "        -2.38929762e-01, -7.73635891e-02,  3.46928091e-02,\n",
       "        -2.93791633e-02],\n",
       "       [-2.58852109e-01, -2.11123678e-02, -2.31169449e-01,\n",
       "        -1.66230841e-01, -2.84371926e-02, -1.48793487e-01,\n",
       "         1.73160948e-01, -9.89517294e-02, -7.34277395e-02,\n",
       "         9.27509125e-02],\n",
       "       [ 1.39297242e-01, -1.49868810e-01,  3.22853202e-02,\n",
       "         9.19731831e-02,  1.80663847e-02, -1.42359316e-01,\n",
       "         1.37284545e-01, -4.68610284e-02,  2.16706270e-01,\n",
       "         1.01775550e-01],\n",
       "       [-2.85311570e-01, -5.27219497e-02,  3.17647488e-01,\n",
       "        -7.70077627e-02,  7.54618625e-02,  1.53511774e-01,\n",
       "         5.95359775e-02, -1.26192477e-02, -1.27666336e-01,\n",
       "        -2.11642431e-01],\n",
       "       [ 4.06374948e-01, -1.00962413e-01, -1.06100661e-01,\n",
       "        -2.32959946e-01, -7.74966104e-02, -2.75561340e-01,\n",
       "        -1.64194716e-02, -1.06540785e-01, -1.00040316e-01,\n",
       "        -3.67661716e-02],\n",
       "       [ 3.33970994e-02,  3.17937032e-01, -3.15517143e-01,\n",
       "        -3.02624164e-02,  2.22037127e-01,  9.38497625e-02,\n",
       "         1.53478826e-01, -1.98590433e-01,  8.61293048e-02,\n",
       "        -1.91557431e-01],\n",
       "       [-3.27796272e-01,  5.72027444e-03, -1.52952783e-01,\n",
       "         1.81590018e-01, -1.44119759e-01, -5.95964935e-02,\n",
       "        -1.55251801e-02,  8.99688912e-02,  2.40001091e-02,\n",
       "        -6.32997769e-02],\n",
       "       [-3.42124625e-01, -3.85031080e-03,  1.61568505e-01,\n",
       "         8.65498342e-02, -5.70750438e-02, -1.48159451e-01,\n",
       "         1.16997159e-01, -2.43105240e-02,  2.16225012e-01,\n",
       "         7.46144827e-02],\n",
       "       [ 2.09904239e-01, -2.25622405e-01, -1.55689200e-02,\n",
       "         3.09640212e-01, -6.96052480e-02,  3.49527087e-02,\n",
       "         4.87885315e-02,  8.08600094e-02, -5.55679775e-02,\n",
       "        -9.33545826e-03],\n",
       "       [ 1.48944235e-01,  4.82699465e-01,  2.64963236e-01,\n",
       "         1.36351065e-01, -4.43876387e-02, -1.50971471e-01,\n",
       "        -4.43731314e-02,  1.79301606e-02,  1.12405450e-02,\n",
       "         2.88000129e-01],\n",
       "       [-3.88951671e-01,  8.86006268e-02, -3.00277085e-01,\n",
       "        -2.38681521e-01, -6.91231821e-02, -4.09573417e-02,\n",
       "         5.11729123e-02,  1.79768237e-01,  4.18374101e-02,\n",
       "        -1.65085796e-01],\n",
       "       [-1.46114238e-02, -3.03822589e-01, -8.23154668e-03,\n",
       "         3.14763205e-01, -8.61527810e-02, -2.41449621e-02,\n",
       "         1.13191609e-01,  6.62805155e-02,  6.00476183e-02,\n",
       "         1.52325689e-01],\n",
       "       [-3.35799982e-01, -4.06691365e-03,  7.26010873e-02,\n",
       "         1.13867224e-01, -3.67605324e-02, -1.18560529e-01,\n",
       "        -2.87372811e-03,  1.02848979e-01,  2.39237975e-01,\n",
       "        -1.56668556e-01],\n",
       "       [ 3.82756542e-01, -1.16408698e-01, -1.25629762e-01,\n",
       "         2.46793186e-01, -1.57877622e-01,  1.04759146e-01,\n",
       "        -3.82713920e-02,  4.36561844e-02, -5.78580228e-02,\n",
       "        -3.71894501e-02],\n",
       "       [ 3.81346767e-01, -8.32184007e-02,  9.52782116e-03,\n",
       "        -6.00105278e-02,  7.05595018e-02, -7.05436208e-02,\n",
       "        -2.78825667e-01, -1.02263511e-01,  6.60415858e-02,\n",
       "        -1.90080221e-01],\n",
       "       [ 4.36735727e-01,  4.43370114e-02, -2.53867621e-02,\n",
       "        -3.53807867e-02,  1.49360488e-03,  5.70979693e-03,\n",
       "        -7.94094289e-02,  5.26222480e-02,  2.14896029e-01,\n",
       "        -1.44186142e-01],\n",
       "       [-3.43287483e-01, -5.18185767e-02, -8.78835294e-02,\n",
       "         2.89875203e-02, -1.43887978e-02, -6.48814412e-02,\n",
       "        -2.47023180e-01, -1.12909068e-01,  1.82719608e-01,\n",
       "         1.27101421e-01],\n",
       "       [-2.40506818e-01, -1.67302244e-02,  2.49251071e-01,\n",
       "        -8.99065232e-02, -1.41648148e-01,  6.86950172e-02,\n",
       "        -1.96288887e-01, -8.23125504e-02,  5.68820192e-02,\n",
       "        -1.17825847e-01],\n",
       "       [-3.88951671e-01,  8.86006268e-02, -3.00277085e-01,\n",
       "        -2.38681521e-01, -6.91231821e-02, -4.09573417e-02,\n",
       "         5.11729123e-02,  1.79768237e-01,  4.18374101e-02,\n",
       "        -1.65085796e-01],\n",
       "       [-1.11271268e-01,  1.86493934e-01, -2.62214448e-01,\n",
       "         1.76379753e-01,  4.08664368e-02,  2.12272706e-01,\n",
       "         1.51629899e-01, -1.32790997e-01, -1.41854524e-01,\n",
       "        -1.30876332e-01],\n",
       "       [-1.74540728e-01,  1.54000854e-01, -2.55432169e-01,\n",
       "        -6.60380216e-02,  3.52077564e-01,  1.24825234e-01,\n",
       "         1.41046975e-01, -3.47096320e-02, -2.57436778e-02,\n",
       "        -2.81603483e-02],\n",
       "       [ 2.18215624e-01, -1.61958904e-01, -1.23010535e-01,\n",
       "         2.51801562e-01, -7.93812022e-02,  1.25041746e-01,\n",
       "         3.06411409e-02,  1.28680354e-02, -8.91854454e-02,\n",
       "         6.22256950e-02],\n",
       "       [ 3.35471795e-01, -9.66239024e-02,  2.05489307e-01,\n",
       "        -1.21158495e-01, -8.52296923e-02,  1.47327403e-01,\n",
       "         1.30043971e-03, -1.48437991e-02,  3.62758897e-02,\n",
       "        -7.32869199e-02],\n",
       "       [ 3.46486012e-01,  5.26529924e-02, -6.44638823e-02,\n",
       "        -5.24969420e-02,  2.10892717e-01,  3.15498556e-02,\n",
       "        -1.67313221e-01,  1.42063243e-01, -6.99910474e-02,\n",
       "         4.44054335e-02],\n",
       "       [-3.48592213e-01, -1.19380070e-01, -4.38073903e-02,\n",
       "         5.24485353e-02,  2.24591364e-01,  2.87722289e-02,\n",
       "        -3.39576102e-01, -9.65255555e-02, -2.05661458e-02,\n",
       "         8.76597796e-02],\n",
       "       [-1.89775425e-01, -7.93280130e-04,  3.22361772e-01,\n",
       "        -8.35169932e-03,  9.60108633e-02,  1.73032628e-01,\n",
       "         2.69950485e-02, -1.48627165e-01, -4.84894335e-02,\n",
       "        -1.71341208e-01],\n",
       "       [-3.19971651e-01, -6.66346647e-02, -9.83969637e-02,\n",
       "         1.17371522e-01, -2.58348149e-01, -2.13556285e-01,\n",
       "         2.49049961e-02,  6.12240610e-02, -2.01510481e-01,\n",
       "        -9.66998500e-03],\n",
       "       [ 2.31087017e-01, -1.02349025e-02,  1.11004963e-02,\n",
       "         1.13617790e-01,  1.76652779e-01, -5.98253137e-02,\n",
       "         2.18374441e-01, -1.84843166e-01,  6.06758611e-02,\n",
       "        -2.50060472e-03],\n",
       "       [-2.87556115e-01, -9.24288607e-03,  1.19203403e-01,\n",
       "         6.17387036e-02,  5.23052876e-02, -3.79750155e-03,\n",
       "         2.28152894e-01, -8.56172755e-03,  3.12787870e-01,\n",
       "         1.18646851e-01],\n",
       "       [-1.01916876e-01,  3.96720367e-01,  1.10085922e-01,\n",
       "         4.59555077e-02, -1.80471943e-01, -2.41969775e-01,\n",
       "        -2.30706871e-01, -6.22687095e-03, -6.13382836e-02,\n",
       "        -6.85933901e-02],\n",
       "       [-1.48010931e-01,  1.37579931e-01, -2.61860083e-01,\n",
       "        -8.63616146e-02,  2.23834087e-01,  8.22792310e-02,\n",
       "        -7.26925830e-02,  1.28364339e-01, -4.23670790e-02,\n",
       "        -6.90025395e-02],\n",
       "       [ 3.32628797e-01,  1.25891834e-02, -7.67804373e-02,\n",
       "        -1.11171315e-01,  1.12737551e-01,  8.66898060e-03,\n",
       "         3.16280214e-02,  1.24057441e-01,  1.96819991e-02,\n",
       "         2.82741786e-02],\n",
       "       [ 1.01450823e-01, -3.49894577e-01,  1.40140372e-01,\n",
       "         1.16699476e-01,  2.49855202e-01, -9.86758755e-02,\n",
       "        -5.07726371e-02, -7.22628111e-02, -3.42794008e-02,\n",
       "        -1.16419129e-01],\n",
       "       [-1.93482504e-01,  1.26214024e-01,  3.17907518e-02,\n",
       "        -2.97310889e-02,  1.41572618e-01, -7.17920902e-02,\n",
       "        -1.03120581e-01,  3.23327887e-01, -9.93905971e-03,\n",
       "         1.43377019e-01],\n",
       "       [-2.29379902e-01,  1.40138348e-01, -2.15906656e-01,\n",
       "         1.91670440e-01,  7.75805917e-03,  1.09007243e-01,\n",
       "         4.01810965e-02, -9.82660361e-02, -5.98271792e-02,\n",
       "        -7.06023905e-02],\n",
       "       [ 2.28189213e-01, -2.98156985e-01, -1.08762860e-01,\n",
       "        -1.44451906e-01, -2.88315102e-02, -2.33023830e-01,\n",
       "         3.55403779e-02, -7.97873636e-02, -5.50239445e-02,\n",
       "         4.02908866e-05],\n",
       "       [-7.62807390e-02,  1.30861574e-01,  1.69499439e-01,\n",
       "         1.32278351e-01,  8.94532312e-03, -5.00812325e-02,\n",
       "        -7.99573869e-03,  1.02790341e-01,  2.08331066e-01,\n",
       "        -2.51198731e-01],\n",
       "       [ 4.11242360e-01,  1.19687425e-01, -5.69755202e-02,\n",
       "        -1.71544017e-01, -1.23678748e-01, -8.95306155e-02,\n",
       "         4.45387039e-02,  3.04266262e-02,  9.50791427e-02,\n",
       "         1.17342506e-01],\n",
       "       [-2.55659180e-01, -6.46816823e-02, -2.77540847e-02,\n",
       "        -1.69460584e-01, -1.15759150e-02,  2.11515610e-01,\n",
       "        -1.65053757e-01,  2.23592443e-02, -5.87489443e-05,\n",
       "         1.53326558e-01],\n",
       "       [ 3.78972744e-01,  1.11404092e-01,  1.18538422e-01,\n",
       "        -2.47528437e-01, -2.05017482e-01,  2.81574966e-01,\n",
       "         4.63135958e-02,  1.38634231e-02,  4.12990819e-02,\n",
       "         6.59114037e-02],\n",
       "       [ 2.52952934e-01,  2.99586318e-02, -3.48195004e-02,\n",
       "         3.63686907e-01, -8.68413982e-02,  7.21958856e-02,\n",
       "         5.86965835e-02,  8.71264294e-02, -1.11844456e-01,\n",
       "        -4.34254271e-02],\n",
       "       [ 4.28117099e-01,  1.82241408e-03, -5.44401874e-02,\n",
       "        -8.63718314e-02,  1.68685839e-01, -9.80121873e-03,\n",
       "        -2.25307914e-01,  1.64137719e-01, -3.49183999e-02,\n",
       "         1.40622839e-02],\n",
       "       [-1.53847197e-02,  4.37100942e-01, -1.62108174e-01,\n",
       "         7.94703286e-04, -1.32899138e-02, -9.86865202e-02,\n",
       "        -1.60214689e-01, -3.16165630e-01, -1.72180411e-01,\n",
       "         3.16687031e-02],\n",
       "       [ 3.16927995e-02, -3.18944093e-01,  3.65587322e-02,\n",
       "         1.05567837e-01,  2.87750315e-01, -3.17324577e-02,\n",
       "        -5.73269480e-03,  1.07835277e-01, -9.62936712e-02,\n",
       "         1.29147821e-01],\n",
       "       [-1.38257886e-01,  7.44860720e-02,  1.77137288e-01,\n",
       "         9.42729504e-02,  1.21689849e-02, -2.15196816e-02,\n",
       "         8.82464872e-02, -4.39161384e-02,  1.94749523e-01,\n",
       "        -1.02028988e-01],\n",
       "       [ 6.81232098e-02,  5.05969211e-01,  2.74872343e-01,\n",
       "         1.06597458e-01, -1.06409325e-02, -8.54339386e-02,\n",
       "         5.16165317e-03,  9.78858533e-02, -3.37066295e-02,\n",
       "         1.68933852e-01],\n",
       "       [-1.90604904e-01, -3.40826852e-02,  7.57638943e-02,\n",
       "        -1.82888967e-01, -7.41948902e-02,  1.84670074e-01,\n",
       "        -3.75788222e-03,  9.12053538e-02, -1.18368761e-01,\n",
       "        -1.32292730e-01],\n",
       "       [ 3.22937956e-01, -6.16015910e-02,  5.48910175e-02,\n",
       "        -5.59293528e-02,  1.05554858e-01, -7.15170960e-02,\n",
       "         5.04885014e-02,  1.62463106e-01,  5.85456569e-02,\n",
       "        -4.09193323e-03],\n",
       "       [-3.31292860e-01, -8.43266755e-02, -6.59152219e-02,\n",
       "        -2.25702382e-01, -1.63007756e-01,  4.56534706e-02,\n",
       "         4.58014779e-02, -1.76525555e-01, -3.17192019e-02,\n",
       "         1.64472591e-01],\n",
       "       [ 2.05355090e-01, -3.12606349e-01,  4.36701137e-03,\n",
       "        -6.86245348e-02,  2.92038415e-02, -2.72705663e-01,\n",
       "         9.04540011e-02, -5.82501669e-02, -8.12178641e-02,\n",
       "        -3.15307682e-02],\n",
       "       [ 4.61682257e-01,  1.26056553e-02, -6.00300972e-02,\n",
       "        -1.99395062e-01,  1.01912699e-02, -7.03035985e-02,\n",
       "        -7.26321748e-02, -2.55450894e-02, -3.80207222e-03,\n",
       "        -5.18080998e-05],\n",
       "       [ 1.00408549e-01,  4.01113915e-01,  2.91912742e-01,\n",
       "         1.47572027e-01, -3.06411717e-02, -7.93733400e-02,\n",
       "        -1.28932651e-01,  3.29174924e-02, -7.88202632e-02,\n",
       "         3.03388352e-02],\n",
       "       [-2.07311391e-01,  1.58549504e-02,  3.03602092e-01,\n",
       "        -1.83136980e-01,  5.65847293e-02, -1.08474280e-02,\n",
       "         3.65254624e-01, -3.93428575e-02, -2.56061026e-01,\n",
       "         1.00710934e-01],\n",
       "       [ 3.80589971e-01,  9.15645782e-02, -1.09898414e-01,\n",
       "         2.14825434e-01, -2.66771721e-01,  1.82175785e-01,\n",
       "         2.80289661e-02,  1.41649842e-01, -2.36709355e-02,\n",
       "         6.14506863e-02],\n",
       "       [-2.96490305e-01, -6.08884250e-02, -1.92643126e-01,\n",
       "        -8.61941069e-02,  1.45935624e-01, -9.58424522e-04,\n",
       "        -1.05861177e-04,  1.03274147e-01,  8.22179532e-02,\n",
       "         1.18314201e-01],\n",
       "       [-2.84039195e-01, -9.09669102e-02, -9.66088730e-02,\n",
       "         1.08222067e-01, -3.08477779e-01, -1.85381125e-01,\n",
       "         7.53928543e-02,  3.62824958e-02, -1.88604711e-01,\n",
       "        -1.90248933e-02],\n",
       "       [ 4.06375222e-01, -1.01179803e-01, -1.06193815e-01,\n",
       "        -2.33449399e-01, -7.72357112e-02, -2.76040466e-01,\n",
       "        -1.62834788e-02, -1.06578848e-01, -1.00047428e-01,\n",
       "        -3.75313414e-02],\n",
       "       [-3.83987468e-01,  2.55124835e-02,  6.00572849e-03,\n",
       "         5.02030906e-02,  4.40945999e-02,  2.56799882e-02,\n",
       "         7.40008659e-02, -1.59812829e-01,  1.88366792e-01,\n",
       "         6.30196760e-02],\n",
       "       [ 6.75914294e-02, -3.60321747e-01,  9.08277015e-02,\n",
       "         1.01162387e-01,  2.36139393e-01, -7.63815438e-02,\n",
       "        -4.69079978e-02, -5.99303684e-02, -2.06019430e-02,\n",
       "        -4.06029369e-02],\n",
       "       [-3.51377067e-01,  3.96923446e-02,  5.73444986e-02,\n",
       "         1.46234341e-02,  1.94669727e-01, -1.13923842e-01,\n",
       "        -4.34235479e-02,  2.99362073e-01, -1.60616617e-01,\n",
       "        -8.15547137e-02],\n",
       "       [ 4.46967043e-01, -2.73796095e-02, -1.19399436e-01,\n",
       "         2.12673065e-01, -2.07158092e-01,  1.20477142e-01,\n",
       "        -8.36215789e-02,  5.71312151e-02, -4.22557197e-02,\n",
       "        -6.38052880e-02],\n",
       "       [ 2.56886030e-01, -1.30629386e-01, -7.39756274e-02,\n",
       "        -4.69078420e-02,  4.96182328e-02, -5.57878840e-02,\n",
       "        -8.41051131e-02, -9.16379113e-02,  2.26968237e-02,\n",
       "         1.31898460e-02],\n",
       "       [-2.87447716e-01, -5.90374964e-02,  1.11775716e-01,\n",
       "        -1.96445388e-01, -1.90767482e-01, -1.91333666e-01,\n",
       "         4.22188275e-02, -6.92513606e-02, -5.65631279e-02,\n",
       "         3.24588359e-03],\n",
       "       [-2.40788407e-01, -1.42627774e-01, -5.10219606e-02,\n",
       "         8.47579366e-02, -2.41204222e-01,  2.74718684e-01,\n",
       "        -1.15374759e-01, -1.29270362e-01, -1.76661118e-02,\n",
       "         1.23325518e-01],\n",
       "       [-3.84575678e-01, -4.20004037e-02,  1.65913035e-01,\n",
       "        -1.84990942e-01, -1.51744886e-01,  5.22074290e-02,\n",
       "         1.21187395e-01,  1.73960963e-01, -3.10601214e-02,\n",
       "        -1.09696228e-01],\n",
       "       [-3.17411713e-01, -7.18545885e-02, -3.98744069e-02,\n",
       "         5.31182942e-02,  2.60985681e-01,  3.06929702e-02,\n",
       "        -3.49732663e-01, -5.73301303e-02, -2.78998851e-02,\n",
       "         1.05919984e-01],\n",
       "       [ 1.00749094e-01,  5.39399029e-01,  2.26377902e-01,\n",
       "         1.63394015e-01,  1.82932785e-01, -3.84141040e-02,\n",
       "         1.08593852e-01, -2.33487816e-01, -2.60721016e-01,\n",
       "        -2.87310236e-02],\n",
       "       [-3.16615932e-01, -1.49970784e-01, -1.56652676e-02,\n",
       "        -1.00522110e-01, -4.23174061e-02, -2.50708463e-01,\n",
       "        -1.94489852e-02, -1.80844250e-01,  1.38517059e-03,\n",
       "         5.26499923e-02],\n",
       "       [ 1.65799263e-01, -2.93475100e-01,  1.67303495e-01,\n",
       "        -7.22084160e-02, -1.19083016e-02,  1.08324828e-01,\n",
       "         6.76220457e-02, -7.72002499e-03, -1.46568617e-03,\n",
       "        -2.96118433e-02],\n",
       "       [ 2.31241309e-01, -9.54645446e-02,  2.20557084e-02,\n",
       "         9.60237849e-02,  7.84264743e-02, -5.65462965e-03,\n",
       "         8.74466547e-02, -3.50165296e-02,  1.22128380e-01,\n",
       "        -9.62741908e-03],\n",
       "       [ 4.30223966e-01,  1.54898878e-01, -7.57852597e-04,\n",
       "        -1.11053398e-01, -9.08356884e-02,  4.31885786e-03,\n",
       "         5.44401710e-02,  1.01776866e-01,  8.83410220e-02,\n",
       "         8.85487687e-02],\n",
       "       [ 4.17040712e-01, -7.09321548e-02,  9.87092861e-02,\n",
       "        -2.28555883e-01, -1.35725018e-01,  2.08122881e-01,\n",
       "        -8.19271945e-02, -8.01848970e-02,  6.80199021e-03,\n",
       "        -5.01109729e-02],\n",
       "       [-2.94656217e-01, -1.01123582e-01,  3.03398828e-02,\n",
       "        -1.78753589e-01, -9.18698225e-02,  1.78553732e-01,\n",
       "        -6.65391375e-02, -4.73742803e-02,  6.91474710e-02,\n",
       "         2.21846731e-01],\n",
       "       [ 2.47991795e-01,  1.72838594e-01, -9.14280045e-02,\n",
       "         4.82133541e-02,  7.78853381e-02,  8.22083896e-02,\n",
       "         1.63892753e-01, -7.74150805e-02,  1.20031860e-01,\n",
       "        -3.29118964e-02],\n",
       "       [-3.10947214e-01, -1.91397384e-03, -3.27459440e-01,\n",
       "         1.09403445e-01, -3.44678505e-02,  1.89115265e-01,\n",
       "         2.30086680e-02, -1.38295018e-01,  3.59350575e-03,\n",
       "         2.02121593e-02],\n",
       "       [-1.95398812e-01, -7.54460216e-02,  3.46831836e-01,\n",
       "        -1.95568400e-02,  3.23082834e-02,  1.12884342e-01,\n",
       "        -3.41227488e-02, -1.04474791e-01,  6.93454431e-02,\n",
       "        -1.11830215e-01],\n",
       "       [ 8.59304179e-02,  3.05966287e-01, -2.22655586e-01,\n",
       "        -8.10793342e-03, -4.24881134e-02,  3.17895577e-02,\n",
       "        -1.64529122e-03,  3.81423778e-02,  1.96280570e-01,\n",
       "         8.38320608e-02],\n",
       "       [-2.13499443e-01,  1.16367163e-01,  4.70136689e-02,\n",
       "         7.19207113e-03, -4.28972838e-02, -1.26251113e-01,\n",
       "        -2.33644323e-02,  2.28994299e-01, -1.01997916e-02,\n",
       "        -1.57541511e-01]])"
      ]
     },
     "execution_count": 12,
     "metadata": {},
     "output_type": "execute_result"
    }
   ],
   "source": [
    "emb_pc"
   ]
  },
  {
   "cell_type": "code",
   "execution_count": 13,
   "id": "6255b8f4",
   "metadata": {},
   "outputs": [
    {
     "data": {
      "text/plain": [
       "0     atis_ground_service\n",
       "1            atis_airfare\n",
       "2     atis_ground_service\n",
       "3            atis_airfare\n",
       "4     atis_ground_service\n",
       "             ...         \n",
       "79    atis_ground_service\n",
       "80           atis_airfare\n",
       "81           atis_airline\n",
       "82    atis_ground_service\n",
       "83           atis_airfare\n",
       "Name: intent, Length: 84, dtype: object"
      ]
     },
     "execution_count": 13,
     "metadata": {},
     "output_type": "execute_result"
    }
   ],
   "source": [
    "intents"
   ]
  },
  {
   "cell_type": "code",
   "execution_count": 14,
   "id": "95385daa",
   "metadata": {},
   "outputs": [
    {
     "data": {
      "image/png": "[encoded data removed]",
      "text/plain": [
       "<Figure size 640x480 with 1 Axes>"
      ]
     },
     "metadata": {},
     "output_type": "display_data"
    }
   ],
   "source": [
    "for intent in intents.unique():\n",
    "    plt.scatter(\n",
    "        emb_pc[intents[intents == intent].index, 0], \n",
    "        emb_pc[intents[intents == intent].index, 1], \n",
    "        alpha=0.25,\n",
    "        label=intent)\n",
    "plt.legend();"
   ]
  },
  {
   "cell_type": "code",
   "execution_count": 15,
   "id": "283e1613",
   "metadata": {},
   "outputs": [
    {
     "data": {
      "image/png": "[encoded data removed]",
      "text/plain": [
       "<Figure size 640x480 with 1 Axes>"
      ]
     },
     "metadata": {},
     "output_type": "display_data"
    }
   ],
   "source": [
    "for intent in intents.unique():\n",
    "    plt.scatter(\n",
    "        emb_pc[intents[intents == intent].index, 0], \n",
    "        emb_pc[intents[intents == intent].index, 2], \n",
    "        alpha=0.25,\n",
    "        label=intent)\n",
    "plt.legend();"
   ]
  },
  {
   "cell_type": "code",
   "execution_count": 16,
   "id": "7c6279a9",
   "metadata": {},
   "outputs": [
    {
     "name": "stdout",
     "output_type": "stream",
     "text": [
      "0      what kind of ground transportation is there i...\n",
      "1        dl 296 denver to philadelphia what is the fare\n",
      "2      tell me about ground transportation in st. pe...\n",
      "3      i'd like to have some information on a ticket...\n",
      "4      could you tell me about ground transportation...\n",
      "5             show ground transportation for pittsburgh\n",
      "6      what is the cheapest fare for flights from bo...\n",
      "7      show me round trip fares between san francisc...\n",
      "8      how long does the ground transportation take ...\n",
      "9      please show me airlines with flights from den...\n",
      "10     what ground transportation is available in sa...\n",
      "11                 show me the car rentals in baltimore\n",
      "12     how much does it cost to fly on delta from da...\n",
      "13     what is the cost of united airlines flight 41...\n",
      "14     is there ground transportation from the dalla...\n",
      "15                                            is us air\n",
      "16     round trip fares from baltimore to philadelph...\n",
      "17     how much time does it take to go between the ...\n",
      "18     what are the fares for flights from charlotte...\n",
      "19     is there any ground transportation to the cit...\n",
      "Name: query, dtype: object\n"
     ]
    },
    {
     "data": {
      "image/png": "[encoded data removed]",
      "text/plain": [
       "<Figure size 640x480 with 1 Axes>"
      ]
     },
     "metadata": {},
     "output_type": "display_data"
    }
   ],
   "source": [
    "N = 20\n",
    "labels = df['query'][:N]\n",
    "plt.imshow(emb_pc[:N, :10])\n",
    "print(labels)"
   ]
  },
  {
   "cell_type": "markdown",
   "id": "3acd61f0",
   "metadata": {},
   "source": [
    "### Semantic Search"
   ]
  },
  {
   "cell_type": "code",
   "execution_count": 18,
   "id": "bee61ab1",
   "metadata": {},
   "outputs": [],
   "source": [
    "new_q = 'How can I find a taxi or bus when the plane lands?'\n",
    "new_q_emb = get_embeddings([new_q], input_type='search_query')[0]"
   ]
  },
  {
   "cell_type": "code",
   "execution_count": 19,
   "id": "cc06e621",
   "metadata": {},
   "outputs": [],
   "source": [
    "def get_similarity(target, candidates):\n",
    "    '''Calculate cosine similarity between the search query and\n",
    "    existing queries\n",
    "    '''\n",
    "    candidates = np.array(candidates)\n",
    "    target = np.expand_dims(np.array(target),axis=0)\n",
    "    sim = cosine_similarity(target, candidates)\n",
    "    sim = np.squeeze(sim).tolist()\n",
    "    sort_index = np.argsort(sim)[::-1]\n",
    "    sort_score = [sim[i] for i in sort_index]\n",
    "    similarity_scores = zip(sort_index,sort_score)\n",
    "    return similarity_scores"
   ]
  },
  {
   "cell_type": "code",
   "execution_count": 25,
   "id": "0e5d3abc",
   "metadata": {},
   "outputs": [
    {
     "name": "stdout",
     "output_type": "stream",
     "text": [
      "Query:  How can I find a taxi or bus when the plane lands?\n",
      "Most similar:\n",
      "Sim: 0.38;  what kind of ground transportation is there in denver\n",
      "Sim: 0.38;  dl 296 denver to philadelphia what is the fare\n",
      "Sim: 0.37;  tell me about ground transportation in st. petersburg airport\n",
      "Sim: 0.37;  i'd like to have some information on a ticket from denver to atlanta with a stop in pittsburgh\n",
      "Sim: 0.36;  could you tell me about ground transportation arrangements from the dallas airport to downtown dallas\n",
      "Sim: 0.36;  show ground transportation for pittsburgh\n",
      "Sim: 0.36;  what is the cheapest fare for flights from boston to dallas\n",
      "Sim: 0.36;  show me round trip fares between san francisco and washington dc\n",
      "Sim: 0.36;  how long does the ground transportation take from the salt lake city airport\n",
      "Sim: 0.35;  please show me airlines with flights from denver to boston with stop in philadelphia\n",
      "Sim: 0.35;  what ground transportation is available in san francisco\n"
     ]
    }
   ],
   "source": [
    "sim = get_similarity(new_q_emb, emb)\n",
    "\n",
    "print('Query: ', new_q)\n",
    "print('Most similar:')\n",
    "for i, (idx, sim) in enumerate(sim):\n",
    "    print(f'Sim: {sim:.2f};', df.iloc[i]['query'])\n",
    "    if i > 9:\n",
    "        break"
   ]
  },
  {
   "cell_type": "code",
   "execution_count": null,
   "id": "f521a78a",
   "metadata": {},
   "outputs": [],
   "source": []
  }
 ],
 "metadata": {
  "kernelspec": {
   "display_name": "Python 3 (ipykernel)",
   "language": "python",
   "name": "python3"
  },
  "language_info": {
   "codemirror_mode": {
    "name": "ipython",
    "version": 3
   },
   "file_extension": ".py",
   "mimetype": "text/x-python",
   "name": "python",
   "nbconvert_exporter": "python",
   "pygments_lexer": "ipython3",
   "version": "3.11.3"
  }
 },
 "nbformat": 4,
 "nbformat_minor": 5
}
