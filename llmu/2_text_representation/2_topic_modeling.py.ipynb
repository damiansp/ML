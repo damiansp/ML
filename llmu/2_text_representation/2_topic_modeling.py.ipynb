{
 "cells": [
  {
   "cell_type": "code",
   "execution_count": 1,
   "id": "77f1a345",
   "metadata": {},
   "outputs": [],
   "source": [
    "import json\n",
    "import ssl\n",
    "\n",
    "from annoy import AnnoyIndex\n",
    "import cohere\n",
    "import numpy as np\n",
    "import pandas as pd\n",
    "\n",
    "ssl._create_default_https_context = ssl._create_unverified_context"
   ]
  },
  {
   "cell_type": "code",
   "execution_count": 2,
   "id": "3c0dd7ed",
   "metadata": {},
   "outputs": [],
   "source": [
    "with open('../keys.json', 'r') as f:\n",
    "    api_key = json.load(f)['trial_api_key']\n",
    "    \n",
    "co = cohere.Client(api_key)"
   ]
  },
  {
   "cell_type": "code",
   "execution_count": 3,
   "id": "cf55c168",
   "metadata": {
    "scrolled": true
   },
   "outputs": [
    {
     "name": "stdout",
     "output_type": "stream",
     "text": [
      "(3000, 14)\n"
     ]
    },
    {
     "data": {
      "text/html": [
       "<div>\n",
       "<style scoped>\n",
       "    .dataframe tbody tr th:only-of-type {\n",
       "        vertical-align: middle;\n",
       "    }\n",
       "\n",
       "    .dataframe tbody tr th {\n",
       "        vertical-align: top;\n",
       "    }\n",
       "\n",
       "    .dataframe thead th {\n",
       "        text-align: right;\n",
       "    }\n",
       "</style>\n",
       "<table border=\"1\" class=\"dataframe\">\n",
       "  <thead>\n",
       "    <tr style=\"text-align: right;\">\n",
       "      <th></th>\n",
       "      <th>title</th>\n",
       "      <th>url</th>\n",
       "      <th>text</th>\n",
       "      <th>dead</th>\n",
       "      <th>by</th>\n",
       "      <th>score</th>\n",
       "      <th>time</th>\n",
       "      <th>timestamp</th>\n",
       "      <th>type</th>\n",
       "      <th>id</th>\n",
       "      <th>parent</th>\n",
       "      <th>descendants</th>\n",
       "      <th>ranking</th>\n",
       "      <th>deleted</th>\n",
       "    </tr>\n",
       "  </thead>\n",
       "  <tbody>\n",
       "    <tr>\n",
       "      <th>0</th>\n",
       "      <td>I'm a software engineer going blind, how shoul...</td>\n",
       "      <td>NaN</td>\n",
       "      <td>I&amp;#x27;m a 24 y&amp;#x2F;o full stack engineer (I ...</td>\n",
       "      <td>NaN</td>\n",
       "      <td>zachrip</td>\n",
       "      <td>3270</td>\n",
       "      <td>1587332026</td>\n",
       "      <td>2020-04-19 21:33:46+00:00</td>\n",
       "      <td>story</td>\n",
       "      <td>22918980</td>\n",
       "      <td>NaN</td>\n",
       "      <td>473.0</td>\n",
       "      <td>NaN</td>\n",
       "      <td>NaN</td>\n",
       "    </tr>\n",
       "    <tr>\n",
       "      <th>1</th>\n",
       "      <td>Am I the longest-serving programmer – 57 years...</td>\n",
       "      <td>NaN</td>\n",
       "      <td>In May of 1963, I started my first full-time j...</td>\n",
       "      <td>NaN</td>\n",
       "      <td>genedangelo</td>\n",
       "      <td>2634</td>\n",
       "      <td>1590890024</td>\n",
       "      <td>2020-05-31 01:53:44+00:00</td>\n",
       "      <td>story</td>\n",
       "      <td>23366546</td>\n",
       "      <td>NaN</td>\n",
       "      <td>531.0</td>\n",
       "      <td>NaN</td>\n",
       "      <td>NaN</td>\n",
       "    </tr>\n",
       "    <tr>\n",
       "      <th>2</th>\n",
       "      <td>Is S3 down?</td>\n",
       "      <td>NaN</td>\n",
       "      <td>I&amp;#x27;m getting&lt;p&gt;{\\n  &amp;quot;errorCode&amp;quot; ...</td>\n",
       "      <td>NaN</td>\n",
       "      <td>iamdeedubs</td>\n",
       "      <td>2589</td>\n",
       "      <td>1488303958</td>\n",
       "      <td>2017-02-28 17:45:58+00:00</td>\n",
       "      <td>story</td>\n",
       "      <td>13755673</td>\n",
       "      <td>NaN</td>\n",
       "      <td>1055.0</td>\n",
       "      <td>NaN</td>\n",
       "      <td>NaN</td>\n",
       "    </tr>\n",
       "    <tr>\n",
       "      <th>3</th>\n",
       "      <td>What tech job would let me get away with the l...</td>\n",
       "      <td>NaN</td>\n",
       "      <td>Hey HN,&lt;p&gt;I&amp;#x27;ll probably get a lot of flak...</td>\n",
       "      <td>NaN</td>\n",
       "      <td>lmueongoqx</td>\n",
       "      <td>2022</td>\n",
       "      <td>1617784863</td>\n",
       "      <td>2021-04-07 08:41:03+00:00</td>\n",
       "      <td>story</td>\n",
       "      <td>26721951</td>\n",
       "      <td>NaN</td>\n",
       "      <td>1091.0</td>\n",
       "      <td>NaN</td>\n",
       "      <td>NaN</td>\n",
       "    </tr>\n",
       "    <tr>\n",
       "      <th>4</th>\n",
       "      <td>What books changed the way you think about alm...</td>\n",
       "      <td>NaN</td>\n",
       "      <td>I was reflecting today about how often I think...</td>\n",
       "      <td>NaN</td>\n",
       "      <td>anderspitman</td>\n",
       "      <td>2009</td>\n",
       "      <td>1549387905</td>\n",
       "      <td>2019-02-05 17:31:45+00:00</td>\n",
       "      <td>story</td>\n",
       "      <td>19087418</td>\n",
       "      <td>NaN</td>\n",
       "      <td>1165.0</td>\n",
       "      <td>NaN</td>\n",
       "      <td>NaN</td>\n",
       "    </tr>\n",
       "  </tbody>\n",
       "</table>\n",
       "</div>"
      ],
      "text/plain": [
       "                                               title  url  \\\n",
       "0  I'm a software engineer going blind, how shoul...  NaN   \n",
       "1  Am I the longest-serving programmer – 57 years...  NaN   \n",
       "2                                        Is S3 down?  NaN   \n",
       "3  What tech job would let me get away with the l...  NaN   \n",
       "4  What books changed the way you think about alm...  NaN   \n",
       "\n",
       "                                                text dead            by  \\\n",
       "0  I&#x27;m a 24 y&#x2F;o full stack engineer (I ...  NaN       zachrip   \n",
       "1  In May of 1963, I started my first full-time j...  NaN   genedangelo   \n",
       "2  I&#x27;m getting<p>{\\n  &quot;errorCode&quot; ...  NaN    iamdeedubs   \n",
       "3  Hey HN,<p>I&#x27;ll probably get a lot of flak...  NaN    lmueongoqx   \n",
       "4  I was reflecting today about how often I think...  NaN  anderspitman   \n",
       "\n",
       "   score        time                  timestamp   type        id  parent  \\\n",
       "0   3270  1587332026  2020-04-19 21:33:46+00:00  story  22918980     NaN   \n",
       "1   2634  1590890024  2020-05-31 01:53:44+00:00  story  23366546     NaN   \n",
       "2   2589  1488303958  2017-02-28 17:45:58+00:00  story  13755673     NaN   \n",
       "3   2022  1617784863  2021-04-07 08:41:03+00:00  story  26721951     NaN   \n",
       "4   2009  1549387905  2019-02-05 17:31:45+00:00  story  19087418     NaN   \n",
       "\n",
       "   descendants  ranking  deleted  \n",
       "0        473.0      NaN      NaN  \n",
       "1        531.0      NaN      NaN  \n",
       "2       1055.0      NaN      NaN  \n",
       "3       1091.0      NaN      NaN  \n",
       "4       1165.0      NaN      NaN  "
      ]
     },
     "execution_count": 3,
     "metadata": {},
     "output_type": "execute_result"
    }
   ],
   "source": [
    "df = pd.read_csv(\n",
    "    'https://storage.googleapis.com/cohere-assets/blog/text-clustering/'\n",
    "    'data/askhn3k_df.csv',\n",
    "    index_col=0)\n",
    "print(df.shape)\n",
    "df.head()"
   ]
  },
  {
   "cell_type": "code",
   "execution_count": 4,
   "id": "7f99592f",
   "metadata": {},
   "outputs": [
    {
     "data": {
      "text/plain": [
       "(3000, 1024)"
      ]
     },
     "execution_count": 4,
     "metadata": {},
     "output_type": "execute_result"
    }
   ],
   "source": [
    "BATCH = 90\n",
    "emb_list = []\n",
    "n = len(df)\n",
    "\n",
    "for i in range(0, n, BATCH):\n",
    "    batch = df[i:min(i + BATCH, n)]\n",
    "    txts = list(batch.title)\n",
    "    embs_batch = co.embed(\n",
    "        texts=txts,\n",
    "        model='embed-english-v3.0',\n",
    "        input_type='search_document'\n",
    "    ).embeddings\n",
    "    emb_list.extend(embs_batch)\n",
    "    \n",
    "emb = np.array(emb_list)\n",
    "emb.shape"
   ]
  },
  {
   "cell_type": "code",
   "execution_count": 5,
   "id": "5e8453c5",
   "metadata": {},
   "outputs": [
    {
     "data": {
      "text/plain": [
       "True"
      ]
     },
     "execution_count": 5,
     "metadata": {},
     "output_type": "execute_result"
    }
   ],
   "source": [
    "search_idx = AnnoyIndex(emb.shape[1], 'angular')\n",
    "for i, em in enumerate(emb):\n",
    "    search_idx.add_item(i, em)\n",
    "search_idx.build(10)  # 10 trees\n",
    "search_idx.save('askhn.ann')"
   ]
  },
  {
   "cell_type": "markdown",
   "id": "9b408705",
   "metadata": {},
   "source": [
    "### 1 Given post title, retrieve most similar\n",
    "(use nearest-neighbor search on embeddings)"
   ]
  },
  {
   "cell_type": "code",
   "execution_count": 9,
   "id": "6a2d640c",
   "metadata": {},
   "outputs": [
    {
     "name": "stdout",
     "output_type": "stream",
     "text": [
      "Query post: \"Urgent connection to Twitter support\"\n",
      "Nearest neigbors:\n"
     ]
    },
    {
     "data": {
      "text/html": [
       "<div>\n",
       "<style scoped>\n",
       "    .dataframe tbody tr th:only-of-type {\n",
       "        vertical-align: middle;\n",
       "    }\n",
       "\n",
       "    .dataframe tbody tr th {\n",
       "        vertical-align: top;\n",
       "    }\n",
       "\n",
       "    .dataframe thead th {\n",
       "        text-align: right;\n",
       "    }\n",
       "</style>\n",
       "<table border=\"1\" class=\"dataframe\">\n",
       "  <thead>\n",
       "    <tr style=\"text-align: right;\">\n",
       "      <th></th>\n",
       "      <th>post_titles</th>\n",
       "      <th>distance</th>\n",
       "    </tr>\n",
       "  </thead>\n",
       "  <tbody>\n",
       "    <tr>\n",
       "      <th>2817</th>\n",
       "      <td>Twitter account stolen by presumed vulnerability</td>\n",
       "      <td>0.877691</td>\n",
       "    </tr>\n",
       "    <tr>\n",
       "      <th>1324</th>\n",
       "      <td>Desperate Python Hacker Seeking Help and Sugge...</td>\n",
       "      <td>0.937701</td>\n",
       "    </tr>\n",
       "    <tr>\n",
       "      <th>2808</th>\n",
       "      <td>LinkedIn suggesting I connect with my infertil...</td>\n",
       "      <td>0.946785</td>\n",
       "    </tr>\n",
       "    <tr>\n",
       "      <th>1488</th>\n",
       "      <td>What Has Happened to Twitter?</td>\n",
       "      <td>0.963125</td>\n",
       "    </tr>\n",
       "    <tr>\n",
       "      <th>168</th>\n",
       "      <td>Help, HN'er in trouble, we need a laywer in De...</td>\n",
       "      <td>0.973216</td>\n",
       "    </tr>\n",
       "    <tr>\n",
       "      <th>346</th>\n",
       "      <td>Anonymous person sent proof of SSH access to o...</td>\n",
       "      <td>0.981433</td>\n",
       "    </tr>\n",
       "    <tr>\n",
       "      <th>2896</th>\n",
       "      <td>Alternate Email hosting to G Suite</td>\n",
       "      <td>0.988487</td>\n",
       "    </tr>\n",
       "    <tr>\n",
       "      <th>916</th>\n",
       "      <td>Website go-live checklist app</td>\n",
       "      <td>0.993343</td>\n",
       "    </tr>\n",
       "    <tr>\n",
       "      <th>2585</th>\n",
       "      <td>Google Drive/Office 365 alternatives</td>\n",
       "      <td>0.997686</td>\n",
       "    </tr>\n",
       "  </tbody>\n",
       "</table>\n",
       "</div>"
      ],
      "text/plain": [
       "                                            post_titles  distance\n",
       "2817   Twitter account stolen by presumed vulnerability  0.877691\n",
       "1324  Desperate Python Hacker Seeking Help and Sugge...  0.937701\n",
       "2808  LinkedIn suggesting I connect with my infertil...  0.946785\n",
       "1488                      What Has Happened to Twitter?  0.963125\n",
       "168   Help, HN'er in trouble, we need a laywer in De...  0.973216\n",
       "346   Anonymous person sent proof of SSH access to o...  0.981433\n",
       "2896                 Alternate Email hosting to G Suite  0.988487\n",
       "916                       Website go-live checklist app  0.993343\n",
       "2585               Google Drive/Office 365 alternatives  0.997686"
      ]
     },
     "execution_count": 9,
     "metadata": {},
     "output_type": "execute_result"
    }
   ],
   "source": [
    "ex_id = 47\n",
    "similar_item_ids = search_idx.get_nns_by_item(\n",
    "    ex_id, 10, include_distances=True)\n",
    "res = pd.DataFrame({\n",
    "    'post_titles': df.iloc[similar_item_ids[0]].title,\n",
    "    'distance': similar_item_ids[1]\n",
    "}).drop(ex_id)\n",
    "print(f'Query post: \"{df.iloc[ex_id].title}\"\\nNearest neigbors:')\n",
    "res"
   ]
  },
  {
   "cell_type": "markdown",
   "id": "d59968ea",
   "metadata": {},
   "source": [
    "### 2 Given a query we write, retrieve the most similar posts"
   ]
  },
  {
   "cell_type": "code",
   "execution_count": null,
   "id": "533f4158",
   "metadata": {},
   "outputs": [],
   "source": []
  }
 ],
 "metadata": {
  "kernelspec": {
   "display_name": "Python 3 (ipykernel)",
   "language": "python",
   "name": "python3"
  },
  "language_info": {
   "codemirror_mode": {
    "name": "ipython",
    "version": 3
   },
   "file_extension": ".py",
   "mimetype": "text/x-python",
   "name": "python",
   "nbconvert_exporter": "python",
   "pygments_lexer": "ipython3",
   "version": "3.11.3"
  }
 },
 "nbformat": 4,
 "nbformat_minor": 5
}
