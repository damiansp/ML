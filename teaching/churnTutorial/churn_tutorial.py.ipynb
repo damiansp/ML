{
 "cells": [
  {
   "cell_type": "code",
   "execution_count": 26,
   "metadata": {},
   "outputs": [],
   "source": [
    "import matplotlib.pyplot as plt\n",
    "import numpy as np\n",
    "import pandas as pd\n",
    "from sklearn.linear_model import Lasso, Ridge\n",
    "from sklearn.model_selection import train_test_split\n",
    "from sklearn.preprocessing import StandardScaler\n",
    "\n",
    "%matplotlib inline"
   ]
  },
  {
   "cell_type": "code",
   "execution_count": 2,
   "metadata": {},
   "outputs": [
    {
     "data": {
      "text/html": [
       "<div>\n",
       "<style scoped>\n",
       "    .dataframe tbody tr th:only-of-type {\n",
       "        vertical-align: middle;\n",
       "    }\n",
       "\n",
       "    .dataframe tbody tr th {\n",
       "        vertical-align: top;\n",
       "    }\n",
       "\n",
       "    .dataframe thead th {\n",
       "        text-align: right;\n",
       "    }\n",
       "</style>\n",
       "<table border=\"1\" class=\"dataframe\">\n",
       "  <thead>\n",
       "    <tr style=\"text-align: right;\">\n",
       "      <th></th>\n",
       "      <th>group_id</th>\n",
       "      <th>cost</th>\n",
       "      <th>subscription_days</th>\n",
       "      <th>total_users</th>\n",
       "      <th>active_users</th>\n",
       "      <th>total_minutes</th>\n",
       "      <th>courses</th>\n",
       "      <th>mobile_users</th>\n",
       "      <th>mobile_minutes</th>\n",
       "      <th>n_exams</th>\n",
       "      <th>...</th>\n",
       "      <th>t:admin_logged_in</th>\n",
       "      <th>t:autopay</th>\n",
       "      <th>bookmark_usage:n_bookmarks</th>\n",
       "      <th>any_courses:courses</th>\n",
       "      <th>any_minutes:total_minutes</th>\n",
       "      <th>any_mobile_minutes:mobile_minutes</th>\n",
       "      <th>contract:cost</th>\n",
       "      <th>contract:cost_per_total_user</th>\n",
       "      <th>cost_per_total_user:renewal_price</th>\n",
       "      <th>pay_type_wiretransfer</th>\n",
       "    </tr>\n",
       "  </thead>\n",
       "  <tbody>\n",
       "    <tr>\n",
       "      <td>0</td>\n",
       "      <td>484909</td>\n",
       "      <td>999.00</td>\n",
       "      <td>566</td>\n",
       "      <td>1</td>\n",
       "      <td>1</td>\n",
       "      <td>1141</td>\n",
       "      <td>3</td>\n",
       "      <td>1</td>\n",
       "      <td>899</td>\n",
       "      <td>1</td>\n",
       "      <td>...</td>\n",
       "      <td>0</td>\n",
       "      <td>0</td>\n",
       "      <td>0</td>\n",
       "      <td>3</td>\n",
       "      <td>1141</td>\n",
       "      <td>899</td>\n",
       "      <td>0.0</td>\n",
       "      <td>0.0</td>\n",
       "      <td>998001.000000</td>\n",
       "      <td>0</td>\n",
       "    </tr>\n",
       "    <tr>\n",
       "      <td>1</td>\n",
       "      <td>547826</td>\n",
       "      <td>2693.10</td>\n",
       "      <td>365</td>\n",
       "      <td>3</td>\n",
       "      <td>4</td>\n",
       "      <td>3124</td>\n",
       "      <td>10</td>\n",
       "      <td>1</td>\n",
       "      <td>68</td>\n",
       "      <td>3</td>\n",
       "      <td>...</td>\n",
       "      <td>8</td>\n",
       "      <td>8</td>\n",
       "      <td>0</td>\n",
       "      <td>10</td>\n",
       "      <td>3124</td>\n",
       "      <td>68</td>\n",
       "      <td>0.0</td>\n",
       "      <td>0.0</td>\n",
       "      <td>896802.300000</td>\n",
       "      <td>0</td>\n",
       "    </tr>\n",
       "    <tr>\n",
       "      <td>2</td>\n",
       "      <td>484909</td>\n",
       "      <td>999.00</td>\n",
       "      <td>566</td>\n",
       "      <td>1</td>\n",
       "      <td>1</td>\n",
       "      <td>460</td>\n",
       "      <td>3</td>\n",
       "      <td>1</td>\n",
       "      <td>358</td>\n",
       "      <td>0</td>\n",
       "      <td>...</td>\n",
       "      <td>0</td>\n",
       "      <td>0</td>\n",
       "      <td>0</td>\n",
       "      <td>3</td>\n",
       "      <td>460</td>\n",
       "      <td>358</td>\n",
       "      <td>0.0</td>\n",
       "      <td>0.0</td>\n",
       "      <td>998001.000000</td>\n",
       "      <td>0</td>\n",
       "    </tr>\n",
       "    <tr>\n",
       "      <td>3</td>\n",
       "      <td>561390</td>\n",
       "      <td>12103.72</td>\n",
       "      <td>365</td>\n",
       "      <td>14</td>\n",
       "      <td>12</td>\n",
       "      <td>3905</td>\n",
       "      <td>37</td>\n",
       "      <td>2</td>\n",
       "      <td>38</td>\n",
       "      <td>2</td>\n",
       "      <td>...</td>\n",
       "      <td>0</td>\n",
       "      <td>0</td>\n",
       "      <td>0</td>\n",
       "      <td>37</td>\n",
       "      <td>3905</td>\n",
       "      <td>38</td>\n",
       "      <td>0.0</td>\n",
       "      <td>0.0</td>\n",
       "      <td>863686.877143</td>\n",
       "      <td>0</td>\n",
       "    </tr>\n",
       "    <tr>\n",
       "      <td>4</td>\n",
       "      <td>547826</td>\n",
       "      <td>2693.10</td>\n",
       "      <td>365</td>\n",
       "      <td>3</td>\n",
       "      <td>4</td>\n",
       "      <td>3384</td>\n",
       "      <td>14</td>\n",
       "      <td>1</td>\n",
       "      <td>68</td>\n",
       "      <td>3</td>\n",
       "      <td>...</td>\n",
       "      <td>9</td>\n",
       "      <td>9</td>\n",
       "      <td>0</td>\n",
       "      <td>14</td>\n",
       "      <td>3384</td>\n",
       "      <td>68</td>\n",
       "      <td>0.0</td>\n",
       "      <td>0.0</td>\n",
       "      <td>896802.300000</td>\n",
       "      <td>0</td>\n",
       "    </tr>\n",
       "  </tbody>\n",
       "</table>\n",
       "<p>5 rows × 124 columns</p>\n",
       "</div>"
      ],
      "text/plain": [
       "   group_id      cost  subscription_days  total_users  active_users  \\\n",
       "0    484909    999.00                566            1             1   \n",
       "1    547826   2693.10                365            3             4   \n",
       "2    484909    999.00                566            1             1   \n",
       "3    561390  12103.72                365           14            12   \n",
       "4    547826   2693.10                365            3             4   \n",
       "\n",
       "   total_minutes  courses  mobile_users  mobile_minutes  n_exams  ...  \\\n",
       "0           1141        3             1             899        1  ...   \n",
       "1           3124       10             1              68        3  ...   \n",
       "2            460        3             1             358        0  ...   \n",
       "3           3905       37             2              38        2  ...   \n",
       "4           3384       14             1              68        3  ...   \n",
       "\n",
       "   t:admin_logged_in  t:autopay  bookmark_usage:n_bookmarks  \\\n",
       "0                  0          0                           0   \n",
       "1                  8          8                           0   \n",
       "2                  0          0                           0   \n",
       "3                  0          0                           0   \n",
       "4                  9          9                           0   \n",
       "\n",
       "   any_courses:courses  any_minutes:total_minutes  \\\n",
       "0                    3                       1141   \n",
       "1                   10                       3124   \n",
       "2                    3                        460   \n",
       "3                   37                       3905   \n",
       "4                   14                       3384   \n",
       "\n",
       "   any_mobile_minutes:mobile_minutes  contract:cost  \\\n",
       "0                                899            0.0   \n",
       "1                                 68            0.0   \n",
       "2                                358            0.0   \n",
       "3                                 38            0.0   \n",
       "4                                 68            0.0   \n",
       "\n",
       "   contract:cost_per_total_user cost_per_total_user:renewal_price  \\\n",
       "0                           0.0                     998001.000000   \n",
       "1                           0.0                     896802.300000   \n",
       "2                           0.0                     998001.000000   \n",
       "3                           0.0                     863686.877143   \n",
       "4                           0.0                     896802.300000   \n",
       "\n",
       "   pay_type_wiretransfer  \n",
       "0                      0  \n",
       "1                      0  \n",
       "2                      0  \n",
       "3                      0  \n",
       "4                      0  \n",
       "\n",
       "[5 rows x 124 columns]"
      ]
     },
     "execution_count": 2,
     "metadata": {},
     "output_type": "execute_result"
    }
   ],
   "source": [
    "data = pd.read_csv('merged_2019-07-26.csv')\n",
    "data.head()"
   ]
  },
  {
   "cell_type": "code",
   "execution_count": 3,
   "metadata": {},
   "outputs": [
    {
     "data": {
      "text/plain": [
       "['cost',\n",
       " 'subscription_days',\n",
       " 'total_users',\n",
       " 'active_users',\n",
       " 'total_minutes',\n",
       " 'courses',\n",
       " 'mobile_users',\n",
       " 'mobile_minutes',\n",
       " 'n_exams',\n",
       " 'exam_member',\n",
       " 'renewed']"
      ]
     },
     "execution_count": 3,
     "metadata": {},
     "output_type": "execute_result"
    }
   ],
   "source": [
    "use = ([field for field in list(data) if ':' not in field][1:11] \n",
    "       + ['renewed'])\n",
    "use"
   ]
  },
  {
   "cell_type": "code",
   "execution_count": 4,
   "metadata": {},
   "outputs": [
    {
     "data": {
      "text/html": [
       "<div>\n",
       "<style scoped>\n",
       "    .dataframe tbody tr th:only-of-type {\n",
       "        vertical-align: middle;\n",
       "    }\n",
       "\n",
       "    .dataframe tbody tr th {\n",
       "        vertical-align: top;\n",
       "    }\n",
       "\n",
       "    .dataframe thead th {\n",
       "        text-align: right;\n",
       "    }\n",
       "</style>\n",
       "<table border=\"1\" class=\"dataframe\">\n",
       "  <thead>\n",
       "    <tr style=\"text-align: right;\">\n",
       "      <th></th>\n",
       "      <th>cost</th>\n",
       "      <th>subscription_days</th>\n",
       "      <th>total_users</th>\n",
       "      <th>active_users</th>\n",
       "      <th>total_minutes</th>\n",
       "      <th>courses</th>\n",
       "      <th>mobile_users</th>\n",
       "      <th>mobile_minutes</th>\n",
       "      <th>n_exams</th>\n",
       "      <th>exam_member</th>\n",
       "      <th>renewed</th>\n",
       "    </tr>\n",
       "  </thead>\n",
       "  <tbody>\n",
       "    <tr>\n",
       "      <td>0</td>\n",
       "      <td>999.00</td>\n",
       "      <td>566</td>\n",
       "      <td>1</td>\n",
       "      <td>1</td>\n",
       "      <td>1141</td>\n",
       "      <td>3</td>\n",
       "      <td>1</td>\n",
       "      <td>899</td>\n",
       "      <td>1</td>\n",
       "      <td>1</td>\n",
       "      <td>0</td>\n",
       "    </tr>\n",
       "    <tr>\n",
       "      <td>1</td>\n",
       "      <td>2693.10</td>\n",
       "      <td>365</td>\n",
       "      <td>3</td>\n",
       "      <td>4</td>\n",
       "      <td>3124</td>\n",
       "      <td>10</td>\n",
       "      <td>1</td>\n",
       "      <td>68</td>\n",
       "      <td>3</td>\n",
       "      <td>3</td>\n",
       "      <td>0</td>\n",
       "    </tr>\n",
       "    <tr>\n",
       "      <td>2</td>\n",
       "      <td>999.00</td>\n",
       "      <td>566</td>\n",
       "      <td>1</td>\n",
       "      <td>1</td>\n",
       "      <td>460</td>\n",
       "      <td>3</td>\n",
       "      <td>1</td>\n",
       "      <td>358</td>\n",
       "      <td>0</td>\n",
       "      <td>0</td>\n",
       "      <td>0</td>\n",
       "    </tr>\n",
       "    <tr>\n",
       "      <td>3</td>\n",
       "      <td>12103.72</td>\n",
       "      <td>365</td>\n",
       "      <td>14</td>\n",
       "      <td>12</td>\n",
       "      <td>3905</td>\n",
       "      <td>37</td>\n",
       "      <td>2</td>\n",
       "      <td>38</td>\n",
       "      <td>2</td>\n",
       "      <td>2</td>\n",
       "      <td>0</td>\n",
       "    </tr>\n",
       "    <tr>\n",
       "      <td>4</td>\n",
       "      <td>2693.10</td>\n",
       "      <td>365</td>\n",
       "      <td>3</td>\n",
       "      <td>4</td>\n",
       "      <td>3384</td>\n",
       "      <td>14</td>\n",
       "      <td>1</td>\n",
       "      <td>68</td>\n",
       "      <td>3</td>\n",
       "      <td>3</td>\n",
       "      <td>0</td>\n",
       "    </tr>\n",
       "  </tbody>\n",
       "</table>\n",
       "</div>"
      ],
      "text/plain": [
       "       cost  subscription_days  total_users  active_users  total_minutes  \\\n",
       "0    999.00                566            1             1           1141   \n",
       "1   2693.10                365            3             4           3124   \n",
       "2    999.00                566            1             1            460   \n",
       "3  12103.72                365           14            12           3905   \n",
       "4   2693.10                365            3             4           3384   \n",
       "\n",
       "   courses  mobile_users  mobile_minutes  n_exams  exam_member  renewed  \n",
       "0        3             1             899        1            1        0  \n",
       "1       10             1              68        3            3        0  \n",
       "2        3             1             358        0            0        0  \n",
       "3       37             2              38        2            2        0  \n",
       "4       14             1              68        3            3        0  "
      ]
     },
     "execution_count": 4,
     "metadata": {},
     "output_type": "execute_result"
    }
   ],
   "source": [
    "data = data[use]\n",
    "data.head()"
   ]
  },
  {
   "cell_type": "code",
   "execution_count": 5,
   "metadata": {},
   "outputs": [],
   "source": [
    "y = data.renewed\n",
    "X = data.drop('renewed', axis=1)"
   ]
  },
  {
   "cell_type": "code",
   "execution_count": 6,
   "metadata": {},
   "outputs": [
    {
     "data": {
      "text/plain": [
       "(pandas.core.frame.DataFrame, pandas.core.series.Series)"
      ]
     },
     "execution_count": 6,
     "metadata": {},
     "output_type": "execute_result"
    }
   ],
   "source": [
    "type(X), type(y)"
   ]
  },
  {
   "cell_type": "code",
   "execution_count": 7,
   "metadata": {},
   "outputs": [],
   "source": [
    "X_train_valid, X_test, y_train_valid, y_test = train_test_split(\n",
    "    X, y, test_size=0.15, random_state=11)"
   ]
  },
  {
   "cell_type": "code",
   "execution_count": 8,
   "metadata": {},
   "outputs": [],
   "source": [
    "X_train, X_valid, y_train, y_valid = train_test_split(\n",
    "    X_train_valid, y_train_valid, test_size=0.176, random_state=11)"
   ]
  },
  {
   "cell_type": "code",
   "execution_count": 9,
   "metadata": {
    "scrolled": true
   },
   "outputs": [
    {
     "name": "stdout",
     "output_type": "stream",
     "text": [
      "(44286, 10)\n",
      "(9460, 10)\n",
      "(9485, 10)\n",
      "(44286,)\n",
      "(9460,)\n",
      "(9485,)\n"
     ]
    }
   ],
   "source": [
    "for obj in [X_train, X_valid, X_test, y_train, y_valid, y_test]:\n",
    "    print(obj.shape)"
   ]
  },
  {
   "cell_type": "code",
   "execution_count": 10,
   "metadata": {},
   "outputs": [],
   "source": [
    "scaler = StandardScaler()\n",
    "X_train = scaler.fit_transform(X_train)"
   ]
  },
  {
   "cell_type": "code",
   "execution_count": 11,
   "metadata": {},
   "outputs": [],
   "source": [
    "X_valid = scaler.transform(X_valid)\n",
    "X_test = scaler.transform(X_test)"
   ]
  },
  {
   "cell_type": "code",
   "execution_count": 12,
   "metadata": {},
   "outputs": [
    {
     "data": {
      "text/plain": [
       "Ridge(alpha=1.0, copy_X=True, fit_intercept=True, max_iter=None,\n",
       "      normalize=False, random_state=None, solver='auto', tol=0.001)"
      ]
     },
     "execution_count": 12,
     "metadata": {},
     "output_type": "execute_result"
    }
   ],
   "source": [
    "ridge = Ridge(alpha=1.0)\n",
    "ridge.fit(X_train, y_train)"
   ]
  },
  {
   "cell_type": "code",
   "execution_count": 20,
   "metadata": {},
   "outputs": [
    {
     "data": {
      "text/plain": [
       "array([0.7275024 , 0.54307681, 0.70386757, ..., 0.59260623, 0.69312926,\n",
       "       0.47409068])"
      ]
     },
     "execution_count": 20,
     "metadata": {},
     "output_type": "execute_result"
    }
   ],
   "source": [
    "fitted = ridge.predict(X_train)\n",
    "fitted"
   ]
  },
  {
   "cell_type": "code",
   "execution_count": 17,
   "metadata": {},
   "outputs": [
    {
     "data": {
      "text/plain": [
       "array([1.        , 1.77777778, 2.55555556, 3.33333333, 4.11111111,\n",
       "       4.88888889, 5.66666667, 6.44444444, 7.22222222, 8.        ])"
      ]
     },
     "execution_count": 17,
     "metadata": {},
     "output_type": "execute_result"
    }
   ],
   "source": [
    "np.linspace(1, 8, 10)"
   ]
  },
  {
   "cell_type": "code",
   "execution_count": 18,
   "metadata": {},
   "outputs": [
    {
     "data": {
      "text/plain": [
       "array([1.00000000e+01, 5.99484250e+01, 3.59381366e+02, 2.15443469e+03,\n",
       "       1.29154967e+04, 7.74263683e+04, 4.64158883e+05, 2.78255940e+06,\n",
       "       1.66810054e+07, 1.00000000e+08])"
      ]
     },
     "execution_count": 18,
     "metadata": {},
     "output_type": "execute_result"
    }
   ],
   "source": [
    "np.logspace(1, 8, 10)"
   ]
  },
  {
   "cell_type": "code",
   "execution_count": 21,
   "metadata": {},
   "outputs": [],
   "source": [
    "def get_sse(predictions, actual):\n",
    "     return ((predictions - actual) ** 2).sum()"
   ]
  },
  {
   "cell_type": "code",
   "execution_count": 22,
   "metadata": {},
   "outputs": [
    {
     "data": {
      "text/plain": [
       "10467.680183426284"
      ]
     },
     "execution_count": 22,
     "metadata": {},
     "output_type": "execute_result"
    }
   ],
   "source": [
    "fitted_sse = get_sse(fitted, y_train)\n",
    "fitted_sse"
   ]
  },
  {
   "cell_type": "code",
   "execution_count": 49,
   "metadata": {},
   "outputs": [],
   "source": [
    "alphas = np.logspace(3.2, 3.9, 10)\n",
    "errors = []\n",
    "\n",
    "#for alpha in alphas:\n",
    "#    set up clf = Ridge(alpha=alpha)\n",
    "#    fit on training \n",
    "#    predict on valid X data\n",
    "#    compare predicted validation data to actual y validation (sse)\n",
    "#    save sse to errors (errors.append(...))"
   ]
  },
  {
   "cell_type": "code",
   "execution_count": 50,
   "metadata": {},
   "outputs": [],
   "source": [
    "for alpha in alphas:\n",
    "    ridge = Ridge(alpha=alpha)\n",
    "    ridge.fit(X_train, y_train)\n",
    "    preds = ridge.predict(X_valid)\n",
    "    sse = get_sse(preds, y_valid)\n",
    "    errors.append(sse)"
   ]
  },
  {
   "cell_type": "code",
   "execution_count": 51,
   "metadata": {},
   "outputs": [
    {
     "data": {
      "image/png": "[encoded data removed]",
      "text/plain": [
       "<Figure size 432x288 with 1 Axes>"
      ]
     },
     "metadata": {
      "needs_background": "light"
     },
     "output_type": "display_data"
    }
   ],
   "source": [
    "plt.plot(alphas, errors)\n",
    "plt.xlabel('Alpha')\n",
    "plt.ylabel('SSE')\n",
    "plt.xscale('log');"
   ]
  },
  {
   "cell_type": "code",
   "execution_count": 52,
   "metadata": {},
   "outputs": [],
   "source": [
    "best_alpha = 3e3"
   ]
  },
  {
   "cell_type": "code",
   "execution_count": 55,
   "metadata": {},
   "outputs": [
    {
     "data": {
      "text/plain": [
       "2221.785511283003"
      ]
     },
     "execution_count": 55,
     "metadata": {},
     "output_type": "execute_result"
    }
   ],
   "source": [
    "final_mod = Ridge(alpha=best_alpha)\n",
    "final_mod.fit(X_train, y_train)\n",
    "preds = final_mod.predict(X_test)\n",
    "get_sse(preds, y_test)"
   ]
  },
  {
   "cell_type": "code",
   "execution_count": 56,
   "metadata": {},
   "outputs": [
    {
     "data": {
      "text/plain": [
       "array([ 0.00673589,  0.06984269,  0.00069032, -0.00908674,  0.01390389,\n",
       "        0.0542938 , -0.01467123, -0.01324249,  0.01051187, -0.00623696])"
      ]
     },
     "execution_count": 56,
     "metadata": {},
     "output_type": "execute_result"
    }
   ],
   "source": [
    "final_mod.coef_"
   ]
  },
  {
   "cell_type": "code",
   "execution_count": 57,
   "metadata": {},
   "outputs": [
    {
     "data": {
      "text/plain": [
       "0.5657544144876485"
      ]
     },
     "execution_count": 57,
     "metadata": {},
     "output_type": "execute_result"
    }
   ],
   "source": [
    "final_mod.intercept_"
   ]
  },
  {
   "cell_type": "code",
   "execution_count": null,
   "metadata": {},
   "outputs": [],
   "source": []
  }
 ],
 "metadata": {
  "kernelspec": {
   "display_name": "Python 3",
   "language": "python",
   "name": "python3"
  },
  "language_info": {
   "codemirror_mode": {
    "name": "ipython",
    "version": 3
   },
   "file_extension": ".py",
   "mimetype": "text/x-python",
   "name": "python",
   "nbconvert_exporter": "python",
   "pygments_lexer": "ipython3",
   "version": "3.7.4"
  }
 },
 "nbformat": 4,
 "nbformat_minor": 2
}
