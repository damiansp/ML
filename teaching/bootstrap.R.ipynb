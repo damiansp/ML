{
 "cells": [
  {
   "cell_type": "code",
   "execution_count": 2,
   "metadata": {},
   "outputs": [
    {
     "data": {
      "text/html": [
       "<table>\n",
       "<thead><tr><th scope=col>Ozone</th><th scope=col>Solar.R</th><th scope=col>Wind</th><th scope=col>Temp</th><th scope=col>Month</th><th scope=col>Day</th></tr></thead>\n",
       "<tbody>\n",
       "\t<tr><td>41  </td><td>190 </td><td> 7.4</td><td>67  </td><td>5   </td><td>1   </td></tr>\n",
       "\t<tr><td>36  </td><td>118 </td><td> 8.0</td><td>72  </td><td>5   </td><td>2   </td></tr>\n",
       "\t<tr><td>12  </td><td>149 </td><td>12.6</td><td>74  </td><td>5   </td><td>3   </td></tr>\n",
       "\t<tr><td>18  </td><td>313 </td><td>11.5</td><td>62  </td><td>5   </td><td>4   </td></tr>\n",
       "\t<tr><td>NA  </td><td> NA </td><td>14.3</td><td>56  </td><td>5   </td><td>5   </td></tr>\n",
       "\t<tr><td>28  </td><td> NA </td><td>14.9</td><td>66  </td><td>5   </td><td>6   </td></tr>\n",
       "</tbody>\n",
       "</table>\n"
      ],
      "text/latex": [
       "\\begin{tabular}{r|llllll}\n",
       " Ozone & Solar.R & Wind & Temp & Month & Day\\\\\n",
       "\\hline\n",
       "\t 41   & 190  &  7.4 & 67   & 5    & 1   \\\\\n",
       "\t 36   & 118  &  8.0 & 72   & 5    & 2   \\\\\n",
       "\t 12   & 149  & 12.6 & 74   & 5    & 3   \\\\\n",
       "\t 18   & 313  & 11.5 & 62   & 5    & 4   \\\\\n",
       "\t NA   &  NA  & 14.3 & 56   & 5    & 5   \\\\\n",
       "\t 28   &  NA  & 14.9 & 66   & 5    & 6   \\\\\n",
       "\\end{tabular}\n"
      ],
      "text/markdown": [
       "\n",
       "Ozone | Solar.R | Wind | Temp | Month | Day | \n",
       "|---|---|---|---|---|---|\n",
       "| 41   | 190  |  7.4 | 67   | 5    | 1    | \n",
       "| 36   | 118  |  8.0 | 72   | 5    | 2    | \n",
       "| 12   | 149  | 12.6 | 74   | 5    | 3    | \n",
       "| 18   | 313  | 11.5 | 62   | 5    | 4    | \n",
       "| NA   |  NA  | 14.3 | 56   | 5    | 5    | \n",
       "| 28   |  NA  | 14.9 | 66   | 5    | 6    | \n",
       "\n",
       "\n"
      ],
      "text/plain": [
       "  Ozone Solar.R Wind Temp Month Day\n",
       "1 41    190      7.4 67   5     1  \n",
       "2 36    118      8.0 72   5     2  \n",
       "3 12    149     12.6 74   5     3  \n",
       "4 18    313     11.5 62   5     4  \n",
       "5 NA     NA     14.3 56   5     5  \n",
       "6 28     NA     14.9 66   5     6  "
      ]
     },
     "metadata": {},
     "output_type": "display_data"
    }
   ],
   "source": [
    "data(airquality)\n",
    "air <- airquality\n",
    "head(air)"
   ]
  },
  {
   "cell_type": "code",
   "execution_count": 3,
   "metadata": {},
   "outputs": [
    {
     "data": {
      "text/html": [
       "<ol class=list-inline>\n",
       "\t<li>153</li>\n",
       "\t<li>6</li>\n",
       "</ol>\n"
      ],
      "text/latex": [
       "\\begin{enumerate*}\n",
       "\\item 153\n",
       "\\item 6\n",
       "\\end{enumerate*}\n"
      ],
      "text/markdown": [
       "1. 153\n",
       "2. 6\n",
       "\n",
       "\n"
      ],
      "text/plain": [
       "[1] 153   6"
      ]
     },
     "metadata": {},
     "output_type": "display_data"
    }
   ],
   "source": [
    "dim(air)"
   ]
  },
  {
   "cell_type": "code",
   "execution_count": 4,
   "metadata": {},
   "outputs": [
    {
     "data": {
      "text/plain": [
       "\n",
       "Call:\n",
       "lm(formula = Ozone ~ ., data = air)\n",
       "\n",
       "Residuals:\n",
       "    Min      1Q  Median      3Q     Max \n",
       "-37.014 -12.284  -3.302   8.454  95.348 \n",
       "\n",
       "Coefficients:\n",
       "             Estimate Std. Error t value Pr(>|t|)    \n",
       "(Intercept) -64.11632   23.48249  -2.730  0.00742 ** \n",
       "Solar.R       0.05027    0.02342   2.147  0.03411 *  \n",
       "Wind         -3.31844    0.64451  -5.149 1.23e-06 ***\n",
       "Temp          1.89579    0.27389   6.922 3.66e-10 ***\n",
       "Month        -3.03996    1.51346  -2.009  0.04714 *  \n",
       "Day           0.27388    0.22967   1.192  0.23576    \n",
       "---\n",
       "Signif. codes:  0 ‘***’ 0.001 ‘**’ 0.01 ‘*’ 0.05 ‘.’ 0.1 ‘ ’ 1\n",
       "\n",
       "Residual standard error: 20.86 on 105 degrees of freedom\n",
       "  (42 observations deleted due to missingness)\n",
       "Multiple R-squared:  0.6249,\tAdjusted R-squared:  0.6071 \n",
       "F-statistic: 34.99 on 5 and 105 DF,  p-value: < 2.2e-16\n"
      ]
     },
     "metadata": {},
     "output_type": "display_data"
    }
   ],
   "source": [
    "base <- lm(Ozone ~ ., data=air)\n",
    "summary(base)"
   ]
  },
  {
   "cell_type": "code",
   "execution_count": 13,
   "metadata": {},
   "outputs": [
    {
     "data": {
      "text/html": [
       "<dl class=dl-horizontal>\n",
       "\t<dt>(Intercept)</dt>\n",
       "\t\t<dd>-64.1163211033426</dd>\n",
       "\t<dt>Solar.R</dt>\n",
       "\t\t<dd>0.0502743187831685</dd>\n",
       "\t<dt>Wind</dt>\n",
       "\t\t<dd>-3.31844386167726</dd>\n",
       "\t<dt>Temp</dt>\n",
       "\t\t<dd>1.89578641698692</dd>\n",
       "\t<dt>Month</dt>\n",
       "\t\t<dd>-3.03995664077384</dd>\n",
       "\t<dt>Day</dt>\n",
       "\t\t<dd>0.273877521151533</dd>\n",
       "</dl>\n"
      ],
      "text/latex": [
       "\\begin{description*}\n",
       "\\item[(Intercept)] -64.1163211033426\n",
       "\\item[Solar.R] 0.0502743187831685\n",
       "\\item[Wind] -3.31844386167726\n",
       "\\item[Temp] 1.89578641698692\n",
       "\\item[Month] -3.03995664077384\n",
       "\\item[Day] 0.273877521151533\n",
       "\\end{description*}\n"
      ],
      "text/markdown": [
       "(Intercept)\n",
       ":   -64.1163211033426Solar.R\n",
       ":   0.0502743187831685Wind\n",
       ":   -3.31844386167726Temp\n",
       ":   1.89578641698692Month\n",
       ":   -3.03995664077384Day\n",
       ":   0.273877521151533\n",
       "\n"
      ],
      "text/plain": [
       " (Intercept)      Solar.R         Wind         Temp        Month          Day \n",
       "-64.11632110   0.05027432  -3.31844386   1.89578642  -3.03995664   0.27387752 "
      ]
     },
     "metadata": {},
     "output_type": "display_data"
    }
   ],
   "source": [
    "coef(base)"
   ]
  },
  {
   "cell_type": "code",
   "execution_count": 25,
   "metadata": {},
   "outputs": [],
   "source": [
    "ITERS <- 1000\n",
    "bootstrap <- function(data) {\n",
    "    n <- dim(data)[2]\n",
    "    m <- dim(data)[1]\n",
    "    coef.m <- matrix(nrow=n, ncol=ITERS)\n",
    "    for (i in 1:ITERS) {\n",
    "        if (i %% 10 == 0) {cat(i, ' ')}\n",
    "        samp <- data[sample(1:m, size=m, replace=T), ]\n",
    "        mod <- lm(Ozone ~ ., data=samp)\n",
    "        coef.m[, i] <- coef(mod)\n",
    "    }\n",
    "    coef.m\n",
    "}"
   ]
  },
  {
   "cell_type": "code",
   "execution_count": 27,
   "metadata": {},
   "outputs": [
    {
     "name": "stdout",
     "output_type": "stream",
     "text": [
      "10  20  30  40  50  60  70  80  90  100  110  120  130  140  150  160  170  180  190  200  210  220  230  240  250  260  270  280  290  300  310  320  330  340  350  360  370  380  390  400  410  420  430  440  450  460  470  480  490  500  510  520  530  540  550  560  570  580  590  600  610  620  630  640  650  660  670  680  690  700  710  720  730  740  750  760  770  780  790  800  810  820  830  840  850  860  870  880  890  900  910  920  930  940  950  960  970  980  990  1000  "
     ]
    }
   ],
   "source": [
    "coef.m <- bootstrap(air)"
   ]
  },
  {
   "cell_type": "code",
   "execution_count": 29,
   "metadata": {},
   "outputs": [],
   "source": [
    "rownames(coef.m) <- c('int', 'solar', 'wind', 'temp', 'month', 'day')"
   ]
  },
  {
   "cell_type": "code",
   "execution_count": 31,
   "metadata": {},
   "outputs": [
    {
     "data": {
      "text/html": [
       "<table>\n",
       "<tbody>\n",
       "\t<tr><th scope=row>int</th><td>-102.90053382</td><td>-45.51849624 </td><td>-86.17451517 </td><td>-21.79578851 </td><td>-64.00995510 </td><td>-80.51199138 </td><td>-31.89820400 </td><td>-72.69686596 </td><td>-63.38494976 </td><td>-64.20065234 </td></tr>\n",
       "\t<tr><th scope=row>solar</th><td>   0.03890391</td><td>  0.06436708 </td><td>  0.02509992 </td><td>  0.04540103 </td><td>  0.05553655 </td><td>  0.02896435 </td><td>  0.03897832 </td><td>  0.04195324 </td><td>  0.02602836 </td><td>  0.01773862 </td></tr>\n",
       "\t<tr><th scope=row>wind</th><td>  -1.82092427</td><td> -4.57605662 </td><td> -2.86545993 </td><td> -4.58425800 </td><td> -3.05973233 </td><td> -2.09611691 </td><td> -3.57363278 </td><td> -4.29378185 </td><td> -2.41183096 </td><td> -2.47317993 </td></tr>\n",
       "\t<tr><th scope=row>temp</th><td>   2.06664990</td><td>  1.56078437 </td><td>  2.21984347 </td><td>  1.38030211 </td><td>  1.79639079 </td><td>  2.31842147 </td><td>  1.73638757 </td><td>  2.16091787 </td><td>  1.93909503 </td><td>  1.99630670 </td></tr>\n",
       "\t<tr><th scope=row>month</th><td>  -1.63001173</td><td> -1.32137874 </td><td> -4.02938882 </td><td> -1.48935193 </td><td> -2.08767558 </td><td> -6.45562849 </td><td> -5.61172234 </td><td> -3.69116875 </td><td> -4.96994119 </td><td> -4.37719804 </td></tr>\n",
       "\t<tr><th scope=row>day</th><td>   0.28682132</td><td>  0.50810353 </td><td>  0.48891916 </td><td>  0.43948649 </td><td>  0.14059304 </td><td>  0.27221269 </td><td>  0.62181079 </td><td>  0.36693036 </td><td>  0.55418514 </td><td>  0.19877811 </td></tr>\n",
       "</tbody>\n",
       "</table>\n"
      ],
      "text/latex": [
       "\\begin{tabular}{r|llllllllll}\n",
       "\tint & -102.90053382 & -45.51849624  & -86.17451517  & -21.79578851  & -64.00995510  & -80.51199138  & -31.89820400  & -72.69686596  & -63.38494976  & -64.20065234 \\\\\n",
       "\tsolar &    0.03890391 &   0.06436708  &   0.02509992  &   0.04540103  &   0.05553655  &   0.02896435  &   0.03897832  &   0.04195324  &   0.02602836  &   0.01773862 \\\\\n",
       "\twind &   -1.82092427 &  -4.57605662  &  -2.86545993  &  -4.58425800  &  -3.05973233  &  -2.09611691  &  -3.57363278  &  -4.29378185  &  -2.41183096  &  -2.47317993 \\\\\n",
       "\ttemp &    2.06664990 &   1.56078437  &   2.21984347  &   1.38030211  &   1.79639079  &   2.31842147  &   1.73638757  &   2.16091787  &   1.93909503  &   1.99630670 \\\\\n",
       "\tmonth &   -1.63001173 &  -1.32137874  &  -4.02938882  &  -1.48935193  &  -2.08767558  &  -6.45562849  &  -5.61172234  &  -3.69116875  &  -4.96994119  &  -4.37719804 \\\\\n",
       "\tday &    0.28682132 &   0.50810353  &   0.48891916  &   0.43948649  &   0.14059304  &   0.27221269  &   0.62181079  &   0.36693036  &   0.55418514  &   0.19877811 \\\\\n",
       "\\end{tabular}\n"
      ],
      "text/markdown": [
       "\n",
       "| int | -102.90053382 | -45.51849624  | -86.17451517  | -21.79578851  | -64.00995510  | -80.51199138  | -31.89820400  | -72.69686596  | -63.38494976  | -64.20065234  | \n",
       "| solar |    0.03890391 |   0.06436708  |   0.02509992  |   0.04540103  |   0.05553655  |   0.02896435  |   0.03897832  |   0.04195324  |   0.02602836  |   0.01773862  | \n",
       "| wind |   -1.82092427 |  -4.57605662  |  -2.86545993  |  -4.58425800  |  -3.05973233  |  -2.09611691  |  -3.57363278  |  -4.29378185  |  -2.41183096  |  -2.47317993  | \n",
       "| temp |    2.06664990 |   1.56078437  |   2.21984347  |   1.38030211  |   1.79639079  |   2.31842147  |   1.73638757  |   2.16091787  |   1.93909503  |   1.99630670  | \n",
       "| month |   -1.63001173 |  -1.32137874  |  -4.02938882  |  -1.48935193  |  -2.08767558  |  -6.45562849  |  -5.61172234  |  -3.69116875  |  -4.96994119  |  -4.37719804  | \n",
       "| day |    0.28682132 |   0.50810353  |   0.48891916  |   0.43948649  |   0.14059304  |   0.27221269  |   0.62181079  |   0.36693036  |   0.55418514  |   0.19877811  | \n",
       "\n",
       "\n"
      ],
      "text/plain": [
       "      [,1]          [,2]         [,3]         [,4]         [,5]        \n",
       "int   -102.90053382 -45.51849624 -86.17451517 -21.79578851 -64.00995510\n",
       "solar    0.03890391   0.06436708   0.02509992   0.04540103   0.05553655\n",
       "wind    -1.82092427  -4.57605662  -2.86545993  -4.58425800  -3.05973233\n",
       "temp     2.06664990   1.56078437   2.21984347   1.38030211   1.79639079\n",
       "month   -1.63001173  -1.32137874  -4.02938882  -1.48935193  -2.08767558\n",
       "day      0.28682132   0.50810353   0.48891916   0.43948649   0.14059304\n",
       "      [,6]         [,7]         [,8]         [,9]         [,10]       \n",
       "int   -80.51199138 -31.89820400 -72.69686596 -63.38494976 -64.20065234\n",
       "solar   0.02896435   0.03897832   0.04195324   0.02602836   0.01773862\n",
       "wind   -2.09611691  -3.57363278  -4.29378185  -2.41183096  -2.47317993\n",
       "temp    2.31842147   1.73638757   2.16091787   1.93909503   1.99630670\n",
       "month  -6.45562849  -5.61172234  -3.69116875  -4.96994119  -4.37719804\n",
       "day     0.27221269   0.62181079   0.36693036   0.55418514   0.19877811"
      ]
     },
     "metadata": {},
     "output_type": "display_data"
    }
   ],
   "source": [
    "coef.m[, 1:10 ]"
   ]
  },
  {
   "cell_type": "code",
   "execution_count": 39,
   "metadata": {},
   "outputs": [
    {
     "data": {
      "text/html": [
       "<table>\n",
       "<thead><tr><th></th><th scope=col>int</th><th scope=col>solar</th><th scope=col>wind</th><th scope=col>temp</th><th scope=col>month</th><th scope=col>day</th></tr></thead>\n",
       "<tbody>\n",
       "\t<tr><th scope=row>2.75%</th><td>-102.36147</td><td>0.01346065</td><td>-5.010158 </td><td>1.500461  </td><td>-5.6063096</td><td>-0.1889721</td></tr>\n",
       "\t<tr><th scope=row>50%</th><td> -65.85285</td><td>0.04886787</td><td>-3.287873 </td><td>1.912835  </td><td>-3.0370663</td><td> 0.2787371</td></tr>\n",
       "\t<tr><th scope=row>97.5%</th><td> -24.76393</td><td>0.09003771</td><td>-1.854335 </td><td>2.338900  </td><td>-0.3091687</td><td> 0.7421099</td></tr>\n",
       "</tbody>\n",
       "</table>\n"
      ],
      "text/latex": [
       "\\begin{tabular}{r|llllll}\n",
       "  & int & solar & wind & temp & month & day\\\\\n",
       "\\hline\n",
       "\t2.75\\% & -102.36147 & 0.01346065 & -5.010158  & 1.500461   & -5.6063096 & -0.1889721\\\\\n",
       "\t50\\% &  -65.85285 & 0.04886787 & -3.287873  & 1.912835   & -3.0370663 &  0.2787371\\\\\n",
       "\t97.5\\% &  -24.76393 & 0.09003771 & -1.854335  & 2.338900   & -0.3091687 &  0.7421099\\\\\n",
       "\\end{tabular}\n"
      ],
      "text/markdown": [
       "\n",
       "| <!--/--> | int | solar | wind | temp | month | day | \n",
       "|---|---|---|\n",
       "| 2.75% | -102.36147 | 0.01346065 | -5.010158  | 1.500461   | -5.6063096 | -0.1889721 | \n",
       "| 50% |  -65.85285 | 0.04886787 | -3.287873  | 1.912835   | -3.0370663 |  0.2787371 | \n",
       "| 97.5% |  -24.76393 | 0.09003771 | -1.854335  | 2.338900   | -0.3091687 |  0.7421099 | \n",
       "\n",
       "\n"
      ],
      "text/plain": [
       "      int        solar      wind      temp     month      day       \n",
       "2.75% -102.36147 0.01346065 -5.010158 1.500461 -5.6063096 -0.1889721\n",
       "50%    -65.85285 0.04886787 -3.287873 1.912835 -3.0370663  0.2787371\n",
       "97.5%  -24.76393 0.09003771 -1.854335 2.338900 -0.3091687  0.7421099"
      ]
     },
     "metadata": {},
     "output_type": "display_data"
    }
   ],
   "source": [
    "q <- apply(coef.m, 1, quantile, prob=c(0.0275, 0.5, 0.975))\n",
    "q"
   ]
  },
  {
   "cell_type": "code",
   "execution_count": 42,
   "metadata": {},
   "outputs": [
    {
     "data": {
      "image/png": "[encoded data removed]",
      "text/plain": [
       "Plot with title “Histogram of coef.m[pred, ]”"
      ]
     },
     "metadata": {},
     "output_type": "display_data"
    }
   ],
   "source": [
    "pred <- 'wind'\n",
    "hist(coef.m[pred, ])\n",
    "abline(v=q['2.75%', pred], col=2)\n",
    "abline(v=q['97.5%', pred], col=2)\n",
    "abline(v=q['50%', pred], col=4)"
   ]
  },
  {
   "cell_type": "code",
   "execution_count": null,
   "metadata": {},
   "outputs": [],
   "source": []
  }
 ],
 "metadata": {
  "kernelspec": {
   "display_name": "R",
   "language": "R",
   "name": "ir"
  },
  "language_info": {
   "codemirror_mode": "r",
   "file_extension": ".r",
   "mimetype": "text/x-r-source",
   "name": "R",
   "pygments_lexer": "r",
   "version": "3.5.0"
  }
 },
 "nbformat": 4,
 "nbformat_minor": 2
}
