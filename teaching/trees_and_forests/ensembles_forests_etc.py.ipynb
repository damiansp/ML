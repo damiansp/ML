{
 "cells": [
  {
   "cell_type": "code",
   "execution_count": 1,
   "metadata": {},
   "outputs": [],
   "source": [
    "import time\n",
    "\n",
    "import matplotlib.pyplot as plt\n",
    "import numpy as np\n",
    "import pandas as pd\n",
    "from   sklearn.ensemble import (\n",
    "    AdaBoostClassifier, BaggingClassifier, RandomForestClassifier)\n",
    "from   sklearn.tree import DecisionTreeClassifier\n",
    "\n",
    "%matplotlib inline"
   ]
  },
  {
   "cell_type": "code",
   "execution_count": 2,
   "metadata": {},
   "outputs": [
    {
     "name": "stdout",
     "output_type": "stream",
     "text": [
      "(63231, 13)\n"
     ]
    },
    {
     "data": {
      "text/html": [
       "<div>\n",
       "<style scoped>\n",
       "    .dataframe tbody tr th:only-of-type {\n",
       "        vertical-align: middle;\n",
       "    }\n",
       "\n",
       "    .dataframe tbody tr th {\n",
       "        vertical-align: top;\n",
       "    }\n",
       "\n",
       "    .dataframe thead th {\n",
       "        text-align: right;\n",
       "    }\n",
       "</style>\n",
       "<table border=\"1\" class=\"dataframe\">\n",
       "  <thead>\n",
       "    <tr style=\"text-align: right;\">\n",
       "      <th></th>\n",
       "      <th>cost</th>\n",
       "      <th>subscription_days</th>\n",
       "      <th>total_users</th>\n",
       "      <th>active_users</th>\n",
       "      <th>total_minutes</th>\n",
       "      <th>courses</th>\n",
       "      <th>mobile_users</th>\n",
       "      <th>mobile_minutes</th>\n",
       "      <th>n_exams</th>\n",
       "      <th>exam_member</th>\n",
       "      <th>n_vlab</th>\n",
       "      <th>vlab_member</th>\n",
       "      <th>renewed</th>\n",
       "    </tr>\n",
       "  </thead>\n",
       "  <tbody>\n",
       "    <tr>\n",
       "      <th>0</th>\n",
       "      <td>999.00</td>\n",
       "      <td>566</td>\n",
       "      <td>1</td>\n",
       "      <td>1</td>\n",
       "      <td>1141</td>\n",
       "      <td>3</td>\n",
       "      <td>1</td>\n",
       "      <td>899</td>\n",
       "      <td>1</td>\n",
       "      <td>1</td>\n",
       "      <td>0</td>\n",
       "      <td>0</td>\n",
       "      <td>0</td>\n",
       "    </tr>\n",
       "    <tr>\n",
       "      <th>1</th>\n",
       "      <td>2693.10</td>\n",
       "      <td>365</td>\n",
       "      <td>3</td>\n",
       "      <td>4</td>\n",
       "      <td>3124</td>\n",
       "      <td>10</td>\n",
       "      <td>1</td>\n",
       "      <td>68</td>\n",
       "      <td>3</td>\n",
       "      <td>3</td>\n",
       "      <td>0</td>\n",
       "      <td>0</td>\n",
       "      <td>0</td>\n",
       "    </tr>\n",
       "    <tr>\n",
       "      <th>2</th>\n",
       "      <td>999.00</td>\n",
       "      <td>566</td>\n",
       "      <td>1</td>\n",
       "      <td>1</td>\n",
       "      <td>460</td>\n",
       "      <td>3</td>\n",
       "      <td>1</td>\n",
       "      <td>358</td>\n",
       "      <td>0</td>\n",
       "      <td>0</td>\n",
       "      <td>0</td>\n",
       "      <td>0</td>\n",
       "      <td>0</td>\n",
       "    </tr>\n",
       "    <tr>\n",
       "      <th>3</th>\n",
       "      <td>12103.72</td>\n",
       "      <td>365</td>\n",
       "      <td>14</td>\n",
       "      <td>12</td>\n",
       "      <td>3905</td>\n",
       "      <td>37</td>\n",
       "      <td>2</td>\n",
       "      <td>38</td>\n",
       "      <td>2</td>\n",
       "      <td>2</td>\n",
       "      <td>3</td>\n",
       "      <td>3</td>\n",
       "      <td>0</td>\n",
       "    </tr>\n",
       "    <tr>\n",
       "      <th>4</th>\n",
       "      <td>2693.10</td>\n",
       "      <td>365</td>\n",
       "      <td>3</td>\n",
       "      <td>4</td>\n",
       "      <td>3384</td>\n",
       "      <td>14</td>\n",
       "      <td>1</td>\n",
       "      <td>68</td>\n",
       "      <td>3</td>\n",
       "      <td>3</td>\n",
       "      <td>2</td>\n",
       "      <td>1</td>\n",
       "      <td>0</td>\n",
       "    </tr>\n",
       "  </tbody>\n",
       "</table>\n",
       "</div>"
      ],
      "text/plain": [
       "       cost  subscription_days  total_users  active_users  total_minutes  \\\n",
       "0    999.00                566            1             1           1141   \n",
       "1   2693.10                365            3             4           3124   \n",
       "2    999.00                566            1             1            460   \n",
       "3  12103.72                365           14            12           3905   \n",
       "4   2693.10                365            3             4           3384   \n",
       "\n",
       "   courses  mobile_users  mobile_minutes  n_exams  exam_member  n_vlab  \\\n",
       "0        3             1             899        1            1       0   \n",
       "1       10             1              68        3            3       0   \n",
       "2        3             1             358        0            0       0   \n",
       "3       37             2              38        2            2       3   \n",
       "4       14             1              68        3            3       2   \n",
       "\n",
       "   vlab_member  renewed  \n",
       "0            0        0  \n",
       "1            0        0  \n",
       "2            0        0  \n",
       "3            3        0  \n",
       "4            1        0  "
      ]
     },
     "execution_count": 2,
     "metadata": {},
     "output_type": "execute_result"
    }
   ],
   "source": [
    "churn = pd.read_csv('../churnTutorial/merged_2019-07-26.csv')\n",
    "\n",
    "# Keep just the first few columns only\n",
    "FIELDS = list(churn)[1:13]\n",
    "keep = FIELDS + ['renewed']\n",
    "churn = churn[keep]\n",
    "print(churn.shape)\n",
    "churn.head()"
   ]
  },
  {
   "cell_type": "code",
   "execution_count": 3,
   "metadata": {},
   "outputs": [
    {
     "name": "stdout",
     "output_type": "stream",
     "text": [
      "(57477, 13) (6000, 13)\n"
     ]
    }
   ],
   "source": [
    "N_TEST = 6000\n",
    "test_rows = np.random.choice(range(churn.shape[0]), size=N_TEST)\n",
    "test = churn.iloc[test_rows]\n",
    "churn.drop(test_rows, inplace=True)\n",
    "print(churn.shape, test.shape)"
   ]
  },
  {
   "cell_type": "code",
   "execution_count": 4,
   "metadata": {},
   "outputs": [
    {
     "data": {
      "text/plain": [
       "((57477, 13), ((6000, 12), (6000,)))"
      ]
     },
     "execution_count": 4,
     "metadata": {},
     "output_type": "execute_result"
    }
   ],
   "source": [
    "Xy = churn\n",
    "X_test = test[FIELDS]\n",
    "y_test = test.renewed\n",
    "(Xy.shape), (X_test.shape, y_test.shape)"
   ]
  },
  {
   "cell_type": "markdown",
   "metadata": {},
   "source": [
    "### Simple Ensemble Methods:\n",
    "- Majority Rule\n",
    "- Weighted Majority Rule"
   ]
  },
  {
   "cell_type": "markdown",
   "metadata": {},
   "source": [
    "### Bagging (< 'bootstrapped aggregating')\n",
    "Or just \"bootstrapping\" in the pre-ML days....\n",
    "\n",
    "\n",
    "`TODO:`\n",
    "Write code that does the following:\n",
    "- Samples random subsets of the data _with replacement_ (e.g., some records may appear multiple times; others not at all\n",
    "- Fit a tree model to the data (to keep it simple limit to max_depth=MAX_DEPTH)\n",
    "- Save the predictions and accuracy\n",
    "- Repeat 20 times\n",
    "- \"Final\" predictions will be the majority rule... determine and see how this compares to a single tree on the full data set"
   ]
  },
  {
   "cell_type": "markdown",
   "metadata": {},
   "source": [
    "- `np.random.choice()`:\n",
    "  - https://docs.scipy.org/doc/numpy-1.15.0/reference/generated/numpy.random.choice.html"
   ]
  },
  {
   "cell_type": "code",
   "execution_count": 5,
   "metadata": {},
   "outputs": [],
   "source": [
    "MAX_DEPTH = 10 # Leave this for now.... feel free to play with it later"
   ]
  },
  {
   "cell_type": "markdown",
   "metadata": {},
   "source": [
    "Some brief hints:"
   ]
  },
  {
   "cell_type": "code",
   "execution_count": 6,
   "metadata": {},
   "outputs": [
    {
     "data": {
      "text/plain": [
       "array([7, 9, 9, 4, 9, 1, 2, 6, 2, 9])"
      ]
     },
     "execution_count": 6,
     "metadata": {},
     "output_type": "execute_result"
    }
   ],
   "source": [
    "# Sampling with replacement:\n",
    "inds = range(10)\n",
    "np.random.choice(inds, size=10, replace=True)"
   ]
  },
  {
   "cell_type": "code",
   "execution_count": 7,
   "metadata": {},
   "outputs": [
    {
     "data": {
      "text/html": [
       "<div>\n",
       "<style scoped>\n",
       "    .dataframe tbody tr th:only-of-type {\n",
       "        vertical-align: middle;\n",
       "    }\n",
       "\n",
       "    .dataframe tbody tr th {\n",
       "        vertical-align: top;\n",
       "    }\n",
       "\n",
       "    .dataframe thead th {\n",
       "        text-align: right;\n",
       "    }\n",
       "</style>\n",
       "<table border=\"1\" class=\"dataframe\">\n",
       "  <thead>\n",
       "    <tr style=\"text-align: right;\">\n",
       "      <th></th>\n",
       "      <th>a</th>\n",
       "      <th>b</th>\n",
       "      <th>c</th>\n",
       "    </tr>\n",
       "  </thead>\n",
       "  <tbody>\n",
       "    <tr>\n",
       "      <th>0</th>\n",
       "      <td>abominations</td>\n",
       "      <td>2.2</td>\n",
       "      <td>1</td>\n",
       "    </tr>\n",
       "    <tr>\n",
       "      <th>1</th>\n",
       "      <td>are</td>\n",
       "      <td>3.3</td>\n",
       "      <td>2</td>\n",
       "    </tr>\n",
       "    <tr>\n",
       "      <th>2</th>\n",
       "      <td>always</td>\n",
       "      <td>4.4</td>\n",
       "      <td>3</td>\n",
       "    </tr>\n",
       "    <tr>\n",
       "      <th>3</th>\n",
       "      <td>anathama</td>\n",
       "      <td>5.5</td>\n",
       "      <td>4</td>\n",
       "    </tr>\n",
       "  </tbody>\n",
       "</table>\n",
       "</div>"
      ],
      "text/plain": [
       "              a    b  c\n",
       "0  abominations  2.2  1\n",
       "1           are  3.3  2\n",
       "2        always  4.4  3\n",
       "3      anathama  5.5  4"
      ]
     },
     "execution_count": 7,
     "metadata": {},
     "output_type": "execute_result"
    }
   ],
   "source": [
    "# Slicing DataFrames\n",
    "toy_df = pd.DataFrame({'a': ['abominations', 'are', 'always', 'anathama'],\n",
    "                       'b': [2.2, 3.3, 4.4, 5.5],\n",
    "                       'c': [1, 2, 3, 4]})\n",
    "toy_df"
   ]
  },
  {
   "cell_type": "code",
   "execution_count": 8,
   "metadata": {},
   "outputs": [
    {
     "data": {
      "text/html": [
       "<div>\n",
       "<style scoped>\n",
       "    .dataframe tbody tr th:only-of-type {\n",
       "        vertical-align: middle;\n",
       "    }\n",
       "\n",
       "    .dataframe tbody tr th {\n",
       "        vertical-align: top;\n",
       "    }\n",
       "\n",
       "    .dataframe thead th {\n",
       "        text-align: right;\n",
       "    }\n",
       "</style>\n",
       "<table border=\"1\" class=\"dataframe\">\n",
       "  <thead>\n",
       "    <tr style=\"text-align: right;\">\n",
       "      <th></th>\n",
       "      <th>a</th>\n",
       "      <th>c</th>\n",
       "    </tr>\n",
       "  </thead>\n",
       "  <tbody>\n",
       "    <tr>\n",
       "      <th>2</th>\n",
       "      <td>always</td>\n",
       "      <td>3</td>\n",
       "    </tr>\n",
       "    <tr>\n",
       "      <th>3</th>\n",
       "      <td>anathama</td>\n",
       "      <td>4</td>\n",
       "    </tr>\n",
       "  </tbody>\n",
       "</table>\n",
       "</div>"
      ],
      "text/plain": [
       "          a  c\n",
       "2    always  3\n",
       "3  anathama  4"
      ]
     },
     "execution_count": 8,
     "metadata": {},
     "output_type": "execute_result"
    }
   ],
   "source": [
    "toy_df.loc[toy_df.b > 4, ['a', 'c']]"
   ]
  },
  {
   "cell_type": "code",
   "execution_count": 9,
   "metadata": {},
   "outputs": [
    {
     "data": {
      "text/html": [
       "<div>\n",
       "<style scoped>\n",
       "    .dataframe tbody tr th:only-of-type {\n",
       "        vertical-align: middle;\n",
       "    }\n",
       "\n",
       "    .dataframe tbody tr th {\n",
       "        vertical-align: top;\n",
       "    }\n",
       "\n",
       "    .dataframe thead th {\n",
       "        text-align: right;\n",
       "    }\n",
       "</style>\n",
       "<table border=\"1\" class=\"dataframe\">\n",
       "  <thead>\n",
       "    <tr style=\"text-align: right;\">\n",
       "      <th></th>\n",
       "      <th>a</th>\n",
       "      <th>b</th>\n",
       "      <th>c</th>\n",
       "    </tr>\n",
       "  </thead>\n",
       "  <tbody>\n",
       "    <tr>\n",
       "      <th>1</th>\n",
       "      <td>are</td>\n",
       "      <td>3.3</td>\n",
       "      <td>2</td>\n",
       "    </tr>\n",
       "    <tr>\n",
       "      <th>2</th>\n",
       "      <td>always</td>\n",
       "      <td>4.4</td>\n",
       "      <td>3</td>\n",
       "    </tr>\n",
       "  </tbody>\n",
       "</table>\n",
       "</div>"
      ],
      "text/plain": [
       "        a    b  c\n",
       "1     are  3.3  2\n",
       "2  always  4.4  3"
      ]
     },
     "execution_count": 9,
     "metadata": {},
     "output_type": "execute_result"
    }
   ],
   "source": [
    "toy_df.iloc[[1, 2], :]"
   ]
  },
  {
   "cell_type": "code",
   "execution_count": null,
   "metadata": {},
   "outputs": [],
   "source": [
    "def get_bootstrapped_sample(df, n_records=None):\n",
    "    '''\n",
    "    Return a DataFrame with <n_records> rows, that are a random \n",
    "    resampling of <df> with replacement\n",
    "    '''\n",
    "    data = df.copy() \n",
    "    n_records = n_records or data.shape[0] \n",
    "    # TO DO...\n",
    "    sample = None # update\n",
    "    #=====================\n",
    "    \n",
    "    X = sample[FIELDS]\n",
    "    y = sample.renewed\n",
    "    return X, y"
   ]
  },
  {
   "cell_type": "code",
   "execution_count": 11,
   "metadata": {},
   "outputs": [
    {
     "data": {
      "text/html": [
       "<div>\n",
       "<style scoped>\n",
       "    .dataframe tbody tr th:only-of-type {\n",
       "        vertical-align: middle;\n",
       "    }\n",
       "\n",
       "    .dataframe tbody tr th {\n",
       "        vertical-align: top;\n",
       "    }\n",
       "\n",
       "    .dataframe thead th {\n",
       "        text-align: right;\n",
       "    }\n",
       "</style>\n",
       "<table border=\"1\" class=\"dataframe\">\n",
       "  <thead>\n",
       "    <tr style=\"text-align: right;\">\n",
       "      <th></th>\n",
       "      <th>cost</th>\n",
       "      <th>subscription_days</th>\n",
       "      <th>total_users</th>\n",
       "      <th>active_users</th>\n",
       "      <th>total_minutes</th>\n",
       "      <th>courses</th>\n",
       "      <th>mobile_users</th>\n",
       "      <th>mobile_minutes</th>\n",
       "      <th>n_exams</th>\n",
       "      <th>exam_member</th>\n",
       "      <th>n_vlab</th>\n",
       "      <th>vlab_member</th>\n",
       "    </tr>\n",
       "  </thead>\n",
       "  <tbody>\n",
       "    <tr>\n",
       "      <th>10507</th>\n",
       "      <td>2693.1</td>\n",
       "      <td>365</td>\n",
       "      <td>3</td>\n",
       "      <td>3</td>\n",
       "      <td>2035</td>\n",
       "      <td>11</td>\n",
       "      <td>2</td>\n",
       "      <td>211</td>\n",
       "      <td>0</td>\n",
       "      <td>0</td>\n",
       "      <td>0</td>\n",
       "      <td>0</td>\n",
       "    </tr>\n",
       "    <tr>\n",
       "      <th>6249</th>\n",
       "      <td>2693.1</td>\n",
       "      <td>694</td>\n",
       "      <td>3</td>\n",
       "      <td>2</td>\n",
       "      <td>1573</td>\n",
       "      <td>4</td>\n",
       "      <td>1</td>\n",
       "      <td>27</td>\n",
       "      <td>0</td>\n",
       "      <td>0</td>\n",
       "      <td>0</td>\n",
       "      <td>0</td>\n",
       "    </tr>\n",
       "    <tr>\n",
       "      <th>12809</th>\n",
       "      <td>2693.1</td>\n",
       "      <td>365</td>\n",
       "      <td>3</td>\n",
       "      <td>2</td>\n",
       "      <td>792</td>\n",
       "      <td>5</td>\n",
       "      <td>0</td>\n",
       "      <td>0</td>\n",
       "      <td>0</td>\n",
       "      <td>0</td>\n",
       "      <td>0</td>\n",
       "      <td>0</td>\n",
       "    </tr>\n",
       "    <tr>\n",
       "      <th>23264</th>\n",
       "      <td>999.0</td>\n",
       "      <td>377</td>\n",
       "      <td>1</td>\n",
       "      <td>1</td>\n",
       "      <td>453</td>\n",
       "      <td>19</td>\n",
       "      <td>1</td>\n",
       "      <td>196</td>\n",
       "      <td>1</td>\n",
       "      <td>1</td>\n",
       "      <td>2</td>\n",
       "      <td>1</td>\n",
       "    </tr>\n",
       "    <tr>\n",
       "      <th>15556</th>\n",
       "      <td>999.0</td>\n",
       "      <td>668</td>\n",
       "      <td>1</td>\n",
       "      <td>1</td>\n",
       "      <td>1993</td>\n",
       "      <td>15</td>\n",
       "      <td>1</td>\n",
       "      <td>1484</td>\n",
       "      <td>1</td>\n",
       "      <td>1</td>\n",
       "      <td>0</td>\n",
       "      <td>0</td>\n",
       "    </tr>\n",
       "  </tbody>\n",
       "</table>\n",
       "</div>"
      ],
      "text/plain": [
       "         cost  subscription_days  total_users  active_users  total_minutes  \\\n",
       "10507  2693.1                365            3             3           2035   \n",
       "6249   2693.1                694            3             2           1573   \n",
       "12809  2693.1                365            3             2            792   \n",
       "23264   999.0                377            1             1            453   \n",
       "15556   999.0                668            1             1           1993   \n",
       "\n",
       "       courses  mobile_users  mobile_minutes  n_exams  exam_member  n_vlab  \\\n",
       "10507       11             2             211        0            0       0   \n",
       "6249         4             1              27        0            0       0   \n",
       "12809        5             0               0        0            0       0   \n",
       "23264       19             1             196        1            1       2   \n",
       "15556       15             1            1484        1            1       0   \n",
       "\n",
       "       vlab_member  \n",
       "10507            0  \n",
       "6249             0  \n",
       "12809            0  \n",
       "23264            1  \n",
       "15556            0  "
      ]
     },
     "execution_count": 11,
     "metadata": {},
     "output_type": "execute_result"
    }
   ],
   "source": [
    "# Test\n",
    "sample_X, sample_y = get_bootstrapped_sample(Xy)\n",
    "sample_X.head()"
   ]
  },
  {
   "cell_type": "code",
   "execution_count": null,
   "metadata": {},
   "outputs": [],
   "source": [
    "def get_accuracy(preds, target):\n",
    "    '''\n",
    "    <preds> and <target> are pd.Series (array-like objects) of 0s and 1s\n",
    "    This should return the fraction of values that are the same in both\n",
    "    '''\n",
    "    # TO DO\n",
    "    accuracy = None # update\n",
    "    #=====================\n",
    "    \n",
    "    return accuracy"
   ]
  },
  {
   "cell_type": "code",
   "execution_count": 13,
   "metadata": {},
   "outputs": [
    {
     "data": {
      "text/plain": [
       "0.5"
      ]
     },
     "execution_count": 13,
     "metadata": {},
     "output_type": "execute_result"
    }
   ],
   "source": [
    "# Test\n",
    "a = np.array([0, 1, 0, 0, 1, 0, 1, 1])\n",
    "b = np.array([0, 0, 1, 1, 0, 0, 1, 1])\n",
    "get_accuracy(a, b)"
   ]
  },
  {
   "cell_type": "code",
   "execution_count": null,
   "metadata": {},
   "outputs": [],
   "source": [
    "def get_predictions(X, y, X_test, y_test, max_depth=MAX_DEPTH):\n",
    "    # Create your classifier\n",
    "    \n",
    "    # Train on X, y\n",
    "    \n",
    "    # Predict on X_test\n",
    "    preds = None\n",
    "    \n",
    "    # Get Accuracy\n",
    "    accuracy = None\n",
    "    #=====================\n",
    "    \n",
    "    return {'preds': preds, 'acc': accuracy}"
   ]
  },
  {
   "cell_type": "code",
   "execution_count": 15,
   "metadata": {},
   "outputs": [
    {
     "data": {
      "text/plain": [
       "{'preds': array([1, 1, 1, ..., 1, 1, 1]), 'acc': 0.679}"
      ]
     },
     "execution_count": 15,
     "metadata": {},
     "output_type": "execute_result"
    }
   ],
   "source": [
    "# Test\n",
    "X_samp, y_samp = get_bootstrapped_sample(Xy)\n",
    "get_predictions(X_samp, y_samp, X_test, y_test, max_depth=MAX_DEPTH)"
   ]
  },
  {
   "cell_type": "markdown",
   "metadata": {},
   "source": [
    "### My Solutions...."
   ]
  },
  {
   "cell_type": "code",
   "execution_count": 10,
   "metadata": {},
   "outputs": [],
   "source": [
    "def get_bootstrapped_sample(df, n_records=None):\n",
    "    data = df.copy()\n",
    "    n_records = n_records or data.shape[0] \n",
    "    inds = np.random.choice(\n",
    "        range(data.shape[0]), size=n_records, replace=True)\n",
    "    sample = data.iloc[inds, :]\n",
    "    X = sample[FIELDS]\n",
    "    y = sample.renewed\n",
    "    return X, y"
   ]
  },
  {
   "cell_type": "code",
   "execution_count": 12,
   "metadata": {},
   "outputs": [],
   "source": [
    "def get_accuracy(preds, target):\n",
    "    n = len(preds)\n",
    "    accuracy = (preds == target).sum() / n\n",
    "    return accuracy"
   ]
  },
  {
   "cell_type": "code",
   "execution_count": 14,
   "metadata": {},
   "outputs": [],
   "source": [
    "def get_predictions(X, y, X_test, y_test, **kwargs):\n",
    "    tree = DecisionTreeClassifier(**kwargs)\n",
    "    tree.fit(X, y)\n",
    "    preds = tree.predict(X_test)\n",
    "    acc = get_accuracy(preds, y_test)\n",
    "    return {'preds': preds, 'acc': acc}"
   ]
  },
  {
   "cell_type": "code",
   "execution_count": null,
   "metadata": {},
   "outputs": [],
   "source": [
    "# Test\n",
    "a = np.array([0, 1, 0, 0, 1, 0, 1, 1])\n",
    "b = np.array([0, 0, 1, 1, 0, 0, 1, 1])\n",
    "get_accuracy(a, b)"
   ]
  },
  {
   "cell_type": "code",
   "execution_count": null,
   "metadata": {},
   "outputs": [],
   "source": [
    "# Test\n",
    "X_samp, y_samp = get_bootstrapped_sample(Xy)\n",
    "get_predictions(X_samp, y_samp, X_test, y_test, max_depth=MAX_DEPTH)"
   ]
  },
  {
   "cell_type": "code",
   "execution_count": 16,
   "metadata": {},
   "outputs": [
    {
     "name": "stdout",
     "output_type": "stream",
     "text": [
      "Estimator 21\r"
     ]
    }
   ],
   "source": [
    "# Now make 20 such runs\n",
    "N_BOOT = 21\n",
    "all_preds = []\n",
    "all_acc = []\n",
    "\n",
    "for i in range(N_BOOT):\n",
    "    print(f'Estimator {i + 1}', end='\\r')\n",
    "    X_samp, y_samp = get_bootstrapped_sample(Xy)\n",
    "    output = get_predictions(\n",
    "        X_samp, y_samp, X_test, y_test, max_depth=MAX_DEPTH)\n",
    "    all_preds.append(output['preds'])\n",
    "    all_acc.append(output['acc'])"
   ]
  },
  {
   "cell_type": "code",
   "execution_count": 17,
   "metadata": {},
   "outputs": [
    {
     "name": "stdout",
     "output_type": "stream",
     "text": [
      "(21, 6000)\n"
     ]
    },
    {
     "data": {
      "text/html": [
       "<div>\n",
       "<style scoped>\n",
       "    .dataframe tbody tr th:only-of-type {\n",
       "        vertical-align: middle;\n",
       "    }\n",
       "\n",
       "    .dataframe tbody tr th {\n",
       "        vertical-align: top;\n",
       "    }\n",
       "\n",
       "    .dataframe thead th {\n",
       "        text-align: right;\n",
       "    }\n",
       "</style>\n",
       "<table border=\"1\" class=\"dataframe\">\n",
       "  <thead>\n",
       "    <tr style=\"text-align: right;\">\n",
       "      <th></th>\n",
       "      <th>0</th>\n",
       "      <th>1</th>\n",
       "      <th>2</th>\n",
       "      <th>3</th>\n",
       "      <th>4</th>\n",
       "      <th>5</th>\n",
       "      <th>6</th>\n",
       "      <th>7</th>\n",
       "      <th>8</th>\n",
       "      <th>9</th>\n",
       "      <th>...</th>\n",
       "      <th>5990</th>\n",
       "      <th>5991</th>\n",
       "      <th>5992</th>\n",
       "      <th>5993</th>\n",
       "      <th>5994</th>\n",
       "      <th>5995</th>\n",
       "      <th>5996</th>\n",
       "      <th>5997</th>\n",
       "      <th>5998</th>\n",
       "      <th>5999</th>\n",
       "    </tr>\n",
       "  </thead>\n",
       "  <tbody>\n",
       "    <tr>\n",
       "      <th>0</th>\n",
       "      <td>1</td>\n",
       "      <td>1</td>\n",
       "      <td>1</td>\n",
       "      <td>1</td>\n",
       "      <td>1</td>\n",
       "      <td>1</td>\n",
       "      <td>1</td>\n",
       "      <td>0</td>\n",
       "      <td>0</td>\n",
       "      <td>0</td>\n",
       "      <td>...</td>\n",
       "      <td>0</td>\n",
       "      <td>0</td>\n",
       "      <td>0</td>\n",
       "      <td>1</td>\n",
       "      <td>1</td>\n",
       "      <td>1</td>\n",
       "      <td>0</td>\n",
       "      <td>1</td>\n",
       "      <td>1</td>\n",
       "      <td>1</td>\n",
       "    </tr>\n",
       "    <tr>\n",
       "      <th>1</th>\n",
       "      <td>1</td>\n",
       "      <td>1</td>\n",
       "      <td>1</td>\n",
       "      <td>1</td>\n",
       "      <td>1</td>\n",
       "      <td>0</td>\n",
       "      <td>0</td>\n",
       "      <td>0</td>\n",
       "      <td>0</td>\n",
       "      <td>0</td>\n",
       "      <td>...</td>\n",
       "      <td>0</td>\n",
       "      <td>1</td>\n",
       "      <td>1</td>\n",
       "      <td>1</td>\n",
       "      <td>1</td>\n",
       "      <td>1</td>\n",
       "      <td>1</td>\n",
       "      <td>1</td>\n",
       "      <td>1</td>\n",
       "      <td>1</td>\n",
       "    </tr>\n",
       "    <tr>\n",
       "      <th>2</th>\n",
       "      <td>1</td>\n",
       "      <td>1</td>\n",
       "      <td>1</td>\n",
       "      <td>1</td>\n",
       "      <td>1</td>\n",
       "      <td>1</td>\n",
       "      <td>1</td>\n",
       "      <td>0</td>\n",
       "      <td>1</td>\n",
       "      <td>1</td>\n",
       "      <td>...</td>\n",
       "      <td>0</td>\n",
       "      <td>0</td>\n",
       "      <td>1</td>\n",
       "      <td>1</td>\n",
       "      <td>1</td>\n",
       "      <td>1</td>\n",
       "      <td>0</td>\n",
       "      <td>0</td>\n",
       "      <td>1</td>\n",
       "      <td>1</td>\n",
       "    </tr>\n",
       "    <tr>\n",
       "      <th>3</th>\n",
       "      <td>1</td>\n",
       "      <td>1</td>\n",
       "      <td>1</td>\n",
       "      <td>1</td>\n",
       "      <td>1</td>\n",
       "      <td>0</td>\n",
       "      <td>1</td>\n",
       "      <td>0</td>\n",
       "      <td>1</td>\n",
       "      <td>0</td>\n",
       "      <td>...</td>\n",
       "      <td>0</td>\n",
       "      <td>1</td>\n",
       "      <td>1</td>\n",
       "      <td>0</td>\n",
       "      <td>1</td>\n",
       "      <td>1</td>\n",
       "      <td>0</td>\n",
       "      <td>1</td>\n",
       "      <td>1</td>\n",
       "      <td>1</td>\n",
       "    </tr>\n",
       "    <tr>\n",
       "      <th>4</th>\n",
       "      <td>1</td>\n",
       "      <td>1</td>\n",
       "      <td>1</td>\n",
       "      <td>1</td>\n",
       "      <td>1</td>\n",
       "      <td>1</td>\n",
       "      <td>1</td>\n",
       "      <td>0</td>\n",
       "      <td>1</td>\n",
       "      <td>0</td>\n",
       "      <td>...</td>\n",
       "      <td>0</td>\n",
       "      <td>0</td>\n",
       "      <td>1</td>\n",
       "      <td>1</td>\n",
       "      <td>1</td>\n",
       "      <td>1</td>\n",
       "      <td>0</td>\n",
       "      <td>1</td>\n",
       "      <td>1</td>\n",
       "      <td>1</td>\n",
       "    </tr>\n",
       "  </tbody>\n",
       "</table>\n",
       "<p>5 rows × 6000 columns</p>\n",
       "</div>"
      ],
      "text/plain": [
       "   0     1     2     3     4     5     6     7     8     9     ...  5990  \\\n",
       "0     1     1     1     1     1     1     1     0     0     0  ...     0   \n",
       "1     1     1     1     1     1     0     0     0     0     0  ...     0   \n",
       "2     1     1     1     1     1     1     1     0     1     1  ...     0   \n",
       "3     1     1     1     1     1     0     1     0     1     0  ...     0   \n",
       "4     1     1     1     1     1     1     1     0     1     0  ...     0   \n",
       "\n",
       "   5991  5992  5993  5994  5995  5996  5997  5998  5999  \n",
       "0     0     0     1     1     1     0     1     1     1  \n",
       "1     1     1     1     1     1     1     1     1     1  \n",
       "2     0     1     1     1     1     0     0     1     1  \n",
       "3     1     1     0     1     1     0     1     1     1  \n",
       "4     0     1     1     1     1     0     1     1     1  \n",
       "\n",
       "[5 rows x 6000 columns]"
      ]
     },
     "execution_count": 17,
     "metadata": {},
     "output_type": "execute_result"
    }
   ],
   "source": [
    "pred_df = pd.DataFrame(data=all_preds)\n",
    "print(pred_df.shape)\n",
    "pred_df.head()"
   ]
  },
  {
   "cell_type": "code",
   "execution_count": 18,
   "metadata": {},
   "outputs": [
    {
     "data": {
      "text/plain": [
       "0       1\n",
       "1       1\n",
       "2       1\n",
       "3       1\n",
       "4       1\n",
       "       ..\n",
       "5995    1\n",
       "5996    0\n",
       "5997    1\n",
       "5998    1\n",
       "5999    1\n",
       "Length: 6000, dtype: int64"
      ]
     },
     "execution_count": 18,
     "metadata": {},
     "output_type": "execute_result"
    }
   ],
   "source": [
    "majority_preds = 1 * (pred_df.sum() / N_BOOT > 0.5)\n",
    "majority_preds"
   ]
  },
  {
   "cell_type": "code",
   "execution_count": 19,
   "metadata": {},
   "outputs": [
    {
     "data": {
      "image/png": "[encoded data removed]",
      "text/plain": [
       "<Figure size 432x288 with 1 Axes>"
      ]
     },
     "metadata": {
      "needs_background": "light"
     },
     "output_type": "display_data"
    }
   ],
   "source": [
    "plt.hist(all_acc);"
   ]
  },
  {
   "cell_type": "code",
   "execution_count": 20,
   "metadata": {},
   "outputs": [
    {
     "data": {
      "text/plain": [
       "0.7061666666666667"
      ]
     },
     "execution_count": 20,
     "metadata": {},
     "output_type": "execute_result"
    }
   ],
   "source": [
    "get_accuracy(majority_preds.to_list(), y_test)"
   ]
  },
  {
   "cell_type": "code",
   "execution_count": 21,
   "metadata": {},
   "outputs": [
    {
     "data": {
      "text/plain": [
       "0.6886666666666666"
      ]
     },
     "execution_count": 21,
     "metadata": {},
     "output_type": "execute_result"
    }
   ],
   "source": [
    "# Compare with non-bootstrapped method:\n",
    "X_train = Xy[FIELDS]\n",
    "y_train = Xy.renewed\n",
    "tree = DecisionTreeClassifier(max_depth=MAX_DEPTH)\n",
    "tree.fit(X_train, y_train)\n",
    "preds = tree.predict(X_test)\n",
    "get_accuracy(preds, y_test)"
   ]
  },
  {
   "cell_type": "markdown",
   "metadata": {},
   "source": [
    "Fortunately, sklearn makes this simple:"
   ]
  },
  {
   "cell_type": "code",
   "execution_count": 22,
   "metadata": {},
   "outputs": [
    {
     "name": "stdout",
     "output_type": "stream",
     "text": [
      "Acc: 0.74\n",
      "Time: 2.3933069705963135\n"
     ]
    }
   ],
   "source": [
    "start = time.time()\n",
    "bagger = BaggingClassifier(DecisionTreeClassifier(max_depth=MAX_DEPTH), \n",
    "                           n_estimators=N_BOOT, \n",
    "                           max_samples=X_train.shape[0], \n",
    "                           bootstrap=True)\n",
    "bagger.fit(X_train, y_train)\n",
    "preds = bagger.predict(X_test)\n",
    "print('Acc:', get_accuracy(preds, y_test))\n",
    "print('Time:', time.time() - start)"
   ]
  },
  {
   "cell_type": "markdown",
   "metadata": {},
   "source": [
    "### Random Forests\n",
    "\n",
    "In it's most basic form, a Random Forest model is simply bootstrapping/bagging applied to a Tree model.  However, sklearn offers a different class for it that is optimized for trees (which the `BaggingClassifier` is not)."
   ]
  },
  {
   "cell_type": "code",
   "execution_count": 23,
   "metadata": {},
   "outputs": [
    {
     "name": "stdout",
     "output_type": "stream",
     "text": [
      "Acc: 0.7125\n",
      "Time: 0.782916784286499\n"
     ]
    }
   ],
   "source": [
    "start = time.time()\n",
    "forest = RandomForestClassifier(n_estimators=N_BOOT, max_depth=MAX_DEPTH)\n",
    "forest.fit(X_train, y_train)\n",
    "preds = forest.predict(X_test)\n",
    "print('Acc:', get_accuracy(preds, y_test))\n",
    "print('Time:', time.time() - start)"
   ]
  },
  {
   "cell_type": "markdown",
   "metadata": {},
   "source": [
    "...but often when people refer to Random Forest models they may (also) be referring to \"boosting\".  Boosting still uses the bagging/bootstrapping method, but each sequential estimator attempts to learn from the errors of the previous estimator.  That is the weighting of the errors gets \"boosted\" on sequential runs.  The most frequently used method is the AdaBoost algorithm.  \n",
    "\n",
    "In AdaBoost, all weights are set to 1/m (where m is the number of samples in your data set).  Then, for each estimator, the error rate <i>r<sub>j</sub></i> is computed as:"
   ]
  },
  {
   "cell_type": "markdown",
   "metadata": {},
   "source": [
    "$$r_j = \\frac{\\sum \\limits _{i=1, \\hat{y}^{(i)}≠y^{(i)}} ^m w^{(i)}}{\\sum \\limits _{i=1} ^m w^{(i)}}$$"
   ]
  },
  {
   "cell_type": "markdown",
   "metadata": {},
   "source": [
    "...or, in plain English, the sum of the weights of the wrong assignments divided by the sum of all weights.\n",
    "\n",
    "That predictor's weight <i>&alpha;<sub>j</sub></i> is then computed as\n",
    "\n",
    "$$\\alpha_j = \\eta log \\frac{1 - r_j}{r_j}$$\n",
    "\n",
    "where <i>&eta;</i> is the \"learning rate\" hyperparameter to be tuned (defaults to 1).  In simple terms, though, the more correct an estimator is, the higher its weight is set. (<i>&alpha;</i> tends to +inf with fewer mistakes; = 0 if half wrong; tend toward -inf with more mistakes.)\n",
    "\n",
    "Finally, weights on each record get updated:\n",
    "for <i>i</i> = 1, 2, ..., <i>m</i>\n",
    "\n",
    "$$w^{(i)} \\leftarrow w^{(i)}$$ if correctly predicted, else\n",
    "$$w^{(i)} \\leftarrow w^{(i)}exp(\\alpha_j)$$\n",
    "\n",
    "...and weights are normalized. Again, in simple terms, the more times a record is misclassified, the higher its weight becomes.\n",
    "\n",
    "Let's simulate this process:"
   ]
  },
  {
   "cell_type": "code",
   "execution_count": 24,
   "metadata": {},
   "outputs": [
    {
     "data": {
      "text/html": [
       "<div>\n",
       "<style scoped>\n",
       "    .dataframe tbody tr th:only-of-type {\n",
       "        vertical-align: middle;\n",
       "    }\n",
       "\n",
       "    .dataframe tbody tr th {\n",
       "        vertical-align: top;\n",
       "    }\n",
       "\n",
       "    .dataframe thead th {\n",
       "        text-align: right;\n",
       "    }\n",
       "</style>\n",
       "<table border=\"1\" class=\"dataframe\">\n",
       "  <thead>\n",
       "    <tr style=\"text-align: right;\">\n",
       "      <th></th>\n",
       "      <th>w0</th>\n",
       "    </tr>\n",
       "  </thead>\n",
       "  <tbody>\n",
       "    <tr>\n",
       "      <th>0</th>\n",
       "      <td>0.1</td>\n",
       "    </tr>\n",
       "    <tr>\n",
       "      <th>1</th>\n",
       "      <td>0.1</td>\n",
       "    </tr>\n",
       "    <tr>\n",
       "      <th>2</th>\n",
       "      <td>0.1</td>\n",
       "    </tr>\n",
       "    <tr>\n",
       "      <th>3</th>\n",
       "      <td>0.1</td>\n",
       "    </tr>\n",
       "    <tr>\n",
       "      <th>4</th>\n",
       "      <td>0.1</td>\n",
       "    </tr>\n",
       "    <tr>\n",
       "      <th>5</th>\n",
       "      <td>0.1</td>\n",
       "    </tr>\n",
       "    <tr>\n",
       "      <th>6</th>\n",
       "      <td>0.1</td>\n",
       "    </tr>\n",
       "    <tr>\n",
       "      <th>7</th>\n",
       "      <td>0.1</td>\n",
       "    </tr>\n",
       "    <tr>\n",
       "      <th>8</th>\n",
       "      <td>0.1</td>\n",
       "    </tr>\n",
       "    <tr>\n",
       "      <th>9</th>\n",
       "      <td>0.1</td>\n",
       "    </tr>\n",
       "  </tbody>\n",
       "</table>\n",
       "</div>"
      ],
      "text/plain": [
       "    w0\n",
       "0  0.1\n",
       "1  0.1\n",
       "2  0.1\n",
       "3  0.1\n",
       "4  0.1\n",
       "5  0.1\n",
       "6  0.1\n",
       "7  0.1\n",
       "8  0.1\n",
       "9  0.1"
      ]
     },
     "execution_count": 24,
     "metadata": {},
     "output_type": "execute_result"
    }
   ],
   "source": [
    "ETA = 0.1\n",
    "M = 10\n",
    "df = pd.DataFrame({'w0': [1/M] * M})\n",
    "df"
   ]
  },
  {
   "cell_type": "code",
   "execution_count": 25,
   "metadata": {},
   "outputs": [],
   "source": [
    "def calculate_weights(df, mod_err, weights=0):\n",
    "    errs = f'mod{weights+1}_err'\n",
    "    df[errs] = mod_err\n",
    "    r = np.dot(df[f'w{weights}'], df[errs]) / df[f'w{weights}'].sum()\n",
    "    alpha = ETA * np.log((1 - r) / r)\n",
    "    print(f'Model weight (alpha): {alpha:.4f}')\n",
    "    w = df[f'w{weights}'].copy()\n",
    "    w[df[errs] == 1] = w[df[errs] == 1] * np.exp(alpha)\n",
    "    df[f'w{weights + 1}'] = w / w.sum()\n",
    "    return df"
   ]
  },
  {
   "cell_type": "code",
   "execution_count": 26,
   "metadata": {},
   "outputs": [
    {
     "name": "stdout",
     "output_type": "stream",
     "text": [
      "Model weight (alpha): 0.0405\n"
     ]
    },
    {
     "data": {
      "text/html": [
       "<div>\n",
       "<style scoped>\n",
       "    .dataframe tbody tr th:only-of-type {\n",
       "        vertical-align: middle;\n",
       "    }\n",
       "\n",
       "    .dataframe tbody tr th {\n",
       "        vertical-align: top;\n",
       "    }\n",
       "\n",
       "    .dataframe thead th {\n",
       "        text-align: right;\n",
       "    }\n",
       "</style>\n",
       "<table border=\"1\" class=\"dataframe\">\n",
       "  <thead>\n",
       "    <tr style=\"text-align: right;\">\n",
       "      <th></th>\n",
       "      <th>w0</th>\n",
       "      <th>mod1_err</th>\n",
       "      <th>w1</th>\n",
       "    </tr>\n",
       "  </thead>\n",
       "  <tbody>\n",
       "    <tr>\n",
       "      <th>0</th>\n",
       "      <td>0.1</td>\n",
       "      <td>1</td>\n",
       "      <td>0.102442</td>\n",
       "    </tr>\n",
       "    <tr>\n",
       "      <th>1</th>\n",
       "      <td>0.1</td>\n",
       "      <td>0</td>\n",
       "      <td>0.098372</td>\n",
       "    </tr>\n",
       "    <tr>\n",
       "      <th>2</th>\n",
       "      <td>0.1</td>\n",
       "      <td>1</td>\n",
       "      <td>0.102442</td>\n",
       "    </tr>\n",
       "    <tr>\n",
       "      <th>3</th>\n",
       "      <td>0.1</td>\n",
       "      <td>1</td>\n",
       "      <td>0.102442</td>\n",
       "    </tr>\n",
       "    <tr>\n",
       "      <th>4</th>\n",
       "      <td>0.1</td>\n",
       "      <td>0</td>\n",
       "      <td>0.098372</td>\n",
       "    </tr>\n",
       "    <tr>\n",
       "      <th>5</th>\n",
       "      <td>0.1</td>\n",
       "      <td>0</td>\n",
       "      <td>0.098372</td>\n",
       "    </tr>\n",
       "    <tr>\n",
       "      <th>6</th>\n",
       "      <td>0.1</td>\n",
       "      <td>0</td>\n",
       "      <td>0.098372</td>\n",
       "    </tr>\n",
       "    <tr>\n",
       "      <th>7</th>\n",
       "      <td>0.1</td>\n",
       "      <td>0</td>\n",
       "      <td>0.098372</td>\n",
       "    </tr>\n",
       "    <tr>\n",
       "      <th>8</th>\n",
       "      <td>0.1</td>\n",
       "      <td>0</td>\n",
       "      <td>0.098372</td>\n",
       "    </tr>\n",
       "    <tr>\n",
       "      <th>9</th>\n",
       "      <td>0.1</td>\n",
       "      <td>1</td>\n",
       "      <td>0.102442</td>\n",
       "    </tr>\n",
       "  </tbody>\n",
       "</table>\n",
       "</div>"
      ],
      "text/plain": [
       "    w0  mod1_err        w1\n",
       "0  0.1         1  0.102442\n",
       "1  0.1         0  0.098372\n",
       "2  0.1         1  0.102442\n",
       "3  0.1         1  0.102442\n",
       "4  0.1         0  0.098372\n",
       "5  0.1         0  0.098372\n",
       "6  0.1         0  0.098372\n",
       "7  0.1         0  0.098372\n",
       "8  0.1         0  0.098372\n",
       "9  0.1         1  0.102442"
      ]
     },
     "execution_count": 26,
     "metadata": {},
     "output_type": "execute_result"
    }
   ],
   "source": [
    "mod1_err = [1, 0, 1, 1, 0, 0, 0, 0, 0, 1]\n",
    "df = calculate_weights(df, mod1_err, weights=0)\n",
    "df"
   ]
  },
  {
   "cell_type": "code",
   "execution_count": 27,
   "metadata": {},
   "outputs": [
    {
     "name": "stdout",
     "output_type": "stream",
     "text": [
      "Model weight (alpha): 0.0832\n"
     ]
    },
    {
     "data": {
      "text/html": [
       "<div>\n",
       "<style scoped>\n",
       "    .dataframe tbody tr th:only-of-type {\n",
       "        vertical-align: middle;\n",
       "    }\n",
       "\n",
       "    .dataframe tbody tr th {\n",
       "        vertical-align: top;\n",
       "    }\n",
       "\n",
       "    .dataframe thead th {\n",
       "        text-align: right;\n",
       "    }\n",
       "</style>\n",
       "<table border=\"1\" class=\"dataframe\">\n",
       "  <thead>\n",
       "    <tr style=\"text-align: right;\">\n",
       "      <th></th>\n",
       "      <th>w0</th>\n",
       "      <th>mod1_err</th>\n",
       "      <th>w1</th>\n",
       "      <th>mod2_err</th>\n",
       "      <th>w2</th>\n",
       "    </tr>\n",
       "  </thead>\n",
       "  <tbody>\n",
       "    <tr>\n",
       "      <th>0</th>\n",
       "      <td>0.1</td>\n",
       "      <td>1</td>\n",
       "      <td>0.102442</td>\n",
       "      <td>0</td>\n",
       "      <td>0.099817</td>\n",
       "    </tr>\n",
       "    <tr>\n",
       "      <th>1</th>\n",
       "      <td>0.1</td>\n",
       "      <td>0</td>\n",
       "      <td>0.098372</td>\n",
       "      <td>0</td>\n",
       "      <td>0.095850</td>\n",
       "    </tr>\n",
       "    <tr>\n",
       "      <th>2</th>\n",
       "      <td>0.1</td>\n",
       "      <td>1</td>\n",
       "      <td>0.102442</td>\n",
       "      <td>1</td>\n",
       "      <td>0.108475</td>\n",
       "    </tr>\n",
       "    <tr>\n",
       "      <th>3</th>\n",
       "      <td>0.1</td>\n",
       "      <td>1</td>\n",
       "      <td>0.102442</td>\n",
       "      <td>1</td>\n",
       "      <td>0.108475</td>\n",
       "    </tr>\n",
       "    <tr>\n",
       "      <th>4</th>\n",
       "      <td>0.1</td>\n",
       "      <td>0</td>\n",
       "      <td>0.098372</td>\n",
       "      <td>0</td>\n",
       "      <td>0.095850</td>\n",
       "    </tr>\n",
       "    <tr>\n",
       "      <th>5</th>\n",
       "      <td>0.1</td>\n",
       "      <td>0</td>\n",
       "      <td>0.098372</td>\n",
       "      <td>0</td>\n",
       "      <td>0.095850</td>\n",
       "    </tr>\n",
       "    <tr>\n",
       "      <th>6</th>\n",
       "      <td>0.1</td>\n",
       "      <td>0</td>\n",
       "      <td>0.098372</td>\n",
       "      <td>1</td>\n",
       "      <td>0.104165</td>\n",
       "    </tr>\n",
       "    <tr>\n",
       "      <th>7</th>\n",
       "      <td>0.1</td>\n",
       "      <td>0</td>\n",
       "      <td>0.098372</td>\n",
       "      <td>0</td>\n",
       "      <td>0.095850</td>\n",
       "    </tr>\n",
       "    <tr>\n",
       "      <th>8</th>\n",
       "      <td>0.1</td>\n",
       "      <td>0</td>\n",
       "      <td>0.098372</td>\n",
       "      <td>0</td>\n",
       "      <td>0.095850</td>\n",
       "    </tr>\n",
       "    <tr>\n",
       "      <th>9</th>\n",
       "      <td>0.1</td>\n",
       "      <td>1</td>\n",
       "      <td>0.102442</td>\n",
       "      <td>0</td>\n",
       "      <td>0.099817</td>\n",
       "    </tr>\n",
       "  </tbody>\n",
       "</table>\n",
       "</div>"
      ],
      "text/plain": [
       "    w0  mod1_err        w1  mod2_err        w2\n",
       "0  0.1         1  0.102442         0  0.099817\n",
       "1  0.1         0  0.098372         0  0.095850\n",
       "2  0.1         1  0.102442         1  0.108475\n",
       "3  0.1         1  0.102442         1  0.108475\n",
       "4  0.1         0  0.098372         0  0.095850\n",
       "5  0.1         0  0.098372         0  0.095850\n",
       "6  0.1         0  0.098372         1  0.104165\n",
       "7  0.1         0  0.098372         0  0.095850\n",
       "8  0.1         0  0.098372         0  0.095850\n",
       "9  0.1         1  0.102442         0  0.099817"
      ]
     },
     "execution_count": 27,
     "metadata": {},
     "output_type": "execute_result"
    }
   ],
   "source": [
    "mod2_err = [0, 0, 1, 1, 0, 0, 1, 0, 0, 0]\n",
    "df = calculate_weights(df, mod2_err, weights=1)\n",
    "df"
   ]
  },
  {
   "cell_type": "code",
   "execution_count": 28,
   "metadata": {},
   "outputs": [
    {
     "name": "stdout",
     "output_type": "stream",
     "text": [
      "Model weight (alpha): 0.1335\n"
     ]
    },
    {
     "data": {
      "text/html": [
       "<div>\n",
       "<style scoped>\n",
       "    .dataframe tbody tr th:only-of-type {\n",
       "        vertical-align: middle;\n",
       "    }\n",
       "\n",
       "    .dataframe tbody tr th {\n",
       "        vertical-align: top;\n",
       "    }\n",
       "\n",
       "    .dataframe thead th {\n",
       "        text-align: right;\n",
       "    }\n",
       "</style>\n",
       "<table border=\"1\" class=\"dataframe\">\n",
       "  <thead>\n",
       "    <tr style=\"text-align: right;\">\n",
       "      <th></th>\n",
       "      <th>w0</th>\n",
       "      <th>mod1_err</th>\n",
       "      <th>w1</th>\n",
       "      <th>mod2_err</th>\n",
       "      <th>w2</th>\n",
       "      <th>mod3_err</th>\n",
       "      <th>w3</th>\n",
       "    </tr>\n",
       "  </thead>\n",
       "  <tbody>\n",
       "    <tr>\n",
       "      <th>0</th>\n",
       "      <td>0.1</td>\n",
       "      <td>1</td>\n",
       "      <td>0.102442</td>\n",
       "      <td>0</td>\n",
       "      <td>0.099817</td>\n",
       "      <td>0</td>\n",
       "      <td>0.096933</td>\n",
       "    </tr>\n",
       "    <tr>\n",
       "      <th>1</th>\n",
       "      <td>0.1</td>\n",
       "      <td>0</td>\n",
       "      <td>0.098372</td>\n",
       "      <td>0</td>\n",
       "      <td>0.095850</td>\n",
       "      <td>0</td>\n",
       "      <td>0.093081</td>\n",
       "    </tr>\n",
       "    <tr>\n",
       "      <th>2</th>\n",
       "      <td>0.1</td>\n",
       "      <td>1</td>\n",
       "      <td>0.102442</td>\n",
       "      <td>1</td>\n",
       "      <td>0.108475</td>\n",
       "      <td>1</td>\n",
       "      <td>0.120389</td>\n",
       "    </tr>\n",
       "    <tr>\n",
       "      <th>3</th>\n",
       "      <td>0.1</td>\n",
       "      <td>1</td>\n",
       "      <td>0.102442</td>\n",
       "      <td>1</td>\n",
       "      <td>0.108475</td>\n",
       "      <td>0</td>\n",
       "      <td>0.105341</td>\n",
       "    </tr>\n",
       "    <tr>\n",
       "      <th>4</th>\n",
       "      <td>0.1</td>\n",
       "      <td>0</td>\n",
       "      <td>0.098372</td>\n",
       "      <td>0</td>\n",
       "      <td>0.095850</td>\n",
       "      <td>0</td>\n",
       "      <td>0.093081</td>\n",
       "    </tr>\n",
       "    <tr>\n",
       "      <th>5</th>\n",
       "      <td>0.1</td>\n",
       "      <td>0</td>\n",
       "      <td>0.098372</td>\n",
       "      <td>0</td>\n",
       "      <td>0.095850</td>\n",
       "      <td>0</td>\n",
       "      <td>0.093081</td>\n",
       "    </tr>\n",
       "    <tr>\n",
       "      <th>6</th>\n",
       "      <td>0.1</td>\n",
       "      <td>0</td>\n",
       "      <td>0.098372</td>\n",
       "      <td>1</td>\n",
       "      <td>0.104165</td>\n",
       "      <td>0</td>\n",
       "      <td>0.101155</td>\n",
       "    </tr>\n",
       "    <tr>\n",
       "      <th>7</th>\n",
       "      <td>0.1</td>\n",
       "      <td>0</td>\n",
       "      <td>0.098372</td>\n",
       "      <td>0</td>\n",
       "      <td>0.095850</td>\n",
       "      <td>0</td>\n",
       "      <td>0.093081</td>\n",
       "    </tr>\n",
       "    <tr>\n",
       "      <th>8</th>\n",
       "      <td>0.1</td>\n",
       "      <td>0</td>\n",
       "      <td>0.098372</td>\n",
       "      <td>0</td>\n",
       "      <td>0.095850</td>\n",
       "      <td>0</td>\n",
       "      <td>0.093081</td>\n",
       "    </tr>\n",
       "    <tr>\n",
       "      <th>9</th>\n",
       "      <td>0.1</td>\n",
       "      <td>1</td>\n",
       "      <td>0.102442</td>\n",
       "      <td>0</td>\n",
       "      <td>0.099817</td>\n",
       "      <td>1</td>\n",
       "      <td>0.110779</td>\n",
       "    </tr>\n",
       "  </tbody>\n",
       "</table>\n",
       "</div>"
      ],
      "text/plain": [
       "    w0  mod1_err        w1  mod2_err        w2  mod3_err        w3\n",
       "0  0.1         1  0.102442         0  0.099817         0  0.096933\n",
       "1  0.1         0  0.098372         0  0.095850         0  0.093081\n",
       "2  0.1         1  0.102442         1  0.108475         1  0.120389\n",
       "3  0.1         1  0.102442         1  0.108475         0  0.105341\n",
       "4  0.1         0  0.098372         0  0.095850         0  0.093081\n",
       "5  0.1         0  0.098372         0  0.095850         0  0.093081\n",
       "6  0.1         0  0.098372         1  0.104165         0  0.101155\n",
       "7  0.1         0  0.098372         0  0.095850         0  0.093081\n",
       "8  0.1         0  0.098372         0  0.095850         0  0.093081\n",
       "9  0.1         1  0.102442         0  0.099817         1  0.110779"
      ]
     },
     "execution_count": 28,
     "metadata": {},
     "output_type": "execute_result"
    }
   ],
   "source": [
    "mod3_err = [0, 0, 1, 0, 0, 0, 0, 0, 0, 1]\n",
    "df = calculate_weights(df, mod3_err, weights=2)\n",
    "df"
   ]
  },
  {
   "cell_type": "code",
   "execution_count": null,
   "metadata": {},
   "outputs": [],
   "source": [
    "# NOTE that in the case of a perfect predictor, weights do not update, and\n",
    "# model's weight is infinite.  Not exactly sure how sklearn handles this \n",
    "# case as it may not always be desirable to put all the weight of the \n",
    "# final preds (see below) on a single model\n",
    "\n",
    "#mod4_err = [0, 0, 0, 0, 0, 0, 0, 0, 0, 0]\n",
    "#df_inf = calculate_weights(df, mod4_err, weights=3)\n",
    "#df_inf"
   ]
  },
  {
   "cell_type": "markdown",
   "metadata": {},
   "source": [
    "How extreme the differences are depends on ETA (try, e.g., ETA=0.5)\n",
    "\n",
    "Final predictions from the Boosted model then takes the sum of each model's predictions weighted by that models weight."
   ]
  },
  {
   "cell_type": "code",
   "execution_count": 29,
   "metadata": {},
   "outputs": [
    {
     "data": {
      "text/plain": [
       "(0.15746500777604977, 0.3234836702954899, 0.5190513219284604)"
      ]
     },
     "execution_count": 29,
     "metadata": {},
     "output_type": "execute_result"
    }
   ],
   "source": [
    "m1_w = 0.0405\n",
    "m2_w = 0.0832\n",
    "m3_w = 0.1335\n",
    "\n",
    "# Normalize\n",
    "tot = m1_w + m2_w + m3_w\n",
    "m1_w /= tot\n",
    "m2_w /= tot\n",
    "m3_w /= tot\n",
    "\n",
    "m1_w, m2_w, m3_w"
   ]
  },
  {
   "cell_type": "code",
   "execution_count": 30,
   "metadata": {},
   "outputs": [
    {
     "data": {
      "text/html": [
       "<div>\n",
       "<style scoped>\n",
       "    .dataframe tbody tr th:only-of-type {\n",
       "        vertical-align: middle;\n",
       "    }\n",
       "\n",
       "    .dataframe tbody tr th {\n",
       "        vertical-align: top;\n",
       "    }\n",
       "\n",
       "    .dataframe thead th {\n",
       "        text-align: right;\n",
       "    }\n",
       "</style>\n",
       "<table border=\"1\" class=\"dataframe\">\n",
       "  <thead>\n",
       "    <tr style=\"text-align: right;\">\n",
       "      <th></th>\n",
       "      <th>y</th>\n",
       "      <th>pred1</th>\n",
       "      <th>pred2</th>\n",
       "      <th>pred3</th>\n",
       "    </tr>\n",
       "  </thead>\n",
       "  <tbody>\n",
       "    <tr>\n",
       "      <th>0</th>\n",
       "      <td>0</td>\n",
       "      <td>1</td>\n",
       "      <td>0</td>\n",
       "      <td>0</td>\n",
       "    </tr>\n",
       "    <tr>\n",
       "      <th>1</th>\n",
       "      <td>0</td>\n",
       "      <td>0</td>\n",
       "      <td>0</td>\n",
       "      <td>0</td>\n",
       "    </tr>\n",
       "    <tr>\n",
       "      <th>2</th>\n",
       "      <td>0</td>\n",
       "      <td>1</td>\n",
       "      <td>1</td>\n",
       "      <td>1</td>\n",
       "    </tr>\n",
       "    <tr>\n",
       "      <th>3</th>\n",
       "      <td>0</td>\n",
       "      <td>1</td>\n",
       "      <td>1</td>\n",
       "      <td>0</td>\n",
       "    </tr>\n",
       "    <tr>\n",
       "      <th>4</th>\n",
       "      <td>0</td>\n",
       "      <td>0</td>\n",
       "      <td>0</td>\n",
       "      <td>0</td>\n",
       "    </tr>\n",
       "    <tr>\n",
       "      <th>5</th>\n",
       "      <td>1</td>\n",
       "      <td>1</td>\n",
       "      <td>1</td>\n",
       "      <td>1</td>\n",
       "    </tr>\n",
       "    <tr>\n",
       "      <th>6</th>\n",
       "      <td>1</td>\n",
       "      <td>1</td>\n",
       "      <td>0</td>\n",
       "      <td>1</td>\n",
       "    </tr>\n",
       "    <tr>\n",
       "      <th>7</th>\n",
       "      <td>1</td>\n",
       "      <td>1</td>\n",
       "      <td>1</td>\n",
       "      <td>1</td>\n",
       "    </tr>\n",
       "    <tr>\n",
       "      <th>8</th>\n",
       "      <td>1</td>\n",
       "      <td>1</td>\n",
       "      <td>1</td>\n",
       "      <td>1</td>\n",
       "    </tr>\n",
       "    <tr>\n",
       "      <th>9</th>\n",
       "      <td>1</td>\n",
       "      <td>0</td>\n",
       "      <td>1</td>\n",
       "      <td>0</td>\n",
       "    </tr>\n",
       "  </tbody>\n",
       "</table>\n",
       "</div>"
      ],
      "text/plain": [
       "   y  pred1  pred2  pred3\n",
       "0  0      1      0      0\n",
       "1  0      0      0      0\n",
       "2  0      1      1      1\n",
       "3  0      1      1      0\n",
       "4  0      0      0      0\n",
       "5  1      1      1      1\n",
       "6  1      1      0      1\n",
       "7  1      1      1      1\n",
       "8  1      1      1      1\n",
       "9  1      0      1      0"
      ]
     },
     "execution_count": 30,
     "metadata": {},
     "output_type": "execute_result"
    }
   ],
   "source": [
    "df = pd.DataFrame({'y':     [0, 0, 0, 0, 0, 1, 1, 1, 1, 1],\n",
    "                   'pred1': [1, 0, 1, 1, 0, 1, 1, 1, 1, 0],\n",
    "                   'pred2': [0, 0, 1, 1, 0, 1, 0, 1, 1, 1],\n",
    "                   'pred3': [0, 0, 1, 0, 0, 1, 1, 1, 1, 0],})\n",
    "df"
   ]
  },
  {
   "cell_type": "code",
   "execution_count": 31,
   "metadata": {},
   "outputs": [
    {
     "data": {
      "text/html": [
       "<div>\n",
       "<style scoped>\n",
       "    .dataframe tbody tr th:only-of-type {\n",
       "        vertical-align: middle;\n",
       "    }\n",
       "\n",
       "    .dataframe tbody tr th {\n",
       "        vertical-align: top;\n",
       "    }\n",
       "\n",
       "    .dataframe thead th {\n",
       "        text-align: right;\n",
       "    }\n",
       "</style>\n",
       "<table border=\"1\" class=\"dataframe\">\n",
       "  <thead>\n",
       "    <tr style=\"text-align: right;\">\n",
       "      <th></th>\n",
       "      <th>y</th>\n",
       "      <th>pred1</th>\n",
       "      <th>pred2</th>\n",
       "      <th>pred3</th>\n",
       "      <th>pred1_w</th>\n",
       "      <th>pred2_w</th>\n",
       "      <th>pred3_w</th>\n",
       "      <th>pred_prob</th>\n",
       "      <th>pred</th>\n",
       "    </tr>\n",
       "  </thead>\n",
       "  <tbody>\n",
       "    <tr>\n",
       "      <th>0</th>\n",
       "      <td>0</td>\n",
       "      <td>1</td>\n",
       "      <td>0</td>\n",
       "      <td>0</td>\n",
       "      <td>0.157465</td>\n",
       "      <td>0.000000</td>\n",
       "      <td>0.000000</td>\n",
       "      <td>0.157465</td>\n",
       "      <td>0</td>\n",
       "    </tr>\n",
       "    <tr>\n",
       "      <th>1</th>\n",
       "      <td>0</td>\n",
       "      <td>0</td>\n",
       "      <td>0</td>\n",
       "      <td>0</td>\n",
       "      <td>0.000000</td>\n",
       "      <td>0.000000</td>\n",
       "      <td>0.000000</td>\n",
       "      <td>0.000000</td>\n",
       "      <td>0</td>\n",
       "    </tr>\n",
       "    <tr>\n",
       "      <th>2</th>\n",
       "      <td>0</td>\n",
       "      <td>1</td>\n",
       "      <td>1</td>\n",
       "      <td>1</td>\n",
       "      <td>0.157465</td>\n",
       "      <td>0.323484</td>\n",
       "      <td>0.519051</td>\n",
       "      <td>1.000000</td>\n",
       "      <td>1</td>\n",
       "    </tr>\n",
       "    <tr>\n",
       "      <th>3</th>\n",
       "      <td>0</td>\n",
       "      <td>1</td>\n",
       "      <td>1</td>\n",
       "      <td>0</td>\n",
       "      <td>0.157465</td>\n",
       "      <td>0.323484</td>\n",
       "      <td>0.000000</td>\n",
       "      <td>0.480949</td>\n",
       "      <td>0</td>\n",
       "    </tr>\n",
       "    <tr>\n",
       "      <th>4</th>\n",
       "      <td>0</td>\n",
       "      <td>0</td>\n",
       "      <td>0</td>\n",
       "      <td>0</td>\n",
       "      <td>0.000000</td>\n",
       "      <td>0.000000</td>\n",
       "      <td>0.000000</td>\n",
       "      <td>0.000000</td>\n",
       "      <td>0</td>\n",
       "    </tr>\n",
       "    <tr>\n",
       "      <th>5</th>\n",
       "      <td>1</td>\n",
       "      <td>1</td>\n",
       "      <td>1</td>\n",
       "      <td>1</td>\n",
       "      <td>0.157465</td>\n",
       "      <td>0.323484</td>\n",
       "      <td>0.519051</td>\n",
       "      <td>1.000000</td>\n",
       "      <td>1</td>\n",
       "    </tr>\n",
       "    <tr>\n",
       "      <th>6</th>\n",
       "      <td>1</td>\n",
       "      <td>1</td>\n",
       "      <td>0</td>\n",
       "      <td>1</td>\n",
       "      <td>0.157465</td>\n",
       "      <td>0.000000</td>\n",
       "      <td>0.519051</td>\n",
       "      <td>0.676516</td>\n",
       "      <td>1</td>\n",
       "    </tr>\n",
       "    <tr>\n",
       "      <th>7</th>\n",
       "      <td>1</td>\n",
       "      <td>1</td>\n",
       "      <td>1</td>\n",
       "      <td>1</td>\n",
       "      <td>0.157465</td>\n",
       "      <td>0.323484</td>\n",
       "      <td>0.519051</td>\n",
       "      <td>1.000000</td>\n",
       "      <td>1</td>\n",
       "    </tr>\n",
       "    <tr>\n",
       "      <th>8</th>\n",
       "      <td>1</td>\n",
       "      <td>1</td>\n",
       "      <td>1</td>\n",
       "      <td>1</td>\n",
       "      <td>0.157465</td>\n",
       "      <td>0.323484</td>\n",
       "      <td>0.519051</td>\n",
       "      <td>1.000000</td>\n",
       "      <td>1</td>\n",
       "    </tr>\n",
       "    <tr>\n",
       "      <th>9</th>\n",
       "      <td>1</td>\n",
       "      <td>0</td>\n",
       "      <td>1</td>\n",
       "      <td>0</td>\n",
       "      <td>0.000000</td>\n",
       "      <td>0.323484</td>\n",
       "      <td>0.000000</td>\n",
       "      <td>0.323484</td>\n",
       "      <td>0</td>\n",
       "    </tr>\n",
       "  </tbody>\n",
       "</table>\n",
       "</div>"
      ],
      "text/plain": [
       "   y  pred1  pred2  pred3   pred1_w   pred2_w   pred3_w  pred_prob  pred\n",
       "0  0      1      0      0  0.157465  0.000000  0.000000   0.157465     0\n",
       "1  0      0      0      0  0.000000  0.000000  0.000000   0.000000     0\n",
       "2  0      1      1      1  0.157465  0.323484  0.519051   1.000000     1\n",
       "3  0      1      1      0  0.157465  0.323484  0.000000   0.480949     0\n",
       "4  0      0      0      0  0.000000  0.000000  0.000000   0.000000     0\n",
       "5  1      1      1      1  0.157465  0.323484  0.519051   1.000000     1\n",
       "6  1      1      0      1  0.157465  0.000000  0.519051   0.676516     1\n",
       "7  1      1      1      1  0.157465  0.323484  0.519051   1.000000     1\n",
       "8  1      1      1      1  0.157465  0.323484  0.519051   1.000000     1\n",
       "9  1      0      1      0  0.000000  0.323484  0.000000   0.323484     0"
      ]
     },
     "execution_count": 31,
     "metadata": {},
     "output_type": "execute_result"
    }
   ],
   "source": [
    "df['pred1_w'] = df.pred1 * m1_w\n",
    "df['pred2_w'] = df.pred2 * m2_w\n",
    "df['pred3_w'] = df.pred3 * m3_w\n",
    "df['pred_prob'] = df.pred1_w + df.pred2_w + df.pred3_w\n",
    "df['pred'] = round(df.pred_prob).astype(int)\n",
    "df"
   ]
  },
  {
   "cell_type": "markdown",
   "metadata": {},
   "source": [
    "Again, `sklearn` makes our lives easier:"
   ]
  },
  {
   "cell_type": "code",
   "execution_count": 32,
   "metadata": {},
   "outputs": [
    {
     "data": {
      "text/plain": [
       "0.8758333333333334"
      ]
     },
     "execution_count": 32,
     "metadata": {},
     "output_type": "execute_result"
    }
   ],
   "source": [
    "ada = AdaBoostClassifier(DecisionTreeClassifier(max_depth=MAX_DEPTH), \n",
    "                             n_estimators=N_BOOT, \n",
    "                             learning_rate=ETA)\n",
    "ada.fit(X_train, y_train)\n",
    "preds = ada.predict(X_test)\n",
    "acc = get_accuracy(preds, y_test)\n",
    "acc"
   ]
  },
  {
   "cell_type": "markdown",
   "metadata": {},
   "source": [
    "Tune your learning rate hyperparameter.\n",
    "_NOTE:_ normally you would use your validation set for this, not your test set, so excuse my laziness..."
   ]
  },
  {
   "cell_type": "code",
   "execution_count": 33,
   "metadata": {},
   "outputs": [
    {
     "name": "stdout",
     "output_type": "stream",
     "text": [
      "Fitting with eta = 1.00...\r"
     ]
    }
   ],
   "source": [
    "etas = np.linspace(0.01, 1, 10)\n",
    "accs = []\n",
    "\n",
    "for eta in etas:\n",
    "    print(f'Fitting with eta = {eta:.2f}...', end='\\r')\n",
    "    ada = AdaBoostClassifier(DecisionTreeClassifier(max_depth=MAX_DEPTH), \n",
    "                             n_estimators=N_BOOT, \n",
    "                             learning_rate=eta)\n",
    "    ada.fit(X_train, y_train)\n",
    "    preds = ada.predict(X_test)\n",
    "    acc = get_accuracy(preds, y_test)\n",
    "    accs.append(acc)"
   ]
  },
  {
   "cell_type": "code",
   "execution_count": 34,
   "metadata": {},
   "outputs": [
    {
     "data": {
      "image/png": "[encoded data removed]",
      "text/plain": [
       "<Figure size 432x288 with 1 Axes>"
      ]
     },
     "metadata": {
      "needs_background": "light"
     },
     "output_type": "display_data"
    }
   ],
   "source": [
    "plt.plot(etas, accs)\n",
    "plt.xlabel('Learning Rate')\n",
    "plt.ylabel('Accuracy');"
   ]
  },
  {
   "cell_type": "markdown",
   "metadata": {},
   "source": [
    "Note that, in principle, AdaBoost can be used with any type of classifier, or (with some adjustments to the weighting scheme), even regressors.  In practice though, it is most commonly used with tree models, and other forms of regularization are used with other models."
   ]
  },
  {
   "cell_type": "code",
   "execution_count": null,
   "metadata": {},
   "outputs": [],
   "source": []
  }
 ],
 "metadata": {
  "kernelspec": {
   "display_name": "Python 3",
   "language": "python",
   "name": "python3"
  },
  "language_info": {
   "codemirror_mode": {
    "name": "ipython",
    "version": 3
   },
   "file_extension": ".py",
   "mimetype": "text/x-python",
   "name": "python",
   "nbconvert_exporter": "python",
   "pygments_lexer": "ipython3",
   "version": "3.7.4"
  }
 },
 "nbformat": 4,
 "nbformat_minor": 4
}
