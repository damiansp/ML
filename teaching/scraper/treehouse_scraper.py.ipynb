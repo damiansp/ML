{
 "cells": [
  {
   "cell_type": "code",
   "execution_count": null,
   "metadata": {},
   "outputs": [],
   "source": [
    "import numpy as np\n",
    "import pandas as pd\n",
    "import requests\n",
    "from bs4 import BeautifulSoup as bs"
   ]
  },
  {
   "cell_type": "code",
   "execution_count": null,
   "metadata": {},
   "outputs": [],
   "source": [
    "base_url = 'https://teamtreehouse.com/tracks/beginning-python'"
   ]
  },
  {
   "cell_type": "code",
   "execution_count": null,
   "metadata": {},
   "outputs": [],
   "source": [
    "resp = requests.get(base_url, allow_redirects=False)\n",
    "resp"
   ]
  },
  {
   "cell_type": "code",
   "execution_count": null,
   "metadata": {},
   "outputs": [],
   "source": [
    "resp.content[:300]"
   ]
  },
  {
   "cell_type": "code",
   "execution_count": null,
   "metadata": {},
   "outputs": [],
   "source": [
    "soup = bs(resp.content, 'html.parser')"
   ]
  },
  {
   "cell_type": "code",
   "execution_count": null,
   "metadata": {},
   "outputs": [],
   "source": [
    "soup.find('p')"
   ]
  },
  {
   "cell_type": "code",
   "execution_count": null,
   "metadata": {},
   "outputs": [],
   "source": [
    "all_ps = soup.find_all('p')\n",
    "len(all_ps)"
   ]
  },
  {
   "cell_type": "code",
   "execution_count": null,
   "metadata": {},
   "outputs": [],
   "source": [
    "all_ps\n",
    "#all_ps[0]"
   ]
  },
  {
   "cell_type": "code",
   "execution_count": null,
   "metadata": {},
   "outputs": [],
   "source": [
    "cards = soup.find_all('a', class_='card-box')"
   ]
  },
  {
   "cell_type": "code",
   "execution_count": null,
   "metadata": {},
   "outputs": [],
   "source": [
    "len(cards)"
   ]
  },
  {
   "cell_type": "code",
   "execution_count": null,
   "metadata": {},
   "outputs": [],
   "source": [
    "cards[0]"
   ]
  },
  {
   "cell_type": "code",
   "execution_count": null,
   "metadata": {},
   "outputs": [],
   "source": [
    "def get_duration(card):\n",
    "    duration_raw = card.find('span', class_='card-estimate').text\n",
    "    time, units = duration_raw.split()\n",
    "    assert(units in ['min', 'hours']), f'Unexpected time units: {units}'\n",
    "    time = int(time)\n",
    "    if units == 'hours':\n",
    "        time *= 60\n",
    "    return time"
   ]
  },
  {
   "cell_type": "code",
   "execution_count": null,
   "metadata": {
    "scrolled": false
   },
   "outputs": [],
   "source": [
    "def get_lessons(course_url):\n",
    "    resp = requests.get(course_url, allow_redirects=False)\n",
    "    soup = bs(resp.content, 'html.parser')\n",
    "    units = soup.find_all('div', class_='featurette')\n",
    "    lessons = []\n",
    "    for unit in units:\n",
    "        lesson_title = unit.find_all('h2')[0].text.strip()\n",
    "        lessons.append(lesson_title)\n",
    "    return lessons\n",
    "    \n",
    "    \n",
    "get_lessons(\n",
    "    'https://teamtreehouse.com/library/python-basics-3/stages')"
   ]
  },
  {
   "cell_type": "code",
   "execution_count": null,
   "metadata": {
    "scrolled": true
   },
   "outputs": [],
   "source": [
    "def get_data_from_card(card):\n",
    "    title = card.find('h3', class_='card-title').text.strip()\n",
    "    duration_in_minutes = get_duration(card) \n",
    "    description = card.find('p', class_='card-description').text.strip()\n",
    "    course_url = (\n",
    "        'https://teamtreehouse.com' + card.get('href') + '/stages')\n",
    "    lessons = get_lessons(course_url)\n",
    "    out = {'title': title,\n",
    "           'duration_in_minutes': duration_in_minutes,\n",
    "           'description': description,\n",
    "           'lessons': lessons}\n",
    "    return out\n",
    "    \n",
    "    \n",
    "    \n",
    "get_data_from_card(cards[0])"
   ]
  },
  {
   "cell_type": "code",
   "execution_count": null,
   "metadata": {},
   "outputs": [],
   "source": [
    "all_data = [get_data_from_card(card) for card in cards]\n",
    "all_data"
   ]
  },
  {
   "cell_type": "code",
   "execution_count": null,
   "metadata": {},
   "outputs": [],
   "source": [
    "def json_to_dataframe(all_data):\n",
    "    columns = all_data[0].keys()\n",
    "    data = []\n",
    "    for datum in all_data:\n",
    "        row = [datum[col] for col in columns]\n",
    "        data.append(row)\n",
    "    df = pd.DataFrame(data=data, columns=columns)\n",
    "    return df\n",
    "    \n",
    "df = json_to_dataframe(all_data)\n",
    "df"
   ]
  },
  {
   "cell_type": "code",
   "execution_count": null,
   "metadata": {},
   "outputs": [],
   "source": [
    "df.to_csv('python_listings.csv', index=False)"
   ]
  },
  {
   "cell_type": "code",
   "execution_count": null,
   "metadata": {},
   "outputs": [],
   "source": []
  }
 ],
 "metadata": {
  "kernelspec": {
   "display_name": "Python 3",
   "language": "python",
   "name": "python3"
  },
  "language_info": {
   "codemirror_mode": {
    "name": "ipython",
    "version": 3
   },
   "file_extension": ".py",
   "mimetype": "text/x-python",
   "name": "python",
   "nbconvert_exporter": "python",
   "pygments_lexer": "ipython3",
   "version": "3.7.4"
  }
 },
 "nbformat": 4,
 "nbformat_minor": 2
}
