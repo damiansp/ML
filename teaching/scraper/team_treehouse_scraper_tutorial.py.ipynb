{
 "cells": [
  {
   "cell_type": "code",
   "execution_count": null,
   "metadata": {},
   "outputs": [],
   "source": [
    "import numpy as np\n",
    "import pandas as pd\n",
    "import requests\n",
    "from bs4 import BeautifulSoup as bs"
   ]
  },
  {
   "cell_type": "code",
   "execution_count": null,
   "metadata": {},
   "outputs": [],
   "source": [
    "base_url = 'https://teamtreehouse.com/tracks/beginning-python'"
   ]
  },
  {
   "cell_type": "code",
   "execution_count": null,
   "metadata": {},
   "outputs": [],
   "source": [
    "resp = requests.get(base_url, allow_redirects=False)\n",
    "resp"
   ]
  },
  {
   "cell_type": "code",
   "execution_count": null,
   "metadata": {},
   "outputs": [],
   "source": [
    "resp.content[:300]"
   ]
  },
  {
   "cell_type": "code",
   "execution_count": null,
   "metadata": {},
   "outputs": [],
   "source": [
    "soup = bs(resp.content, 'html.parser')"
   ]
  },
  {
   "cell_type": "code",
   "execution_count": null,
   "metadata": {},
   "outputs": [],
   "source": [
    "soup.find('p')"
   ]
  },
  {
   "cell_type": "code",
   "execution_count": null,
   "metadata": {},
   "outputs": [],
   "source": [
    "all_ps = soup.find_all('p')\n",
    "len(all_ps)"
   ]
  },
  {
   "cell_type": "code",
   "execution_count": null,
   "metadata": {},
   "outputs": [],
   "source": [
    "all_ps\n",
    "#all_ps[0]"
   ]
  },
  {
   "cell_type": "code",
   "execution_count": null,
   "metadata": {},
   "outputs": [],
   "source": [
    "cards = soup.find_all('a', class_='card-box')"
   ]
  },
  {
   "cell_type": "code",
   "execution_count": null,
   "metadata": {},
   "outputs": [],
   "source": [
    "len(cards)"
   ]
  },
  {
   "cell_type": "code",
   "execution_count": null,
   "metadata": {},
   "outputs": [],
   "source": [
    "cards[0]"
   ]
  },
  {
   "cell_type": "code",
   "execution_count": null,
   "metadata": {},
   "outputs": [],
   "source": [
    "# SKIP FOR NOW\n",
    "def get_duration(card):\n",
    "    # Should take a single <card> as input and return the time for that \n",
    "    # course (in minutes)\n",
    "    \n",
    "    # TO DO------------\n",
    "    pass\n",
    "    #------------------\n",
    "    \n",
    "    #return time\n",
    "\n",
    "# Test\n",
    "get_duration(cards[0])"
   ]
  },
  {
   "cell_type": "code",
   "execution_count": null,
   "metadata": {},
   "outputs": [],
   "source": [
    "# SKIP FOR NOW\n",
    "def get_lessons(course_url):\n",
    "    # Should take a url for a single course (identified by a card), and\n",
    "    # return an array (list) of all lessons in that course\n",
    "    \n",
    "    # TO DO------------\n",
    "    pass\n",
    "    #------------------\n",
    "    \n",
    "    #return lessons\n",
    "    \n",
    "# Test\n",
    "get_lessons(\n",
    "    'https://teamtreehouse.com/library/python-basics-3/stages')"
   ]
  },
  {
   "cell_type": "code",
   "execution_count": null,
   "metadata": {},
   "outputs": [],
   "source": [
    "# START HERE:\n",
    "def get_data_from_card(card):\n",
    "    # From each <card> in your <cards> array, obtain the following:\n",
    "    # - title of course\n",
    "    # - duration (in minutes)\n",
    "    # - description\n",
    "    # - list of lessons in the course\n",
    "    # Store these in a dictionary, and return the dictionary\n",
    "    \n",
    "    # TO DO ---------------\n",
    "    pass\n",
    "    \n",
    "    # fill the rest of this in:\n",
    "    #out = {'title': }\n",
    "    #\n",
    "    \n",
    "    #return out\n",
    "\n",
    "# Test\n",
    "get_data_from_card(cards[0])"
   ]
  },
  {
   "cell_type": "code",
   "execution_count": null,
   "metadata": {},
   "outputs": [],
   "source": [
    "all_data = [get_data_from_card(card) for card in cards]\n",
    "all_data"
   ]
  },
  {
   "cell_type": "code",
   "execution_count": null,
   "metadata": {},
   "outputs": [],
   "source": [
    "# TO DO: convert data in the dictionaries to a pandas DataFrame that can \n",
    "# be used to save data as a .csv\n",
    "def json_to_dataframe(all_data):\n",
    "    # Takes <all_data> (a list of dictionaries with a known set of keys) \n",
    "    # as input, and returns <df>, a DataFrame tabular version of the same \n",
    "    # data\n",
    "    \n",
    "    # TO DO-----------------\n",
    "    pass\n",
    "    # ----------------------\n",
    "    #return df\n",
    "    \n",
    "# Test\n",
    "df = json_to_dataframe(all_data)\n",
    "df"
   ]
  },
  {
   "cell_type": "code",
   "execution_count": null,
   "metadata": {},
   "outputs": [],
   "source": [
    "# Write to a file\n",
    "if type(df) is pd.DataFrame:\n",
    "    df.to_csv('python_listings.csv', index=False)\n",
    "else:\n",
    "    print('df is not a DataFrame')"
   ]
  },
  {
   "cell_type": "code",
   "execution_count": null,
   "metadata": {},
   "outputs": [],
   "source": []
  }
 ],
 "metadata": {
  "kernelspec": {
   "display_name": "Python 3",
   "language": "python",
   "name": "python3"
  },
  "language_info": {
   "codemirror_mode": {
    "name": "ipython",
    "version": 3
   },
   "file_extension": ".py",
   "mimetype": "text/x-python",
   "name": "python",
   "nbconvert_exporter": "python",
   "pygments_lexer": "ipython3",
   "version": "3.7.4"
  }
 },
 "nbformat": 4,
 "nbformat_minor": 2
}
