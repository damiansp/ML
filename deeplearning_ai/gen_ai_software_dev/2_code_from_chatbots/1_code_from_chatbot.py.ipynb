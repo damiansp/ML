{
 "cells": [
  {
   "cell_type": "markdown",
   "id": "bb50401e",
   "metadata": {},
   "source": [
    "Write a python function to check if a number, 'n' is prime."
   ]
  },
  {
   "cell_type": "code",
   "execution_count": 1,
   "id": "4a3c5ea8",
   "metadata": {},
   "outputs": [],
   "source": [
    "def is_prime(n):\n",
    "    # Handle edge cases\n",
    "    if n <= 1:\n",
    "        return False\n",
    "    if n == 2:\n",
    "        return True  # 2 is the only even prime number\n",
    "    if n % 2 == 0:\n",
    "        return False  # Other even numbers are not prime\n",
    "\n",
    "    # Check divisibility from 3 to √n\n",
    "    for i in range(3, int(n ** 0.5) + 1, 2):\n",
    "        if n % i == 0:\n",
    "            return False\n",
    "    return True"
   ]
  },
  {
   "cell_type": "markdown",
   "id": "b110c438",
   "metadata": {},
   "source": [
    "Add error handling to make sure the input is a positive integer."
   ]
  },
  {
   "cell_type": "code",
   "execution_count": 2,
   "id": "9e48d256",
   "metadata": {},
   "outputs": [],
   "source": [
    "def is_prime(n):\n",
    "    # Check if the input is a positive integer\n",
    "    if not isinstance(n, int):\n",
    "        raise TypeError(\"Input must be an integer.\")\n",
    "    if n <= 0:\n",
    "        raise ValueError(\"Input must be a positive integer.\")\n",
    "    \n",
    "    # Handle edge cases\n",
    "    if n == 1:\n",
    "        return False  # 1 is not a prime number\n",
    "    if n == 2:\n",
    "        return True  # 2 is the only even prime number\n",
    "    if n % 2 == 0:\n",
    "        return False  # Other even numbers are not prime\n",
    "\n",
    "    # Check divisibility from 3 to √n\n",
    "    for i in range(3, int(n ** 0.5) + 1, 2):\n",
    "        if n % i == 0:\n",
    "            return False\n",
    "    return True"
   ]
  },
  {
   "cell_type": "markdown",
   "id": "63854acb",
   "metadata": {},
   "source": [
    "Rewrite.  Always prefer single quotes to double, and omit unnecessary empty lines."
   ]
  },
  {
   "cell_type": "code",
   "execution_count": 3,
   "id": "883f1251",
   "metadata": {},
   "outputs": [],
   "source": [
    "def is_prime(n):\n",
    "    # Check if the input is a positive integer\n",
    "    if not isinstance(n, int):\n",
    "        raise TypeError('Input must be an integer.')\n",
    "    if n <= 0:\n",
    "        raise ValueError('Input must be a positive integer.')\n",
    "    if n == 1:\n",
    "        return False  # 1 is not a prime number\n",
    "    if n == 2:\n",
    "        return True  # 2 is the only even prime number\n",
    "    if n % 2 == 0:\n",
    "        return False  # Other even numbers are not prime\n",
    "    for i in range(3, int(n ** 0.5) + 1, 2):\n",
    "        if n % i == 0:\n",
    "            return False\n",
    "    return True"
   ]
  },
  {
   "cell_type": "markdown",
   "id": "9b336e13",
   "metadata": {},
   "source": [
    "Create a simple Flask app in Python that includes one API endpoint.  The endpoint should handle GET requests at the URL '/multiply', which accepts 2 query parameters, 'a' and 'b', and returns the product as a JSON object.  Include error handling if parameters are omitted or not convertible to numeric values."
   ]
  },
  {
   "cell_type": "code",
   "execution_count": null,
   "id": "adfe2f90",
   "metadata": {},
   "outputs": [],
   "source": []
  },
  {
   "cell_type": "code",
   "execution_count": null,
   "id": "fb67c1f3",
   "metadata": {},
   "outputs": [],
   "source": [
    "from flask import Flask, request, jsonify\n",
    "\n",
    "app = Flask(__name__)\n",
    "\n",
    "@app.route('/multiply', methods=['GET'])\n",
    "def multiply():\n",
    "    # Get query parameters\n",
    "    a = request.args.get('a')\n",
    "    b = request.args.get('b')\n",
    "    \n",
    "    # Error handling for missing parameters\n",
    "    if a is None or b is None:\n",
    "        return jsonify({'error': 'Missing query parameters. Both \"a\" and \"b\" are required.'}), 400\n",
    "    \n",
    "    # Error handling for non-numeric values\n",
    "    try:\n",
    "        a = float(a)\n",
    "        b = float(b)\n",
    "    except ValueError:\n",
    "        return jsonify({'error': 'Query parameters must be numeric.'}), 400\n",
    "    \n",
    "    # Calculate product\n",
    "    product = a * b\n",
    "    \n",
    "    # Return the result as a JSON object\n",
    "    return jsonify({'a': a, 'b': b, 'product': product})\n",
    "\n",
    "if __name__ == '__main__':\n",
    "    app.run(debug=True)"
   ]
  }
 ],
 "metadata": {
  "kernelspec": {
   "display_name": "Python 3 (ipykernel)",
   "language": "python",
   "name": "python3"
  },
  "language_info": {
   "codemirror_mode": {
    "name": "ipython",
    "version": 3
   },
   "file_extension": ".py",
   "mimetype": "text/x-python",
   "name": "python",
   "nbconvert_exporter": "python",
   "pygments_lexer": "ipython3",
   "version": "3.11.3"
  }
 },
 "nbformat": 4,
 "nbformat_minor": 5
}
