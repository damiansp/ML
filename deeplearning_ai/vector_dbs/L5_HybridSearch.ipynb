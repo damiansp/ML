{
 "cells": [
  {
   "cell_type": "markdown",
   "id": "b4e2a99c-b639-4711-b47b-8b4fe99ae424",
   "metadata": {},
   "source": [
    "# Sparse Dense and Hybrid Search"
   ]
  },
  {
   "cell_type": "markdown",
   "id": "85461c2b-6e2e-4b26-8b28-60f1a03bb7c9",
   "metadata": {},
   "source": [
    "## Remove old Weaviate DB files"
   ]
  },
  {
   "cell_type": "code",
   "execution_count": null,
   "id": "5f42e56c-b02b-4e58-9c8e-5f6da45d1b0e",
   "metadata": {
    "height": 30
   },
   "outputs": [],
   "source": [
    "!rm -rf ~/.local/share/weaviate"
   ]
  },
  {
   "cell_type": "markdown",
   "id": "1a543c34-1f7b-4e35-b235-ba9a871f690c",
   "metadata": {},
   "source": [
    "## Recreate the example\n",
    "With the same data as in the previous lesson"
   ]
  },
  {
   "cell_type": "code",
   "execution_count": 1,
   "id": "41e7890e",
   "metadata": {
    "height": 200
   },
   "outputs": [],
   "source": [
    "import json\n",
    "import os\n",
    "import requests\n",
    "\n",
    "from dotenv import load_dotenv, find_dotenv\n",
    "import openai\n",
    "import weaviate\n",
    "from weaviate import EmbeddedOptions\n",
    "\n",
    "_ = load_dotenv(find_dotenv()) # read local .env file\n",
    "openai.api_key = os.environ['OPENAI_API_KEY']"
   ]
  },
  {
   "cell_type": "code",
   "execution_count": 2,
   "id": "262599c7",
   "metadata": {
    "height": 130
   },
   "outputs": [
    {
     "name": "stdout",
     "output_type": "stream",
     "text": [
      "<class 'list'> 10\n"
     ]
    }
   ],
   "source": [
    "# Download the data\n",
    "resp = requests.get(\n",
    "    'https://raw.githubusercontent.com/weaviate-tutorials/'\n",
    "    'quickstart/main/data/jeopardy_tiny.json')\n",
    "data = json.loads(resp.text)  # Load data\n",
    "# Parse the JSON and preview it\n",
    "print(type(data), len(data))"
   ]
  },
  {
   "cell_type": "code",
   "execution_count": 3,
   "id": "c88b6d33",
   "metadata": {
    "height": 47
   },
   "outputs": [],
   "source": [
    "def json_print(data):\n",
    "    print(json.dumps(data, indent=2))"
   ]
  },
  {
   "cell_type": "code",
   "execution_count": 4,
   "id": "04887b2b-3dfd-4efd-b224-f7fde76c8b40",
   "metadata": {
    "height": 129
   },
   "outputs": [
    {
     "name": "stdout",
     "output_type": "stream",
     "text": [
      "Binary /home/jovyan/.cache/weaviate-embedded did not exist. Downloading binary from https://github.com/weaviate/weaviate/releases/download/v1.22.3/weaviate-v1.22.3-Linux-amd64.tar.gz\n",
      "Started /home/jovyan/.cache/weaviate-embedded: process ID 62\n",
      "Client created? True\n"
     ]
    },
    {
     "name": "stderr",
     "output_type": "stream",
     "text": [
      "{\"action\":\"startup\",\"default_vectorizer_module\":\"none\",\"level\":\"info\",\"msg\":\"the default vectorizer modules is set to \\\"none\\\", as a result all new schema classes without an explicit vectorizer setting, will use this vectorizer\",\"time\":\"2023-12-02T23:22:37Z\"}\n",
      "{\"action\":\"startup\",\"auto_schema_enabled\":true,\"level\":\"info\",\"msg\":\"auto schema enabled setting is set to \\\"true\\\"\",\"time\":\"2023-12-02T23:22:37Z\"}\n",
      "{\"level\":\"warning\",\"msg\":\"Multiple vector spaces are present, GraphQL Explore and REST API list objects endpoint module include params has been disabled as a result.\",\"time\":\"2023-12-02T23:22:37Z\"}\n",
      "{\"action\":\"grpc_startup\",\"level\":\"info\",\"msg\":\"grpc server listening at [::]:50060\",\"time\":\"2023-12-02T23:22:37Z\"}\n",
      "{\"action\":\"restapi_management\",\"level\":\"info\",\"msg\":\"Serving weaviate at http://127.0.0.1:8079\",\"time\":\"2023-12-02T23:22:37Z\"}\n"
     ]
    }
   ],
   "source": [
    "client = weaviate.Client(\n",
    "    embedded_options=EmbeddedOptions(),\n",
    "    additional_headers={\n",
    "        \"X-OpenAI-Api-BaseURL\": os.environ['OPENAI_API_BASE'],\n",
    "        # Replace this with your actual key\n",
    "        \"X-OpenAI-Api-Key\": openai.api_key})\n",
    "print(f\"Client created? {client.is_ready()}\")"
   ]
  },
  {
   "cell_type": "code",
   "execution_count": 5,
   "id": "11eedab7-bf2a-4d04-a1da-97ce901e3ce8",
   "metadata": {
    "height": 284
   },
   "outputs": [
    {
     "name": "stderr",
     "output_type": "stream",
     "text": [
      "{\"action\":\"hnsw_vector_cache_prefill\",\"count\":1000,\"index_id\":\"question_e4I5xKPeDVfi\",\"level\":\"info\",\"limit\":1000000000000,\"msg\":\"prefilled vector cache\",\"time\":\"2023-12-02T23:23:45Z\",\"took\":103511}\n"
     ]
    }
   ],
   "source": [
    "# Uncomment the following two lines if you want to run this\n",
    "# block for a second time.\n",
    "if client.schema.exists(\"Question\"):\n",
    "    client.schema.delete_class(\"Question\")\n",
    "    \n",
    "class_obj = {\n",
    "    \"class\": \"Question\",\n",
    "    # Use OpenAI as the vectorizer\n",
    "    \"vectorizer\": \"text2vec-openai\",\n",
    "    \"moduleConfig\": {\n",
    "        \"text2vec-openai\": {\n",
    "            \"model\": \"ada\",\n",
    "            \"modelVersion\": \"002\",\n",
    "            \"type\": \"text\",\n",
    "            \"baseURL\": os.environ[\"OPENAI_API_BASE\"]}}}\n",
    "client.schema.create_class(class_obj)"
   ]
  },
  {
   "cell_type": "code",
   "execution_count": 6,
   "id": "3c01d814-74d8-43cd-a8e7-7e25a905f86a",
   "metadata": {
    "height": 169
   },
   "outputs": [
    {
     "name": "stdout",
     "output_type": "stream",
     "text": [
      "importing question: 1\n",
      "importing question: 2\n",
      "importing question: 3\n",
      "importing question: 4\n",
      "importing question: 5\n",
      "{'error': [{'message': \"update vector: unmarshal response body: invalid character 'e' after top-level value\"}]}\n",
      "importing question: 6\n",
      "importing question: 7\n",
      "importing question: 8\n",
      "importing question: 9\n",
      "importing question: 10\n"
     ]
    }
   ],
   "source": [
    "with client.batch.configure(batch_size=5) as batch:\n",
    "    for i, d in enumerate(data):  # Batch import data\n",
    "        print(f\"importing question: {i+1}\")\n",
    "        properties = {\n",
    "            \"answer\": d[\"Answer\"],\n",
    "            \"question\": d[\"Question\"],\n",
    "            \"category\": d[\"Category\"]}\n",
    "        batch.add_data_object(\n",
    "            data_object=properties, class_name=\"Question\")"
   ]
  },
  {
   "cell_type": "markdown",
   "id": "b833428c-83f9-4bdb-938a-c912ae62a060",
   "metadata": {},
   "source": [
    "## Queries"
   ]
  },
  {
   "cell_type": "markdown",
   "id": "9e2f3380-3950-4256-b210-ed526b928ec6",
   "metadata": {},
   "source": [
    "### Dense Search"
   ]
  },
  {
   "cell_type": "code",
   "execution_count": 7,
   "id": "e510be89-a1f3-40bf-9320-ba1c215a99dd",
   "metadata": {
    "height": 152
   },
   "outputs": [
    {
     "name": "stdout",
     "output_type": "stream",
     "text": [
      "{\n",
      "  \"data\": {\n",
      "    \"Get\": {\n",
      "      \"Question\": [\n",
      "        {\n",
      "          \"answer\": \"Elephant\",\n",
      "          \"question\": \"It's the only living mammal in the order Proboseidea\"\n",
      "        },\n",
      "        {\n",
      "          \"answer\": \"Antelope\",\n",
      "          \"question\": \"Weighing around a ton, the eland is the largest species of this animal in Africa\"\n",
      "        },\n",
      "        {\n",
      "          \"answer\": \"species\",\n",
      "          \"question\": \"2000 news: the Gunnison sage grouse isn't just another northern sage grouse, but a new one of this classification\"\n",
      "        }\n",
      "      ]\n",
      "    }\n",
      "  }\n",
      "}\n"
     ]
    }
   ],
   "source": [
    "response = (\n",
    "    client\n",
    "    .query\n",
    "    .get(\"Question\", [\"question\", \"answer\"])\n",
    "    .with_near_text({\"concepts\":[\"animal\"]})\n",
    "    .with_limit(3)\n",
    "    .do())\n",
    "json_print(response)"
   ]
  },
  {
   "cell_type": "markdown",
   "id": "d50f60c7-0ed2-43a6-a2ec-05fc126200e7",
   "metadata": {},
   "source": [
    "### Sparse Search - BM25"
   ]
  },
  {
   "cell_type": "code",
   "execution_count": 8,
   "id": "5b5d3067-dbfb-4006-82af-168548e7e49f",
   "metadata": {
    "height": 148
   },
   "outputs": [
    {
     "name": "stdout",
     "output_type": "stream",
     "text": [
      "{\n",
      "  \"data\": {\n",
      "    \"Get\": {\n",
      "      \"Question\": [\n",
      "        {\n",
      "          \"answer\": \"Antelope\",\n",
      "          \"question\": \"Weighing around a ton, the eland is the largest species of this animal in Africa\"\n",
      "        }\n",
      "      ]\n",
      "    }\n",
      "  }\n",
      "}\n"
     ]
    }
   ],
   "source": [
    "response = (\n",
    "    client\n",
    "    .query\n",
    "    .get(\"Question\",[\"question\",\"answer\"])\n",
    "    .with_bm25(query=\"animal\")\n",
    "    .with_limit(3)\n",
    "    .do())\n",
    "json_print(response)"
   ]
  },
  {
   "cell_type": "markdown",
   "id": "73ef743d-8b12-44ea-9322-8e7e9d3a0cd5",
   "metadata": {},
   "source": [
    "### Hybrid Search"
   ]
  },
  {
   "cell_type": "code",
   "execution_count": 9,
   "id": "baecafb4-95b3-4b1c-8d66-49aa2719a622",
   "metadata": {
    "height": 150
   },
   "outputs": [
    {
     "name": "stdout",
     "output_type": "stream",
     "text": [
      "{\n",
      "  \"data\": {\n",
      "    \"Get\": {\n",
      "      \"Question\": [\n",
      "        {\n",
      "          \"answer\": \"Antelope\",\n",
      "          \"question\": \"Weighing around a ton, the eland is the largest species of this animal in Africa\"\n",
      "        },\n",
      "        {\n",
      "          \"answer\": \"Elephant\",\n",
      "          \"question\": \"It's the only living mammal in the order Proboseidea\"\n",
      "        },\n",
      "        {\n",
      "          \"answer\": \"species\",\n",
      "          \"question\": \"2000 news: the Gunnison sage grouse isn't just another northern sage grouse, but a new one of this classification\"\n",
      "        }\n",
      "      ]\n",
      "    }\n",
      "  }\n",
      "}\n"
     ]
    }
   ],
   "source": [
    "response = (\n",
    "    client\n",
    "    .query\n",
    "    .get(\"Question\",[\"question\",\"answer\"])\n",
    "    .with_hybrid(query=\"animal\", alpha=0.5)\n",
    "    .with_limit(3)\n",
    "    .do())\n",
    "json_print(response)"
   ]
  },
  {
   "cell_type": "code",
   "execution_count": 10,
   "id": "cfaf68ae-dd85-4b04-8d81-1d9bdaf13fa8",
   "metadata": {
    "height": 155
   },
   "outputs": [
    {
     "name": "stdout",
     "output_type": "stream",
     "text": [
      "{\n",
      "  \"data\": {\n",
      "    \"Get\": {\n",
      "      \"Question\": [\n",
      "        {\n",
      "          \"answer\": \"Antelope\",\n",
      "          \"question\": \"Weighing around a ton, the eland is the largest species of this animal in Africa\"\n",
      "        }\n",
      "      ]\n",
      "    }\n",
      "  }\n",
      "}\n"
     ]
    }
   ],
   "source": [
    "response = (\n",
    "    client\n",
    "    .query\n",
    "    .get(\"Question\",[\"question\",\"answer\"])\n",
    "    .with_hybrid(query=\"animal\", alpha=0)\n",
    "    .with_limit(3)\n",
    "    .do())\n",
    "json_print(response)"
   ]
  },
  {
   "cell_type": "code",
   "execution_count": 11,
   "id": "27698f80-8349-4016-a369-074a03009df7",
   "metadata": {
    "height": 153
   },
   "outputs": [
    {
     "name": "stdout",
     "output_type": "stream",
     "text": [
      "{\n",
      "  \"data\": {\n",
      "    \"Get\": {\n",
      "      \"Question\": [\n",
      "        {\n",
      "          \"answer\": \"Elephant\",\n",
      "          \"question\": \"It's the only living mammal in the order Proboseidea\"\n",
      "        },\n",
      "        {\n",
      "          \"answer\": \"Antelope\",\n",
      "          \"question\": \"Weighing around a ton, the eland is the largest species of this animal in Africa\"\n",
      "        },\n",
      "        {\n",
      "          \"answer\": \"species\",\n",
      "          \"question\": \"2000 news: the Gunnison sage grouse isn't just another northern sage grouse, but a new one of this classification\"\n",
      "        }\n",
      "      ]\n",
      "    }\n",
      "  }\n",
      "}\n"
     ]
    }
   ],
   "source": [
    "response = (\n",
    "    client\n",
    "    .query\n",
    "    .get(\"Question\",[\"question\",\"answer\"])\n",
    "    .with_hybrid(query=\"animal\", alpha=1)\n",
    "    .with_limit(3)\n",
    "    .do())\n",
    "json_print(response)"
   ]
  },
  {
   "cell_type": "code",
   "execution_count": null,
   "id": "8a3906b1-e81b-4290-bd12-1dff9149114a",
   "metadata": {
    "height": 30
   },
   "outputs": [],
   "source": []
  }
 ],
 "metadata": {
  "kernelspec": {
   "display_name": "Python 3 (ipykernel)",
   "language": "python",
   "name": "python3"
  },
  "language_info": {
   "codemirror_mode": {
    "name": "ipython",
    "version": 3
   },
   "file_extension": ".py",
   "mimetype": "text/x-python",
   "name": "python",
   "nbconvert_exporter": "python",
   "pygments_lexer": "ipython3",
   "version": "3.9.18"
  }
 },
 "nbformat": 4,
 "nbformat_minor": 5
}
