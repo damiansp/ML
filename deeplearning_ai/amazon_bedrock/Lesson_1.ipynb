{
 "cells": [
  {
   "cell_type": "markdown",
   "id": "d2a14d50-e547-4a6a-a1a5-e4c3d8a2d365",
   "metadata": {},
   "source": [
    "# Lesson 1: Your first agent with Amazon Bedrock"
   ]
  },
  {
   "cell_type": "markdown",
   "id": "c2af05f4-fd9f-4dab-b93a-701bd4aa915f",
   "metadata": {},
   "source": [
    "## Preparation \n",
    "<p style=\"background-color:#fff6ff; padding:15px; border-width:3px; border-color:#efe6ef; border-style:solid; border-radius:6px\"> 💻 &nbsp; <b>Access <code>requirements.txt</code> and <code>helper.py</code> and other files:</b> 1) click on the <em>\"File\"</em> option on the top menu of the notebook and then 2) click on <em>\"Open\"</em>. For more help, please see the <em>\"Appendix - Tips and Help\"</em> Lesson.</p>"
   ]
  },
  {
   "cell_type": "code",
   "execution_count": null,
   "id": "2d2f9f93",
   "metadata": {},
   "outputs": [],
   "source": [
    "# Before you start, please run the following code to set up your \n",
    "# environment.\n",
    "# This code will reset the environment (if needed) and prepare the\n",
    "# resources for the lesson.\n",
    "# It does this by quickly running through all the code from the \n",
    "# previous lessons.\n",
    "!sh ./ro_shared_data/reset.sh\n",
    "\n",
    "import os\n",
    "import uuid\n",
    "\n",
    "import boto3\n",
    "\n",
    "from helper import *\n",
    "\n",
    "roleArn = os.environ['BEDROCKAGENTROLE']"
   ]
  },
  {
   "cell_type": "markdown",
   "id": "2f375ad5",
   "metadata": {},
   "source": [
    "## Start of the lesson"
   ]
  },
  {
   "cell_type": "code",
   "execution_count": null,
   "id": "caeca35a",
   "metadata": {},
   "outputs": [],
   "source": [
    "bedrock_agent = boto3.client(\n",
    "    service_name='bedrock-agent', region_name='us-west-2')"
   ]
  },
  {
   "cell_type": "code",
   "execution_count": null,
   "id": "337f1e4e",
   "metadata": {},
   "outputs": [],
   "source": [
    "create_agent_response = bedrock_agent.create_agent(\n",
    "    agentName='mugs-customer-support-agent',\n",
    "    foundationModel='anthropic.claude-3-haiku-20240307-v1:0',\n",
    "    instruction=(\n",
    "        'You are an advanced AI agent acting as a front line customer '\n",
    "        'support agent.'),\n",
    "    agentResourceRoleArn=roleArn)"
   ]
  },
  {
   "cell_type": "code",
   "execution_count": null,
   "id": "e55f7771",
   "metadata": {},
   "outputs": [],
   "source": [
    "create_agent_response"
   ]
  },
  {
   "cell_type": "code",
   "execution_count": null,
   "id": "b98f87f9",
   "metadata": {},
   "outputs": [],
   "source": [
    "agentId = create_agent_response['agent']['agentId']"
   ]
  },
  {
   "cell_type": "code",
   "execution_count": null,
   "id": "c9ccf112",
   "metadata": {},
   "outputs": [],
   "source": [
    "wait_for_agent_status(agentId=agentId, targetStatus='NOT_PREPARED')"
   ]
  },
  {
   "cell_type": "code",
   "execution_count": null,
   "id": "b0b58712",
   "metadata": {},
   "outputs": [],
   "source": [
    "bedrock_agent.prepare_agent(agentId=agentId)"
   ]
  },
  {
   "cell_type": "code",
   "execution_count": null,
   "id": "189180bd",
   "metadata": {},
   "outputs": [],
   "source": [
    "wait_for_agent_status(agentId=agentId, targetStatus='PREPARED')"
   ]
  },
  {
   "cell_type": "code",
   "execution_count": null,
   "id": "177fdca8",
   "metadata": {},
   "outputs": [],
   "source": [
    "create_agent_alias_response = bedrock_agent.create_agent_alias(\n",
    "    agentId=agentId, agentAliasName='MyAgentAlias')\n",
    "agentAliasId = create_agent_alias_response['agentAlias']['agentAliasId']\n",
    "wait_for_agent_alias_status(\n",
    "    agentId=agentId, agentAliasId=agentAliasId, targetStatus='PREPARED')"
   ]
  },
  {
   "cell_type": "code",
   "execution_count": null,
   "id": "000e1256",
   "metadata": {},
   "outputs": [],
   "source": [
    "bedrock_agent_runtime = boto3.client(\n",
    "    service_name='bedrock-agent-runtime', region_name='us-west-2')"
   ]
  },
  {
   "cell_type": "code",
   "execution_count": null,
   "id": "3b3ca486",
   "metadata": {},
   "outputs": [],
   "source": [
    "message = (\n",
    "    'Hello, I bought a mug from your store yesterday, and it broke. I '\n",
    "    'want to return it.'')\n",
    "sessionId = str(uuid.uuid4())\n",
    "invoke_agent_response = bedrock_agent_runtime.invoke_agent(\n",
    "    agentId=agentId,\n",
    "    agentAliasId=agentAliasId,\n",
    "    inputText=message,\n",
    "    sessionId=sessionId,\n",
    "    endSession=False,\n",
    "    enableTrace=True)"
   ]
  },
  {
   "cell_type": "code",
   "execution_count": null,
   "id": "25953b09",
   "metadata": {},
   "outputs": [],
   "source": [
    "event_stream = invoke_agent_response[\"completion\"]"
   ]
  },
  {
   "cell_type": "code",
   "execution_count": null,
   "id": "36116ce1",
   "metadata": {},
   "outputs": [],
   "source": [
    "for event in event_stream:\n",
    "    print(event)"
   ]
  },
  {
   "cell_type": "code",
   "execution_count": null,
   "id": "fd9cbdfe",
   "metadata": {},
   "outputs": [],
   "source": [
    "invoke_agent_and_print(\n",
    "    agentAliasId=agentAliasId,\n",
    "    agentId=agentId,\n",
    "    sessionId=sessionId,\n",
    "    inputText=message,\n",
    "    enableTrace=True)"
   ]
  },
  {
   "cell_type": "code",
   "execution_count": null,
   "id": "70a5ed6d",
   "metadata": {},
   "outputs": [],
   "source": []
  }
 ],
 "metadata": {
  "kernelspec": {
   "display_name": "Python 3 (ipykernel)",
   "language": "python",
   "name": "python3"
  },
  "language_info": {
   "codemirror_mode": {
    "name": "ipython",
    "version": 3
   },
   "file_extension": ".py",
   "mimetype": "text/x-python",
   "name": "python",
   "nbconvert_exporter": "python",
   "pygments_lexer": "ipython3",
   "version": "3.11.3"
  }
 },
 "nbformat": 4,
 "nbformat_minor": 5
}
