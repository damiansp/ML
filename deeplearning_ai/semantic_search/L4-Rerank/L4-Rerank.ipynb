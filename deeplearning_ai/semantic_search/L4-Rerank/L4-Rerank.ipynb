{
 "cells": [
  {
   "cell_type": "code",
   "execution_count": null,
   "id": "5561498a",
   "metadata": {},
   "outputs": [],
   "source": [
    "import os\n",
    "\n",
    "import cohere\n",
    "from dotenv import load_dotenv, find_dotenv\n",
    "import weaviate\n",
    "\n",
    "from utils import dense_retrieval, keyword_search, print_result"
   ]
  },
  {
   "cell_type": "code",
   "execution_count": null,
   "id": "33e0cc5c",
   "metadata": {},
   "outputs": [],
   "source": [
    "co = cohere.Client(os.environ['COHERE_API_KEY'])\n",
    "_ = load_dotenv(find_dotenv()) # read local .env file\n",
    "auth_config = weaviate.auth.AuthApiKey(\n",
    "    api_key=os.environ['WEAVIATE_API_KEY'])"
   ]
  },
  {
   "cell_type": "code",
   "execution_count": null,
   "id": "dc50fddd",
   "metadata": {},
   "outputs": [],
   "source": [
    "client = weaviate.Client(\n",
    "    url=os.environ['WEAVIATE_API_URL'],\n",
    "    auth_client_secret=auth_config,\n",
    "    additional_headers={\n",
    "        \"X-Cohere-Api-Key\": os.environ['COHERE_API_KEY']})"
   ]
  },
  {
   "cell_type": "code",
   "execution_count": null,
   "id": "f271ede0",
   "metadata": {},
   "outputs": [],
   "source": [
    "query = \"What is the capital of Canada?\"\n",
    "dense_retrieval_results = dense_retrieval(query, client)\n",
    "print_result(dense_retrieval_results)"
   ]
  },
  {
   "cell_type": "code",
   "execution_count": null,
   "id": "0f87d689",
   "metadata": {},
   "outputs": [],
   "source": [
    "query_1 = \"What is the capital of Canada?\"\n",
    "results = keyword_search(\n",
    "    query_1,\n",
    "    client,\n",
    "    properties=[\n",
    "        \"text\", \"title\", \"url\", \"views\", \"lang\", \n",
    "        \"_additional {distance}\"],\n",
    "    num_results=3)\n",
    "for i, result in enumerate(results):\n",
    "    print(f\"i:{i}\")\n",
    "    print(result.get('title'))\n",
    "    print(result.get('text'))"
   ]
  },
  {
   "cell_type": "code",
   "execution_count": null,
   "id": "496b742b",
   "metadata": {},
   "outputs": [],
   "source": [
    "results = keyword_search(\n",
    "    query_1,\n",
    "    client,\n",
    "    properties=[\n",
    "        \"text\", \"title\", \"url\", \"views\", \"lang\",\n",
    "        \"_additional {distance}\"],\n",
    "    num_results=500)\n",
    "\n",
    "for i, result in enumerate(results):\n",
    "    print(f\"i:{i}\")\n",
    "    print(result.get('title'))\n",
    "    #print(result.get('text'))"
   ]
  },
  {
   "cell_type": "code",
   "execution_count": null,
   "id": "1cca6ae2",
   "metadata": {},
   "outputs": [],
   "source": [
    "def rerank_responses(query, responses, num_responses=10):\n",
    "    reranked_responses = co.rerank(\n",
    "        model='rerank-english-v2.0',\n",
    "        query=query,\n",
    "        documents=responses,\n",
    "        top_n=num_responses)\n",
    "    return reranked_responses"
   ]
  },
  {
   "cell_type": "code",
   "execution_count": null,
   "id": "52cf6fa9",
   "metadata": {},
   "outputs": [],
   "source": [
    "texts = [result.get('text') for result in results]\n",
    "reranked_text = rerank_responses(query_1, texts)\n",
    "for i, rerank_result in enumerate(reranked_text):\n",
    "    print(f\"i:{i}\")\n",
    "    print(f\"{rerank_result}\")\n",
    "    print()"
   ]
  },
  {
   "cell_type": "code",
   "execution_count": null,
   "id": "20d41b96",
   "metadata": {},
   "outputs": [],
   "source": [
    "query_2 = \"Who is the tallest person in history?\"\n",
    "results = dense_retrieval(query_2, client)\n",
    "for i, result in enumerate(results):\n",
    "    print(f\"i:{i}\")\n",
    "    print(result.get('title'))\n",
    "    print(result.get('text'))\n",
    "    print()"
   ]
  },
  {
   "cell_type": "code",
   "execution_count": null,
   "id": "c7a3b955",
   "metadata": {},
   "outputs": [],
   "source": [
    "texts = [result.get('text') for result in results]\n",
    "reranked_text = rerank_responses(query_2, texts)\n",
    "for i, rerank_result in enumerate(reranked_text):\n",
    "    print(f\"i:{i}\")\n",
    "    print(f\"{rerank_result}\")\n",
    "    print()"
   ]
  },
  {
   "cell_type": "code",
   "execution_count": null,
   "id": "aaf3f2cf",
   "metadata": {},
   "outputs": [],
   "source": []
  }
 ],
 "metadata": {
  "kernelspec": {
   "display_name": "Python 3 (ipykernel)",
   "language": "python",
   "name": "python3"
  },
  "language_info": {
   "codemirror_mode": {
    "name": "ipython",
    "version": 3
   },
   "file_extension": ".py",
   "mimetype": "text/x-python",
   "name": "python",
   "nbconvert_exporter": "python",
   "pygments_lexer": "ipython3",
   "version": "3.11.3"
  }
 },
 "nbformat": 4,
 "nbformat_minor": 5
}
