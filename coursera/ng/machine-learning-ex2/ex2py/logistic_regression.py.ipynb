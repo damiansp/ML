{
 "cells": [
  {
   "cell_type": "code",
   "execution_count": 1,
   "metadata": {},
   "outputs": [],
   "source": [
    "import matplotlib.pyplot as plt\n",
    "import numpy as np\n",
    "import pandas as pd\n",
    "\n",
    "%matplotlib inline"
   ]
  },
  {
   "cell_type": "code",
   "execution_count": 2,
   "metadata": {},
   "outputs": [
    {
     "name": "stdout",
     "output_type": "stream",
     "text": [
      "costFunction.m         ex2data2.txt           predict.m\r\n",
      "costFunctionReg.m      \u001b[34mlib\u001b[m\u001b[m                    sigmoid.m\r\n",
      "ex2.m                  mapFeature.m           submit.m\r\n",
      "ex2_reg.m              plotData.m\r\n",
      "ex2data1.txt           plotDecisionBoundary.m\r\n"
     ]
    }
   ],
   "source": [
    "!ls ../ex2"
   ]
  },
  {
   "cell_type": "code",
   "execution_count": 3,
   "metadata": {},
   "outputs": [
    {
     "name": "stdout",
     "output_type": "stream",
     "text": [
      "(100, 3)\n"
     ]
    },
    {
     "data": {
      "text/html": [
       "<div>\n",
       "<style scoped>\n",
       "    .dataframe tbody tr th:only-of-type {\n",
       "        vertical-align: middle;\n",
       "    }\n",
       "\n",
       "    .dataframe tbody tr th {\n",
       "        vertical-align: top;\n",
       "    }\n",
       "\n",
       "    .dataframe thead th {\n",
       "        text-align: right;\n",
       "    }\n",
       "</style>\n",
       "<table border=\"1\" class=\"dataframe\">\n",
       "  <thead>\n",
       "    <tr style=\"text-align: right;\">\n",
       "      <th></th>\n",
       "      <th>intercept</th>\n",
       "      <th>exam1</th>\n",
       "      <th>exam2</th>\n",
       "    </tr>\n",
       "  </thead>\n",
       "  <tbody>\n",
       "    <tr>\n",
       "      <th>0</th>\n",
       "      <td>1</td>\n",
       "      <td>34.623660</td>\n",
       "      <td>78.024693</td>\n",
       "    </tr>\n",
       "    <tr>\n",
       "      <th>1</th>\n",
       "      <td>1</td>\n",
       "      <td>30.286711</td>\n",
       "      <td>43.894998</td>\n",
       "    </tr>\n",
       "    <tr>\n",
       "      <th>2</th>\n",
       "      <td>1</td>\n",
       "      <td>35.847409</td>\n",
       "      <td>72.902198</td>\n",
       "    </tr>\n",
       "    <tr>\n",
       "      <th>3</th>\n",
       "      <td>1</td>\n",
       "      <td>60.182599</td>\n",
       "      <td>86.308552</td>\n",
       "    </tr>\n",
       "    <tr>\n",
       "      <th>4</th>\n",
       "      <td>1</td>\n",
       "      <td>79.032736</td>\n",
       "      <td>75.344376</td>\n",
       "    </tr>\n",
       "  </tbody>\n",
       "</table>\n",
       "</div>"
      ],
      "text/plain": [
       "   intercept      exam1      exam2\n",
       "0          1  34.623660  78.024693\n",
       "1          1  30.286711  43.894998\n",
       "2          1  35.847409  72.902198\n",
       "3          1  60.182599  86.308552\n",
       "4          1  79.032736  75.344376"
      ]
     },
     "execution_count": 3,
     "metadata": {},
     "output_type": "execute_result"
    }
   ],
   "source": [
    "df = pd.read_csv('../ex2/ex2data1.txt', \n",
    "                 header=None, \n",
    "                 names=['exam1', 'exam2', 'admitted'])\n",
    "df['intercept'] = 1\n",
    "X = df[['intercept', 'exam1', 'exam2']]\n",
    "y = df.admitted\n",
    "print(X.shape)\n",
    "X.head()"
   ]
  },
  {
   "cell_type": "markdown",
   "metadata": {},
   "source": [
    "# 1.1 Visualization of the data"
   ]
  },
  {
   "cell_type": "code",
   "execution_count": 4,
   "metadata": {},
   "outputs": [
    {
     "data": {
      "image/png": "[encoded data removed]",
      "text/plain": [
       "<Figure size 432x288 with 1 Axes>"
      ]
     },
     "metadata": {
      "needs_background": "light"
     },
     "output_type": "display_data"
    }
   ],
   "source": [
    "plt.scatter(X.exam1[y == 0], X.exam2[y == 0], c='k', label='Not admitted')\n",
    "plt.scatter(X.exam1[y == 1], X.exam2[y == 1], c='r', label='Admitted')\n",
    "plt.xlabel('Exam 1 score')\n",
    "plt.ylabel('Exam 2 score')\n",
    "plt.legend();"
   ]
  },
  {
   "cell_type": "code",
   "execution_count": 5,
   "metadata": {},
   "outputs": [],
   "source": [
    "X = X.values"
   ]
  },
  {
   "cell_type": "markdown",
   "metadata": {},
   "source": [
    "# 1.2 Implementation\n",
    "## 1.2.1 Sigmoid Function"
   ]
  },
  {
   "cell_type": "code",
   "execution_count": 6,
   "metadata": {},
   "outputs": [],
   "source": [
    "def sigmoid(z):\n",
    "    return 1 / (1 + np.exp(-z))"
   ]
  },
  {
   "cell_type": "code",
   "execution_count": 7,
   "metadata": {},
   "outputs": [
    {
     "data": {
      "image/png": "[encoded data removed]",
      "text/plain": [
       "<Figure size 432x288 with 1 Axes>"
      ]
     },
     "metadata": {
      "needs_background": "light"
     },
     "output_type": "display_data"
    }
   ],
   "source": [
    "# Test\n",
    "z = np.linspace(-10, 10, 100)\n",
    "sig = [sigmoid(x) for x in z]\n",
    "plt.plot(z, sig);"
   ]
  },
  {
   "cell_type": "code",
   "execution_count": 154,
   "metadata": {},
   "outputs": [],
   "source": [
    "def inverse_sigmoid(s):\n",
    "    return - np.log((1 - s) / s)"
   ]
  },
  {
   "cell_type": "code",
   "execution_count": 8,
   "metadata": {},
   "outputs": [],
   "source": [
    "def predict(theta, X):\n",
    "    return sigmoid(X @ theta).reshape(-1)"
   ]
  },
  {
   "cell_type": "code",
   "execution_count": 89,
   "metadata": {},
   "outputs": [],
   "source": [
    "def log_loss(theta, X, y):\n",
    "    m = X.shape[0]\n",
    "    preds = predict(theta, X)\n",
    "    loss = ((-y@np.log2(preds)) - ((1 - y)@np.log2(1-preds))) / m\n",
    "    return loss"
   ]
  },
  {
   "cell_type": "code",
   "execution_count": 129,
   "metadata": {},
   "outputs": [
    {
     "data": {
      "text/plain": [
       "0.00096"
      ]
     },
     "execution_count": 129,
     "metadata": {},
     "output_type": "execute_result"
    }
   ],
   "source": [
    "0.001 * 0.96"
   ]
  },
  {
   "cell_type": "code",
   "execution_count": 135,
   "metadata": {
    "scrolled": false
   },
   "outputs": [
    {
     "name": "stdout",
     "output_type": "stream",
     "text": [
      "theta: [-7.4234, 0.0656, 0.0585]\tloss: 0.457520156\n",
      "theta: [-7.4239, 0.0654, 0.0587]\tloss: 0.457495565\n",
      "theta: [-7.4239, 0.0654, 0.0587]\tloss: 0.457495565\n",
      "theta: [-7.4239, 0.0654, 0.0587]\tloss: 0.457495565\n",
      "theta: [-7.4239, 0.0654, 0.0587]\tloss: 0.457495565\n",
      "theta: [-7.4239, 0.0654, 0.0587]\tloss: 0.457495565\n",
      "theta: [-7.4239, 0.0654, 0.0587]\tloss: 0.457495565\n",
      "theta: [-7.4239, 0.0654, 0.0587]\tloss: 0.457495565\n",
      "theta: [-7.4239, 0.0654, 0.0587]\tloss: 0.457495565\n",
      "theta: [-7.4239, 0.0654, 0.0587]\tloss: 0.457495565\n",
      "theta: [-7.4239, 0.0654, 0.0587]\tloss: 0.457495565\n",
      "theta: [-7.4239, 0.0654, 0.0587]\tloss: 0.457495565\n",
      "theta: [-7.4239, 0.0654, 0.0587]\tloss: 0.457495565\n",
      "theta: [-7.4239, 0.0654, 0.0587]\tloss: 0.457495565\n",
      "theta: [-7.4239, 0.0654, 0.0587]\tloss: 0.457495565\n",
      "theta: [-7.4239, 0.0654, 0.0587]\tloss: 0.457495565\n",
      "theta: [-7.4239, 0.0654, 0.0587]\tloss: 0.457495565\n",
      "theta: [-7.4239, 0.0654, 0.0587]\tloss: 0.457495565\n",
      "theta: [-7.4239, 0.0654, 0.0587]\tloss: 0.457495565\n",
      "theta: [-7.4239, 0.0654, 0.0587]\tloss: 0.457495565\n",
      "theta: [-7.4239, 0.0654, 0.0587]\tloss: 0.457495565\n",
      "theta: [-7.4239, 0.0654, 0.0587]\tloss: 0.457495565\n",
      "theta: [-7.4239, 0.0654, 0.0587]\tloss: 0.457495565\n",
      "theta: [-7.4239, 0.0654, 0.0587]\tloss: 0.457495565\n",
      "theta: [-7.4239, 0.0654, 0.0587]\tloss: 0.457495565\n",
      "theta: [-7.4239, 0.0654, 0.0587]\tloss: 0.457495565\n",
      "theta: [-7.4239, 0.0654, 0.0587]\tloss: 0.457495565\n",
      "theta: [-7.4239, 0.0654, 0.0587]\tloss: 0.457495565\n",
      "theta: [-7.4239, 0.0654, 0.0587]\tloss: 0.457495565\n",
      "theta: [-7.4239, 0.0654, 0.0587]\tloss: 0.457495565\n",
      "theta: [-7.4239, 0.0654, 0.0587]\tloss: 0.457495565\n",
      "theta: [-7.4239, 0.0654, 0.0587]\tloss: 0.457495565\n",
      "theta: [-7.4239, 0.0654, 0.0587]\tloss: 0.457495565\n",
      "theta: [-7.4239, 0.0654, 0.0587]\tloss: 0.457495565\n",
      "theta: [-7.4239, 0.0654, 0.0587]\tloss: 0.457495565\n",
      "theta: [-7.4239, 0.0654, 0.0587]\tloss: 0.457495565\n",
      "theta: [-7.4239, 0.0654, 0.0587]\tloss: 0.457495565\n",
      "theta: [-7.4239, 0.0654, 0.0587]\tloss: 0.457495565\n",
      "theta: [-7.4239, 0.0654, 0.0587]\tloss: 0.457495565\n",
      "theta: [-7.4239, 0.0654, 0.0587]\tloss: 0.457495565\n",
      "theta: [-7.4239, 0.0654, 0.0587]\tloss: 0.457495565\n",
      "theta: [-7.4239, 0.0654, 0.0587]\tloss: 0.457495565\n",
      "theta: [-7.4239, 0.0654, 0.0587]\tloss: 0.457495565\n",
      "theta: [-7.4239, 0.0654, 0.0587]\tloss: 0.457495565\n",
      "theta: [-7.4239, 0.0654, 0.0587]\tloss: 0.457495565\n",
      "theta: [-7.4239, 0.0654, 0.0587]\tloss: 0.457495565\n",
      "theta: [-7.4239, 0.0654, 0.0587]\tloss: 0.457495565\n",
      "theta: [-7.4239, 0.0654, 0.0587]\tloss: 0.457495565\n",
      "theta: [-7.4239, 0.0654, 0.0587]\tloss: 0.457495565\n",
      "theta: [-7.4239, 0.0654, 0.0587]\tloss: 0.457495565\n",
      "theta: [-7.4239, 0.0654, 0.0587]\tloss: 0.457495565\n",
      "theta: [-7.4239, 0.0654, 0.0587]\tloss: 0.457495565\n",
      "theta: [-7.4239, 0.0654, 0.0587]\tloss: 0.457495565\n",
      "theta: [-7.4239, 0.0654, 0.0587]\tloss: 0.457495565\n",
      "theta: [-7.4239, 0.0654, 0.0587]\tloss: 0.457495565\n",
      "theta: [-7.4239, 0.0654, 0.0587]\tloss: 0.457495565\n",
      "theta: [-7.4239, 0.0654, 0.0587]\tloss: 0.457495565\n",
      "theta: [-7.4239, 0.0654, 0.0587]\tloss: 0.457495565\n",
      "theta: [-7.4239, 0.0654, 0.0587]\tloss: 0.457495565\n",
      "theta: [-7.4239, 0.0654, 0.0587]\tloss: 0.457495565\n",
      "theta: [-7.4239, 0.0654, 0.0587]\tloss: 0.457495565\n",
      "theta: [-7.4239, 0.0654, 0.0587]\tloss: 0.457495565\n",
      "theta: [-7.4239, 0.0654, 0.0587]\tloss: 0.457495565\n",
      "theta: [-7.4239, 0.0654, 0.0587]\tloss: 0.457495565\n",
      "theta: [-7.4239, 0.0654, 0.0587]\tloss: 0.457495565\n",
      "theta: [-7.4239, 0.0654, 0.0587]\tloss: 0.457495565\n",
      "theta: [-7.4239, 0.0654, 0.0587]\tloss: 0.457495565\n",
      "theta: [-7.4239, 0.0654, 0.0587]\tloss: 0.457495565\n",
      "theta: [-7.4239, 0.0654, 0.0587]\tloss: 0.457495565\n",
      "theta: [-7.4239, 0.0654, 0.0587]\tloss: 0.457495565\n",
      "theta: [-7.4239, 0.0654, 0.0587]\tloss: 0.457495565\n",
      "theta: [-7.4239, 0.0654, 0.0587]\tloss: 0.457495565\n",
      "theta: [-7.4239, 0.0654, 0.0587]\tloss: 0.457495565\n",
      "theta: [-7.4239, 0.0654, 0.0587]\tloss: 0.457495565\n",
      "theta: [-7.4239, 0.0654, 0.0587]\tloss: 0.457495565\n",
      "theta: [-7.4239, 0.0654, 0.0587]\tloss: 0.457495565\n",
      "theta: [-7.4239, 0.0654, 0.0587]\tloss: 0.457495565\n",
      "theta: [-7.4239, 0.0654, 0.0587]\tloss: 0.457495565\n",
      "theta: [-7.4239, 0.0654, 0.0587]\tloss: 0.457495565\n",
      "theta: [-7.4239, 0.0654, 0.0587]\tloss: 0.457495565\n",
      "theta: [-7.4239, 0.0654, 0.0587]\tloss: 0.457495565\n",
      "theta: [-7.4239, 0.0654, 0.0587]\tloss: 0.457495565\n",
      "theta: [-7.4239, 0.0654, 0.0587]\tloss: 0.457495565\n",
      "theta: [-7.4239, 0.0654, 0.0587]\tloss: 0.457495565\n",
      "theta: [-7.4239, 0.0654, 0.0587]\tloss: 0.457495565\n",
      "theta: [-7.4239, 0.0654, 0.0587]\tloss: 0.457495565\n",
      "theta: [-7.4239, 0.0654, 0.0587]\tloss: 0.457495565\n",
      "theta: [-7.4239, 0.0654, 0.0587]\tloss: 0.457495565\n",
      "theta: [-7.4239, 0.0654, 0.0587]\tloss: 0.457495565\n",
      "theta: [-7.4239, 0.0654, 0.0587]\tloss: 0.457495565\n",
      "theta: [-7.4239, 0.0654, 0.0587]\tloss: 0.457495565\n",
      "theta: [-7.4239, 0.0654, 0.0587]\tloss: 0.457495565\n",
      "theta: [-7.4239, 0.0654, 0.0587]\tloss: 0.457495565\n",
      "theta: [-7.4239, 0.0654, 0.0587]\tloss: 0.457495565\n",
      "theta: [-7.4239, 0.0654, 0.0587]\tloss: 0.457495565\n",
      "theta: [-7.4239, 0.0654, 0.0587]\tloss: 0.457495565\n",
      "theta: [-7.4239, 0.0654, 0.0587]\tloss: 0.457495565\n",
      "theta: [-7.4239, 0.0654, 0.0587]\tloss: 0.457495565\n",
      "theta: [-7.4239, 0.0654, 0.0587]\tloss: 0.457495565\n",
      "theta: [-7.4239, 0.0654, 0.0587]\tloss: 0.457495565\n"
     ]
    },
    {
     "data": {
      "image/png": "[encoded data removed]",
      "text/plain": [
       "<Figure size 432x288 with 1 Axes>"
      ]
     },
     "metadata": {
      "needs_background": "light"
     },
     "output_type": "display_data"
    }
   ],
   "source": [
    "ITERS = 50000\n",
    "ALPHA = 0.001\n",
    "\n",
    "#theta = np.random.rand(3).reshape([3, 1]) / 3.\n",
    "theta = np.array([[-7.4234], [0.0656], [0.0585]])\n",
    "\n",
    "losses = []\n",
    "for i in range(ITERS):\n",
    "    loss = log_loss(theta, X, y)\n",
    "    losses.append(loss)\n",
    "    if i % 500 == 0:\n",
    "        print(f'theta: [{theta[0, 0]:.4f}, {theta[1, 0]:.4f}, '\n",
    "              f'{theta[2, 0]:.4f}]\\tloss: {loss:.9f}')\n",
    "    grad = get_grad(theta, X, y)\n",
    "    theta -= (ALPHA * grad)\n",
    "    ALPHA *= 0.96\n",
    "    \n",
    "plt.plot(losses);"
   ]
  },
  {
   "cell_type": "code",
   "execution_count": 136,
   "metadata": {},
   "outputs": [],
   "source": [
    "def get_grad(theta, X, y):\n",
    "    m = X.shape[0]\n",
    "    preds = predict(theta, X)\n",
    "    grad = ((preds - y) @ X) / m  \n",
    "    return grad.reshape(theta.shape)"
   ]
  },
  {
   "cell_type": "code",
   "execution_count": 137,
   "metadata": {},
   "outputs": [
    {
     "data": {
      "text/plain": [
       "array([[-7.42393214],\n",
       "       [ 0.06535193],\n",
       "       [ 0.05872828]])"
      ]
     },
     "execution_count": 137,
     "metadata": {},
     "output_type": "execute_result"
    }
   ],
   "source": [
    "theta"
   ]
  },
  {
   "cell_type": "code",
   "execution_count": 138,
   "metadata": {},
   "outputs": [
    {
     "data": {
      "text/plain": [
       "array([0.35917358, 0.05382145, 0.31006535, 0.82890265, 0.89714115,\n",
       "       0.23680273, 0.90356307, 0.55307851, 0.93603582, 0.65713597,\n",
       "       0.7475731 , 0.3264319 , 0.92031591, 0.94521669, 0.40745075,\n",
       "       0.79284737, 0.54668668, 0.43976361, 0.93409632, 0.59888816,\n",
       "       0.37631657, 0.90895172, 0.22232503, 0.06967074, 0.84802395,\n",
       "       0.68002877, 0.61038913, 0.71909351, 0.39370759, 0.25500009,\n",
       "       0.70332987, 0.81876211, 0.42282232, 0.51374859, 0.3509619 ,\n",
       "       0.3128152 , 0.64541458, 0.82079596, 0.47632401, 0.31618   ,\n",
       "       0.79675354, 0.21359342, 0.9307891 , 0.58527477, 0.19832846,\n",
       "       0.4255312 , 0.85304311, 0.9830269 , 0.91017139, 0.97744525,\n",
       "       0.89623637, 0.93376943, 0.73918288, 0.16510629, 0.22922764,\n",
       "       0.33830205, 0.95264277, 0.57917545, 0.82186586, 0.86709895,\n",
       "       0.92688869, 0.08655189, 0.19125474, 0.07262695, 0.35382327,\n",
       "       0.34056422, 0.72073714, 0.23686701, 0.96203226, 0.62715118,\n",
       "       0.06053574, 0.79311877, 0.9505149 , 0.69420474, 0.70609109,\n",
       "       0.96610919, 0.70285175, 0.58073441, 0.27356714, 0.61268295,\n",
       "       0.92317007, 0.81110926, 0.70810323, 0.45311302, 0.95969437,\n",
       "       0.88868953, 0.4890515 , 0.94370242, 0.96742151, 0.3931715 ,\n",
       "       0.9629144 , 0.9740754 , 0.15328574, 0.91887197, 0.7524047 ,\n",
       "       0.70548111, 0.61144999, 0.95712139, 0.50149652, 0.93823995])"
      ]
     },
     "execution_count": 138,
     "metadata": {},
     "output_type": "execute_result"
    }
   ],
   "source": [
    "preds = predict(theta, X)\n",
    "preds"
   ]
  },
  {
   "cell_type": "code",
   "execution_count": 139,
   "metadata": {},
   "outputs": [],
   "source": [
    "def pred_absolute(thresh, preds):\n",
    "    preds = map(lambda x: 1 if x >= thresh else 0, preds)\n",
    "    return list(preds)"
   ]
  },
  {
   "cell_type": "code",
   "execution_count": 140,
   "metadata": {},
   "outputs": [],
   "source": [
    "def get_accuracy(y, preds):\n",
    "    return (y == preds).sum() / len(y)"
   ]
  },
  {
   "cell_type": "code",
   "execution_count": 141,
   "metadata": {},
   "outputs": [],
   "source": [
    "def optimize_threshold(y, preds):\n",
    "    best_acc = 0\n",
    "    accs = []\n",
    "    best_threshold = 0.5\n",
    "    thresholds = np.linspace(0.2, 0.8, 100)\n",
    "    for thresh in thresholds:\n",
    "        abs_preds = pred_absolute(thresh, preds)\n",
    "        acc = get_accuracy(y, abs_preds)\n",
    "        if acc > best_acc:\n",
    "            best_acc = acc\n",
    "            best_threshold = thresh\n",
    "        accs.append(acc)\n",
    "    plt.plot(thresholds, accs)\n",
    "    return best_threshold"
   ]
  },
  {
   "cell_type": "code",
   "execution_count": 142,
   "metadata": {},
   "outputs": [
    {
     "data": {
      "text/plain": [
       "0.49090909090909096"
      ]
     },
     "execution_count": 142,
     "metadata": {},
     "output_type": "execute_result"
    },
    {
     "data": {
      "image/png": "[encoded data removed]",
      "text/plain": [
       "<Figure size 432x288 with 1 Axes>"
      ]
     },
     "metadata": {
      "needs_background": "light"
     },
     "output_type": "display_data"
    }
   ],
   "source": [
    "optimize_threshold(y, preds)"
   ]
  },
  {
   "cell_type": "code",
   "execution_count": 166,
   "metadata": {},
   "outputs": [],
   "source": [
    "def e2_from_e1(e1):\n",
    "    e2 = (-1. / theta[2][0]) * (theta[1][0] * e1 + theta[0][0])\n",
    "    return e2"
   ]
  },
  {
   "cell_type": "code",
   "execution_count": 167,
   "metadata": {},
   "outputs": [],
   "source": [
    "e1s = np.linspace(30, 100, 100)\n",
    "e2s = [e2_from_e1(e1) for e1 in e1s]"
   ]
  },
  {
   "cell_type": "code",
   "execution_count": 168,
   "metadata": {},
   "outputs": [
    {
     "data": {
      "image/png": "[encoded data removed]",
      "text/plain": [
       "<Figure size 432x288 with 1 Axes>"
      ]
     },
     "metadata": {
      "needs_background": "light"
     },
     "output_type": "display_data"
    }
   ],
   "source": [
    "plt.scatter(\n",
    "    df.exam1[y == 0], df.exam2[y == 0], c='k', label='Not admitted')\n",
    "plt.scatter(df.exam1[y == 1], df.exam2[y == 1], c='r', label='Admitted')\n",
    "plt.xlabel('Exam 1 score')\n",
    "plt.ylabel('Exam 2 score')\n",
    "plt.plot(e1s, [e for e in e2s])\n",
    "plt.legend();"
   ]
  },
  {
   "cell_type": "code",
   "execution_count": null,
   "metadata": {},
   "outputs": [],
   "source": []
  }
 ],
 "metadata": {
  "kernelspec": {
   "display_name": "Python 3",
   "language": "python",
   "name": "python3"
  },
  "language_info": {
   "codemirror_mode": {
    "name": "ipython",
    "version": 3
   },
   "file_extension": ".py",
   "mimetype": "text/x-python",
   "name": "python",
   "nbconvert_exporter": "python",
   "pygments_lexer": "ipython3",
   "version": "3.7.5"
  }
 },
 "nbformat": 4,
 "nbformat_minor": 2
}
