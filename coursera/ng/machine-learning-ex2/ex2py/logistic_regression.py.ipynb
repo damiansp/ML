{
 "cells": [
  {
   "cell_type": "code",
   "execution_count": 1,
   "metadata": {},
   "outputs": [],
   "source": [
    "import matplotlib.pyplot as plt\n",
    "import numpy as np\n",
    "import pandas as pd\n",
    "\n",
    "%matplotlib inline"
   ]
  },
  {
   "cell_type": "code",
   "execution_count": 2,
   "metadata": {},
   "outputs": [
    {
     "name": "stdout",
     "output_type": "stream",
     "text": [
      "costFunction.m         ex2data2.txt           predict.m\r\n",
      "costFunctionReg.m      \u001b[34mlib\u001b[m\u001b[m                    sigmoid.m\r\n",
      "ex2.m                  mapFeature.m           submit.m\r\n",
      "ex2_reg.m              plotData.m\r\n",
      "ex2data1.txt           plotDecisionBoundary.m\r\n"
     ]
    }
   ],
   "source": [
    "!ls ../ex2"
   ]
  },
  {
   "cell_type": "code",
   "execution_count": 16,
   "metadata": {},
   "outputs": [
    {
     "name": "stdout",
     "output_type": "stream",
     "text": [
      "(100, 3)\n"
     ]
    },
    {
     "data": {
      "text/html": [
       "<div>\n",
       "<style scoped>\n",
       "    .dataframe tbody tr th:only-of-type {\n",
       "        vertical-align: middle;\n",
       "    }\n",
       "\n",
       "    .dataframe tbody tr th {\n",
       "        vertical-align: top;\n",
       "    }\n",
       "\n",
       "    .dataframe thead th {\n",
       "        text-align: right;\n",
       "    }\n",
       "</style>\n",
       "<table border=\"1\" class=\"dataframe\">\n",
       "  <thead>\n",
       "    <tr style=\"text-align: right;\">\n",
       "      <th></th>\n",
       "      <th>intercept</th>\n",
       "      <th>exam1</th>\n",
       "      <th>exam2</th>\n",
       "    </tr>\n",
       "  </thead>\n",
       "  <tbody>\n",
       "    <tr>\n",
       "      <th>0</th>\n",
       "      <td>1</td>\n",
       "      <td>34.623660</td>\n",
       "      <td>78.024693</td>\n",
       "    </tr>\n",
       "    <tr>\n",
       "      <th>1</th>\n",
       "      <td>1</td>\n",
       "      <td>30.286711</td>\n",
       "      <td>43.894998</td>\n",
       "    </tr>\n",
       "    <tr>\n",
       "      <th>2</th>\n",
       "      <td>1</td>\n",
       "      <td>35.847409</td>\n",
       "      <td>72.902198</td>\n",
       "    </tr>\n",
       "    <tr>\n",
       "      <th>3</th>\n",
       "      <td>1</td>\n",
       "      <td>60.182599</td>\n",
       "      <td>86.308552</td>\n",
       "    </tr>\n",
       "    <tr>\n",
       "      <th>4</th>\n",
       "      <td>1</td>\n",
       "      <td>79.032736</td>\n",
       "      <td>75.344376</td>\n",
       "    </tr>\n",
       "  </tbody>\n",
       "</table>\n",
       "</div>"
      ],
      "text/plain": [
       "   intercept      exam1      exam2\n",
       "0          1  34.623660  78.024693\n",
       "1          1  30.286711  43.894998\n",
       "2          1  35.847409  72.902198\n",
       "3          1  60.182599  86.308552\n",
       "4          1  79.032736  75.344376"
      ]
     },
     "execution_count": 16,
     "metadata": {},
     "output_type": "execute_result"
    }
   ],
   "source": [
    "df = pd.read_csv('../ex2/ex2data1.txt', \n",
    "                 header=None, \n",
    "                 names=['exam1', 'exam2', 'admitted'])\n",
    "df['intercept'] = 1\n",
    "X = df[['intercept', 'exam1', 'exam2']]\n",
    "y = df.admitted\n",
    "print(X.shape)\n",
    "X.head()"
   ]
  },
  {
   "cell_type": "markdown",
   "metadata": {},
   "source": [
    "# 1.1 Visualization of the data"
   ]
  },
  {
   "cell_type": "code",
   "execution_count": 17,
   "metadata": {},
   "outputs": [
    {
     "data": {
      "image/png": "[encoded data removed]",
      "text/plain": [
       "<Figure size 432x288 with 1 Axes>"
      ]
     },
     "metadata": {
      "needs_background": "light"
     },
     "output_type": "display_data"
    }
   ],
   "source": [
    "plt.scatter(X.exam1[y == 0], X.exam2[y == 0], c='k', label='Not admitted')\n",
    "plt.scatter(X.exam1[y == 1], X.exam2[y == 1], c='r', label='Admitted')\n",
    "plt.xlabel('Exam 1 score')\n",
    "plt.ylabel('Exam 2 score')\n",
    "plt.legend();"
   ]
  },
  {
   "cell_type": "code",
   "execution_count": 5,
   "metadata": {},
   "outputs": [],
   "source": [
    "X = X.values"
   ]
  },
  {
   "cell_type": "markdown",
   "metadata": {},
   "source": [
    "# 1.2 Implementation\n",
    "## 1.2.1 Sigmoid Function"
   ]
  },
  {
   "cell_type": "code",
   "execution_count": 6,
   "metadata": {},
   "outputs": [],
   "source": [
    "def sigmoid(z):\n",
    "    return 1 / (1 + np.exp(-z))"
   ]
  },
  {
   "cell_type": "code",
   "execution_count": 7,
   "metadata": {},
   "outputs": [
    {
     "data": {
      "image/png": "[encoded data removed]",
      "text/plain": [
       "<Figure size 432x288 with 1 Axes>"
      ]
     },
     "metadata": {
      "needs_background": "light"
     },
     "output_type": "display_data"
    }
   ],
   "source": [
    "# Test\n",
    "z = np.linspace(-10, 10, 100)\n",
    "sig = [sigmoid(x) for x in z]\n",
    "plt.plot(z, sig);"
   ]
  },
  {
   "cell_type": "code",
   "execution_count": 8,
   "metadata": {},
   "outputs": [],
   "source": [
    "def predict(theta, X):\n",
    "    return sigmoid(X @ theta).reshape(-1)"
   ]
  },
  {
   "cell_type": "code",
   "execution_count": 9,
   "metadata": {},
   "outputs": [],
   "source": [
    "def log_loss(theta, X, y):\n",
    "    m = X.shape[0]\n",
    "    preds = predict(theta, X)\n",
    "    loss = (-y*np.log(preds) - (1 - y)*np.log(1 - preds)).sum() / m\n",
    "    return loss"
   ]
  },
  {
   "cell_type": "code",
   "execution_count": 10,
   "metadata": {},
   "outputs": [],
   "source": [
    "def get_grad(theta, X, y):\n",
    "    m = X.shape[0]\n",
    "    preds = predict(theta, X)\n",
    "    grad = ((preds - y) @ X) / m  \n",
    "    return grad.reshape(theta.shape)"
   ]
  },
  {
   "cell_type": "code",
   "execution_count": 13,
   "metadata": {
    "scrolled": false
   },
   "outputs": [
    {
     "name": "stderr",
     "output_type": "stream",
     "text": [
      "/Library/Frameworks/Python.framework/Versions/3.7/lib/python3.7/site-packages/ipykernel_launcher.py:4: RuntimeWarning: divide by zero encountered in log\n",
      "  after removing the cwd from sys.path.\n"
     ]
    },
    {
     "name": "stdout",
     "output_type": "stream",
     "text": [
      "theta: [0.8098, 0.9679, 0.4748]\tloss: inf\n",
      "theta: [0.7918, 0.0249, -0.0244]\tloss: 0.715917478\n",
      "theta: [0.7841, 0.0050, -0.0056]\tloss: 0.687215658\n",
      "theta: [0.7765, 0.0051, -0.0056]\tloss: 0.686630365\n",
      "theta: [0.7689, 0.0051, -0.0055]\tloss: 0.686046062\n",
      "theta: [0.7612, 0.0052, -0.0054]\tloss: 0.685462745\n",
      "theta: [0.7536, 0.0052, -0.0054]\tloss: 0.684880413\n",
      "theta: [0.7460, 0.0053, -0.0053]\tloss: 0.684299065\n",
      "theta: [0.7383, 0.0053, -0.0053]\tloss: 0.683718699\n",
      "theta: [0.7307, 0.0054, -0.0052]\tloss: 0.683139313\n",
      "theta: [0.7231, 0.0054, -0.0051]\tloss: 0.682560908\n",
      "theta: [0.7155, 0.0055, -0.0051]\tloss: 0.681983480\n",
      "theta: [0.7079, 0.0055, -0.0050]\tloss: 0.681407029\n",
      "theta: [0.7004, 0.0056, -0.0050]\tloss: 0.680831554\n",
      "theta: [0.6928, 0.0056, -0.0049]\tloss: 0.680257053\n",
      "theta: [0.6852, 0.0057, -0.0049]\tloss: 0.679683525\n",
      "theta: [0.6776, 0.0058, -0.0048]\tloss: 0.679110968\n",
      "theta: [0.6701, 0.0058, -0.0047]\tloss: 0.678539381\n",
      "theta: [0.6625, 0.0059, -0.0047]\tloss: 0.677968762\n",
      "theta: [0.6550, 0.0059, -0.0046]\tloss: 0.677399112\n",
      "theta: [0.6474, 0.0060, -0.0046]\tloss: 0.676830427\n",
      "theta: [0.6399, 0.0060, -0.0045]\tloss: 0.676262706\n",
      "theta: [0.6324, 0.0061, -0.0044]\tloss: 0.675695949\n",
      "theta: [0.6249, 0.0061, -0.0044]\tloss: 0.675130154\n",
      "theta: [0.6173, 0.0062, -0.0043]\tloss: 0.674565319\n",
      "theta: [0.6098, 0.0062, -0.0043]\tloss: 0.674001443\n",
      "theta: [0.6023, 0.0063, -0.0042]\tloss: 0.673438525\n",
      "theta: [0.5948, 0.0063, -0.0042]\tloss: 0.672876564\n",
      "theta: [0.5873, 0.0064, -0.0041]\tloss: 0.672315557\n",
      "theta: [0.5799, 0.0064, -0.0040]\tloss: 0.671755505\n",
      "theta: [0.5724, 0.0065, -0.0040]\tloss: 0.671196404\n",
      "theta: [0.5649, 0.0065, -0.0039]\tloss: 0.670638254\n",
      "theta: [0.5574, 0.0066, -0.0039]\tloss: 0.670081054\n",
      "theta: [0.5500, 0.0066, -0.0038]\tloss: 0.669524802\n",
      "theta: [0.5425, 0.0067, -0.0038]\tloss: 0.668969497\n",
      "theta: [0.5351, 0.0067, -0.0037]\tloss: 0.668415138\n",
      "theta: [0.5277, 0.0068, -0.0036]\tloss: 0.667861722\n",
      "theta: [0.5202, 0.0068, -0.0036]\tloss: 0.667309249\n",
      "theta: [0.5128, 0.0069, -0.0035]\tloss: 0.666757717\n",
      "theta: [0.5054, 0.0069, -0.0035]\tloss: 0.666207125\n",
      "theta: [0.4980, 0.0070, -0.0034]\tloss: 0.665657472\n",
      "theta: [0.4906, 0.0070, -0.0034]\tloss: 0.665108755\n",
      "theta: [0.4832, 0.0071, -0.0033]\tloss: 0.664560975\n",
      "theta: [0.4758, 0.0071, -0.0032]\tloss: 0.664014129\n",
      "theta: [0.4684, 0.0072, -0.0032]\tloss: 0.663468216\n",
      "theta: [0.4610, 0.0072, -0.0031]\tloss: 0.662923234\n",
      "theta: [0.4536, 0.0073, -0.0031]\tloss: 0.662379183\n",
      "theta: [0.4462, 0.0073, -0.0030]\tloss: 0.661836060\n",
      "theta: [0.4389, 0.0074, -0.0030]\tloss: 0.661293865\n",
      "theta: [0.4315, 0.0074, -0.0029]\tloss: 0.660752596\n"
     ]
    },
    {
     "data": {
      "image/png": "[encoded data removed]",
      "text/plain": [
       "<Figure size 432x288 with 1 Axes>"
      ]
     },
     "metadata": {
      "needs_background": "light"
     },
     "output_type": "display_data"
    }
   ],
   "source": [
    "ITERS = 5000\n",
    "ALPHA = 0.001\n",
    "\n",
    "theta = np.random.rand(3).reshape([3, 1])\n",
    "losses = []\n",
    "for i in range(ITERS):\n",
    "    loss = log_loss(theta, X, y)\n",
    "    losses.append(loss)\n",
    "    if i % 100 == 0:\n",
    "        print(f'theta: [{theta[0, 0]:.4f}, {theta[1, 0]:.4f}, '\n",
    "              f'{theta[2, 0]:.4f}]\\tloss: {loss:.9f}')\n",
    "    grad = get_grad(theta, X, y)\n",
    "    theta -= (ALPHA * grad)\n",
    "    #ALPHA *= 0.96\n",
    "    \n",
    "plt.plot(losses);"
   ]
  },
  {
   "cell_type": "code",
   "execution_count": 14,
   "metadata": {},
   "outputs": [
    {
     "data": {
      "text/plain": [
       "array([[ 0.4241706 ],\n",
       "       [ 0.00749355],\n",
       "       [-0.0028385 ]])"
      ]
     },
     "execution_count": 14,
     "metadata": {},
     "output_type": "execute_result"
    }
   ],
   "source": [
    "theta"
   ]
  },
  {
   "cell_type": "code",
   "execution_count": 221,
   "metadata": {},
   "outputs": [
    {
     "data": {
      "text/plain": [
       "array([0.6094674 , 0.64732596, 0.61846537, 0.64191699, 0.68629294,\n",
       "       0.65571795, 0.63006386, 0.71446268, 0.66663085, 0.73157689,\n",
       "       0.7532049 , 0.73255405, 0.69001083, 0.64235901, 0.62059036,\n",
       "       0.62764411, 0.69821062, 0.70371302, 0.65072696, 0.71617157,\n",
       "       0.70737416, 0.71388676, 0.67397397, 0.653403  , 0.69231453,\n",
       "       0.66634379, 0.72402382, 0.74886334, 0.6900403 , 0.63396441,\n",
       "       0.66128383, 0.71767526, 0.65850273, 0.65030581, 0.62826179,\n",
       "       0.67632515, 0.57971615, 0.65551299, 0.71985031, 0.61246791,\n",
       "       0.71631828, 0.67807111, 0.72116866, 0.73188222, 0.67855893,\n",
       "       0.6884565 , 0.68937913, 0.7014756 , 0.63135844, 0.68956365,\n",
       "       0.68915566, 0.73327094, 0.74036286, 0.63283972, 0.6723924 ,\n",
       "       0.65862077, 0.72208643, 0.58186997, 0.68555711, 0.67098355,\n",
       "       0.66758998, 0.65155385, 0.69470615, 0.63952585, 0.64192582,\n",
       "       0.70820587, 0.59307666, 0.66783495, 0.6674555 , 0.68461889,\n",
       "       0.65211223, 0.65896585, 0.6492491 , 0.65941727, 0.65323008,\n",
       "       0.72127081, 0.61717201, 0.63937603, 0.69726378, 0.72933112,\n",
       "       0.70807748, 0.74382067, 0.67862566, 0.6713739 , 0.66905048,\n",
       "       0.65654421, 0.62117618, 0.66182178, 0.65904368, 0.66189666,\n",
       "       0.70722424, 0.68927068, 0.69795098, 0.6672869 , 0.73722505,\n",
       "       0.72477475, 0.61040499, 0.72461073, 0.66147232, 0.6618176 ])"
      ]
     },
     "execution_count": 221,
     "metadata": {},
     "output_type": "execute_result"
    }
   ],
   "source": [
    "preds = predict(theta, X)\n",
    "preds"
   ]
  },
  {
   "cell_type": "code",
   "execution_count": 218,
   "metadata": {},
   "outputs": [],
   "source": [
    "def pred_absolute(thresh, preds):\n",
    "    preds = map(lambda x: 1 if x >= thresh else 0, preds)\n",
    "    return list(preds)"
   ]
  },
  {
   "cell_type": "code",
   "execution_count": 224,
   "metadata": {},
   "outputs": [],
   "source": [
    "def get_accuracy(y, preds):\n",
    "    return (y == preds).sum() / len(y)"
   ]
  },
  {
   "cell_type": "code",
   "execution_count": 232,
   "metadata": {},
   "outputs": [],
   "source": [
    "def optimize_threshold(y, preds):\n",
    "    best_acc = 0\n",
    "    accs = []\n",
    "    best_threshold = 0.5\n",
    "    thresholds = np.linspace(0.2, 0.8, 100)\n",
    "    for thresh in thresholds:\n",
    "        abs_preds = pred_absolute(thresh, preds)\n",
    "        acc = get_accuracy(y, abs_preds)\n",
    "        if acc > best_acc:\n",
    "            best_acc = acc\n",
    "            best_threshold = thresh\n",
    "        accs.append(acc)\n",
    "    plt.plot(thresholds, accs)\n",
    "    return best_threshold"
   ]
  },
  {
   "cell_type": "code",
   "execution_count": 233,
   "metadata": {},
   "outputs": [
    {
     "data": {
      "text/plain": [
       "0.6242424242424243"
      ]
     },
     "execution_count": 233,
     "metadata": {},
     "output_type": "execute_result"
    },
    {
     "data": {
      "image/png": "[encoded data removed]",
      "text/plain": [
       "<Figure size 432x288 with 1 Axes>"
      ]
     },
     "metadata": {
      "needs_background": "light"
     },
     "output_type": "display_data"
    }
   ],
   "source": [
    "optimize_threshold(y, preds)"
   ]
  },
  {
   "cell_type": "code",
   "execution_count": null,
   "metadata": {},
   "outputs": [],
   "source": []
  }
 ],
 "metadata": {
  "kernelspec": {
   "display_name": "Python 3",
   "language": "python",
   "name": "python3"
  },
  "language_info": {
   "codemirror_mode": {
    "name": "ipython",
    "version": 3
   },
   "file_extension": ".py",
   "mimetype": "text/x-python",
   "name": "python",
   "nbconvert_exporter": "python",
   "pygments_lexer": "ipython3",
   "version": "3.7.5"
  }
 },
 "nbformat": 4,
 "nbformat_minor": 2
}
