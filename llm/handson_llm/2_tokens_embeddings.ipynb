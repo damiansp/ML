{
 "cells": [
  {
   "cell_type": "code",
   "execution_count": 3,
   "id": "53bc7c8d",
   "metadata": {},
   "outputs": [
    {
     "name": "stdout",
     "output_type": "stream",
     "text": [
      "Coding along with\r\n",
      "<a href=\"https://github.com/HandsOnLLM/Hands-On-Large-Language-Models\">this book/repo</a>.\r\n"
     ]
    }
   ],
   "source": [
    "!cat README.md"
   ]
  },
  {
   "cell_type": "code",
   "execution_count": null,
   "id": "69399e77",
   "metadata": {},
   "outputs": [],
   "source": [
    "# !pip install --upgrade transformers==4.41.2 \\\n",
    "#    sentence-transformers==3.0.1 gensim==4.3.2 scikit-learn==1.5.0 \\\n",
    "#    accelerate==0.31.0 peft==0.11.1 scipy==1.10.1 numpy==1.26.4"
   ]
  },
  {
   "cell_type": "code",
   "execution_count": 1,
   "id": "cd0568aa",
   "metadata": {},
   "outputs": [],
   "source": [
    "import gensim.downloader as api\n",
    "from gensim.models import Word2Vec\n",
    "import pandas as pd\n",
    "from sentence_transformers import SentenceTransformer\n",
    "from transformers import AutoModel, AutoModelForCausalLM, AutoTokenizer\n",
    "from urllib import request"
   ]
  },
  {
   "cell_type": "code",
   "execution_count": null,
   "id": "db92f4ef",
   "metadata": {},
   "outputs": [],
   "source": [
    "mod_name = 'microsoft/Phi-3-mini-4k-instruct'\n",
    "mod = AutoModelForCausalLM.from_pretrained(\n",
    "    mod_name,\n",
    "    device_map='cuda', \n",
    "    torch_dtype='auto', \n",
    "    trust_remote_code=True)\n",
    "tokenizer = AutoTokenizer.from_pretrained(mod_name)"
   ]
  },
  {
   "cell_type": "code",
   "execution_count": null,
   "id": "e54352af",
   "metadata": {},
   "outputs": [],
   "source": [
    "prompt = (\n",
    "    'Write an email apologizing to Sarah for the tragic gardening '\n",
    "    'mishap. Explain how it happened. <|assistant|>')\n",
    "\n",
    "# tokenize the prompt\n",
    "input_ids = tokenizer(prompt, return_tensors='pt').input_ids.to('cuda')"
   ]
  },
  {
   "cell_type": "code",
   "execution_count": null,
   "id": "6cd88e7f",
   "metadata": {},
   "outputs": [],
   "source": [
    "for id in input_ids[0]:\n",
    "    print(tokenizer_decode(id))"
   ]
  },
  {
   "cell_type": "code",
   "execution_count": null,
   "id": "dd829bc2",
   "metadata": {},
   "outputs": [],
   "source": [
    "# generate text\n",
    "generation_output = mod.generate(input_ids=input_ids, max_new_tokens=20)\n",
    "print(tokenizer.decode(generation_output[0]))"
   ]
  },
  {
   "cell_type": "code",
   "execution_count": null,
   "id": "65a09339",
   "metadata": {},
   "outputs": [],
   "source": [
    "generation_output"
   ]
  },
  {
   "cell_type": "code",
   "execution_count": null,
   "id": "a9ff1dc8",
   "metadata": {},
   "outputs": [],
   "source": [
    "print(tokenizer.decode(3323))\n",
    "print(tokenizer.decode(622))\n",
    "print(tokenizer.decode([3323, 622]))\n",
    "print(tokenizer.decode(29901))"
   ]
  },
  {
   "cell_type": "code",
   "execution_count": null,
   "id": "e85dc3f5",
   "metadata": {},
   "outputs": [],
   "source": [
    "text = '''\n",
    "English and CAPITALIZATION\n",
    "🎵 鸟\n",
    "show_tokens False None elif == >= else: two tabs:\"    \" Three tabs: \"       \"\n",
    "12.0*50=600\n",
    "'''"
   ]
  },
  {
   "cell_type": "code",
   "execution_count": null,
   "id": "c3fce297",
   "metadata": {},
   "outputs": [],
   "source": [
    "colors_list = [\n",
    "    '102;194;165', '252;141;98', '141;160;203', '231;138;195', \n",
    "    '166;216;84', '255;217;47']"
   ]
  },
  {
   "cell_type": "code",
   "execution_count": null,
   "id": "b14d3548",
   "metadata": {},
   "outputs": [],
   "source": [
    "def show_tokens(sentence, tokenizer_name):\n",
    "    tokenizer = AutoTokenizer.from_pretrained(tokenizer_name)\n",
    "    token_ids = tokenizer(sentence).input_ids\n",
    "    for i, token in enumerate(toden_ids):\n",
    "        print(\n",
    "            f'\\x1b[0;30;48;2;{colors_list[i % len(colors_list)]}m'\n",
    "            f'{tokenizer.decode(token)}\\x1b[0m', \n",
    "            end='')"
   ]
  },
  {
   "cell_type": "code",
   "execution_count": null,
   "id": "c2c6ea09",
   "metadata": {},
   "outputs": [],
   "source": [
    "mod_base_name = 'microsoft/deberta'\n",
    "tokenizer = AutoTokenizer.from_pretrained(f'{mod_base_name}-base')\n",
    "model = AutoMOdel.from_pretrained(f'{mod_base_name}-v3-xsmall')\n",
    "tokens = tokenizer('Hello world', return_tensors='pt')\n",
    "ouput = model(**tokens)[0]\n",
    "print(output.shape)  # (1, 4, 384)\n",
    "for token in tokens['input_ids'][0]:\n",
    "    ptint(tokenizer.decode(token))  # [CLS], Hello, world, [SEP]"
   ]
  },
  {
   "cell_type": "code",
   "execution_count": null,
   "id": "da6129ed",
   "metadata": {},
   "outputs": [],
   "source": [
    "sent_mod = 'sentence-transformers/all-mpnet-base-v2'\n",
    "model = SentenceTransformer(sent_mod)\n",
    "vector = model.encode('Best movie ever!')\n",
    "print(vector.shape)  # (768,)"
   ]
  },
  {
   "cell_type": "code",
   "execution_count": null,
   "id": "3cc65810",
   "metadata": {},
   "outputs": [],
   "source": [
    "model = api.load('glove-wiki-gigaword-50')\n",
    "model.most_similar([model['king']], topn=11)"
   ]
  },
  {
   "cell_type": "markdown",
   "id": "34707e1f",
   "metadata": {},
   "source": [
    "### Training a Song Embedding Model"
   ]
  },
  {
   "cell_type": "code",
   "execution_count": null,
   "id": "8893fa50",
   "metadata": {},
   "outputs": [],
   "source": [
    "base_path = (\n",
    "    'https://storage.googleapis.com/maps-premium/dataset/yes_complete/')\n",
    "data = request.urlopen(f'{base_path}/train.txt')"
   ]
  },
  {
   "cell_type": "code",
   "execution_count": null,
   "id": "6ca3fa58",
   "metadata": {},
   "outputs": [],
   "source": [
    "lines = data.read().decode('utf-8').split('\\n')[2:]\n",
    "playlists = [s.rtrip().split() for s in lines if len(s.split()) > 1]"
   ]
  },
  {
   "cell_type": "code",
   "execution_count": null,
   "id": "5e073736",
   "metadata": {},
   "outputs": [],
   "source": [
    "songs_file = requests.urlopen(f'{base_path}/song_hash.txt')\n",
    "songs_file = songs_file.rea().decode('utf-8').split('\\n')\n",
    "songs = [s.rstrip().split('\\t') for s in songs_file]\n",
    "songs_df = pd.DataFrame(data=songs, columns=['id', 'title', 'artist'])\n",
    "songs_df = songs_df.set_index('id')"
   ]
  },
  {
   "cell_type": "code",
   "execution_count": null,
   "id": "f8217bcd",
   "metadata": {},
   "outputs": [],
   "source": [
    "print('Playlist 1:', playlists[0])\n",
    "print('Playlist 2:', playlists[1])"
   ]
  },
  {
   "cell_type": "code",
   "execution_count": null,
   "id": "5afc0535",
   "metadata": {},
   "outputs": [],
   "source": [
    "model = Word2Vec(\n",
    "    playlists, \n",
    "    vector_size=32, \n",
    "    window=20, \n",
    "    negative=50, \n",
    "    min_count=1, \n",
    "    workers=4)"
   ]
  },
  {
   "cell_type": "code",
   "execution_count": null,
   "id": "d979e50b",
   "metadata": {},
   "outputs": [],
   "source": [
    "song_id = 2172\n",
    "print(songs_df.iloc[song_id])"
   ]
  },
  {
   "cell_type": "code",
   "execution_count": null,
   "id": "939f6de2",
   "metadata": {},
   "outputs": [],
   "source": [
    "def print_recommendations(song_id):\n",
    "    similar = np.array(\n",
    "        model.wv.most_similar(positive=str(song_id), topn=10)\n",
    "    )[:, 0]\n",
    "    return songs_df.iloc[similar]"
   ]
  },
  {
   "cell_type": "code",
   "execution_count": null,
   "id": "8df9f292",
   "metadata": {},
   "outputs": [],
   "source": [
    "print_recommendations(song_id)"
   ]
  },
  {
   "cell_type": "code",
   "execution_count": null,
   "id": "c51b997d",
   "metadata": {},
   "outputs": [],
   "source": []
  }
 ],
 "metadata": {
  "kernelspec": {
   "display_name": "Python 3 (ipykernel)",
   "language": "python",
   "name": "python3"
  },
  "language_info": {
   "codemirror_mode": {
    "name": "ipython",
    "version": 3
   },
   "file_extension": ".py",
   "mimetype": "text/x-python",
   "name": "python",
   "nbconvert_exporter": "python",
   "pygments_lexer": "ipython3",
   "version": "3.11.3"
  }
 },
 "nbformat": 4,
 "nbformat_minor": 5
}
