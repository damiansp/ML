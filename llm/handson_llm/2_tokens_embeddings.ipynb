{
 "cells": [
  {
   "cell_type": "code",
   "execution_count": null,
   "id": "69399e77",
   "metadata": {},
   "outputs": [],
   "source": [
    "# !pip install --upgrade transformers==4.41.2 \\\n",
    "#    sentence-transformers==3.0.1 gensim==4.3.2 scikit-learn==1.5.0 \\\n",
    "#    accelerate==0.31.0 peft==0.11.1 scipy==1.10.1 numpy==1.26.4"
   ]
  },
  {
   "cell_type": "code",
   "execution_count": 1,
   "id": "cd0568aa",
   "metadata": {},
   "outputs": [],
   "source": [
    "from transformers import AutoModelForCausalLM, AutoTokenizer"
   ]
  },
  {
   "cell_type": "code",
   "execution_count": null,
   "id": "db92f4ef",
   "metadata": {},
   "outputs": [],
   "source": [
    "mod_name = 'microsoft/Phi-3-mini-4k-instruct'\n",
    "mod = AutoModelForCausalLM.from_pretrained(\n",
    "    mod_name,\n",
    "    device_map='cuda', \n",
    "    torch_dtype='auto', \n",
    "    trust_remote_code=True)\n",
    "tokenizer = AutoTokenizer.from_pretrained(mod_name)"
   ]
  },
  {
   "cell_type": "code",
   "execution_count": null,
   "id": "e54352af",
   "metadata": {},
   "outputs": [],
   "source": [
    "prompt = (\n",
    "    'Write an email apologizing to Sarah for the tragic gardening '\n",
    "    'mishap. Explain how it happened. <|assistant|>')\n",
    "\n",
    "# tokenize the prompt\n",
    "input_ids = tokenizer(prompt, return_tensors='pt').input_ids.to('cuda')"
   ]
  },
  {
   "cell_type": "code",
   "execution_count": null,
   "id": "6cd88e7f",
   "metadata": {},
   "outputs": [],
   "source": [
    "for id in input_ids[0]:\n",
    "    print(tokenizer_decode(id))"
   ]
  },
  {
   "cell_type": "code",
   "execution_count": null,
   "id": "dd829bc2",
   "metadata": {},
   "outputs": [],
   "source": [
    "# generate text\n",
    "generation_output = mod.generate(input_ids=input_ids, max_new_tokens=20)\n",
    "print(tokenizer.decode(generation_output[0]))"
   ]
  },
  {
   "cell_type": "code",
   "execution_count": null,
   "id": "65a09339",
   "metadata": {},
   "outputs": [],
   "source": [
    "generation_output"
   ]
  },
  {
   "cell_type": "code",
   "execution_count": null,
   "id": "a9ff1dc8",
   "metadata": {},
   "outputs": [],
   "source": [
    "print(tokenizer.decode(3323))\n",
    "print(tokenizer.decode(622))\n",
    "print(tokenizer.decode([3323, 622]))\n",
    "print(tokenizer.decode(29901))"
   ]
  }
 ],
 "metadata": {
  "kernelspec": {
   "display_name": "Python 3 (ipykernel)",
   "language": "python",
   "name": "python3"
  },
  "language_info": {
   "codemirror_mode": {
    "name": "ipython",
    "version": 3
   },
   "file_extension": ".py",
   "mimetype": "text/x-python",
   "name": "python",
   "nbconvert_exporter": "python",
   "pygments_lexer": "ipython3",
   "version": "3.11.3"
  }
 },
 "nbformat": 4,
 "nbformat_minor": 5
}
