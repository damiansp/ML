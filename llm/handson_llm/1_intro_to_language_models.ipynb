{
 "cells": [
  {
   "cell_type": "markdown",
   "id": "a2ef82e8",
   "metadata": {},
   "source": [
    "<a href=\"https://colab.research.google.com/github/HandsOnLLM/Hands-On-Large-Language-Models/blob/main/chapter01/Chapter%201%20-%20Introduction%20to%20Language%20Models.ipynb\">Repo version in Colab</a>"
   ]
  },
  {
   "cell_type": "code",
   "execution_count": 1,
   "id": "612e511f",
   "metadata": {},
   "outputs": [],
   "source": [
    "from transformers import AutoModelForCausalLM, AutoTokenizer, pipeline"
   ]
  },
  {
   "cell_type": "code",
   "execution_count": null,
   "id": "a7bebe64",
   "metadata": {},
   "outputs": [],
   "source": [
    "mod_name = 'microsoft/Phi-3-mini-4k-instruct'\n",
    "model = AutoModelForCausalLM.from_pretrained(\n",
    "    mod_name, \n",
    "    device_map='cuda', \n",
    "    torch_dtype='auto', \n",
    "    trust_remote_code=False)\n",
    "tokenizer = AutoTokenizer.from_pretrained(mod_name)"
   ]
  },
  {
   "cell_type": "code",
   "execution_count": null,
   "id": "17676ab3",
   "metadata": {},
   "outputs": [],
   "source": [
    "generator = pipeline(\n",
    "    'text-generation',\n",
    "    model=model,\n",
    "    tokenizer=tokenizer,\n",
    "    return_full_text=False,  # omits prompt\n",
    "    max_new_tokens=500,\n",
    "    do_sample=False)         # selects most probable (deterministic)"
   ]
  },
  {
   "cell_type": "code",
   "execution_count": null,
   "id": "e3e1ce67",
   "metadata": {},
   "outputs": [],
   "source": [
    "# prompt (user query)\n",
    "messages = [\n",
    "    {'role': 'user', 'content': 'Create a funny joke about chickens.'}]\n",
    "output = generator(messages)\n",
    "print(output[0]['generated_text'])"
   ]
  }
 ],
 "metadata": {
  "kernelspec": {
   "display_name": "Python 3 (ipykernel)",
   "language": "python",
   "name": "python3"
  },
  "language_info": {
   "codemirror_mode": {
    "name": "ipython",
    "version": 3
   },
   "file_extension": ".py",
   "mimetype": "text/x-python",
   "name": "python",
   "nbconvert_exporter": "python",
   "pygments_lexer": "ipython3",
   "version": "3.11.3"
  }
 },
 "nbformat": 4,
 "nbformat_minor": 5
}
